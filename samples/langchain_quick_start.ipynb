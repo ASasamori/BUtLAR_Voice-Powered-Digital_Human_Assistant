{
  "cells": [
    {
      "cell_type": "code",
      "execution_count": null,
      "metadata": {
        "id": "6zvUr-Qev6lL"
      },
      "outputs": [],
      "source": [
        "# Copyright 2024 Google LLC\n",
        "#\n",
        "# Licensed under the Apache License, Version 2.0 (the \"License\");\n",
        "# you may not use this file except in compliance with the License.\n",
        "# You may obtain a copy of the License at\n",
        "#\n",
        "#     https://www.apache.org/licenses/LICENSE-2.0\n",
        "#\n",
        "# Unless required by applicable law or agreed to in writing, software\n",
        "# distributed under the License is distributed on an \"AS IS\" BASIS,\n",
        "# WITHOUT WARRANTIES OR CONDITIONS OF ANY KIND, either express or implied.\n",
        "# See the License for the specific language governing permissions and\n",
        "# limitations under the License."
      ]
    },
    {
      "cell_type": "markdown",
      "metadata": {
        "id": "ob11AkrStrRI"
      },
      "source": [
        "[![Open In Colab](https://colab.research.google.com/assets/colab-badge.svg)](https://colab.research.google.com/github/googleapis/langchain-google-cloud-sql-pg-python/blob/main/samples/langchain_quick_start.ipynb)\n",
        "\n",
        "---\n",
        "# **Introduction**\n",
        "\n",
        "In this codelab, you'll learn how to create a powerful interactive generative AI application using Retrieval Augmented Generation powered by [Cloud SQL for PostgreSQL](https://cloud.google.com/sql/docs/postgres) and [LangChain](https://www.langchain.com/). We will be creating an application grounded in a [Netflix Movie dataset](https://www.kaggle.com/datasets/shivamb/netflix-shows), allowing you to interact with movie data in exciting new ways."
      ]
    },
    {
      "cell_type": "markdown",
      "metadata": {
        "id": "Ma6pEng3ypbA"
      },
      "source": [
        "## Prerequisites\n",
        "\n",
        "* A basic understanding of the Google Cloud Console\n",
        "* Basic skills in command line interface and Google Cloud shell\n",
        "* Basic python knowledge"
      ]
    },
    {
      "cell_type": "markdown",
      "metadata": {
        "id": "DzDgqJHgysy1"
      },
      "source": [
        "## What you'll learn\n",
        "\n",
        "* How to deploy a Cloud SQL for PostgreSQL instance\n",
        "* How to use Cloud SQL for PostgreSQL as a DocumentLoader\n",
        "* How to use Cloud SQL for PostgreSQL as a VectorStore\n",
        "* How to use Cloud SQL for PostgreSQL for ChatMessageHistory storage"
      ]
    },
    {
      "cell_type": "markdown",
      "metadata": {
        "id": "FbcZUjT1yvTq"
      },
      "source": [
        "## What you'll need\n",
        "* A Google Cloud Account and Google Cloud Project\n",
        "* A web browser such as [Chrome](https://www.google.com/chrome/)"
      ]
    },
    {
      "cell_type": "markdown",
      "metadata": {
        "id": "vHdR4fF3vLWA"
      },
      "source": [
        "# **Setup and Requirements**\n",
        "\n",
        "In the following instructions you will learn to:\n",
        "1. Install required dependencies for our application\n",
        "2. Set up authentication for our project\n",
        "3. Set up a Cloud SQL for PostgreSQL Instance\n",
        "4. Import the data used by our application"
      ]
    },
    {
      "cell_type": "markdown",
      "metadata": {
        "id": "uy9KqgPQ4GBi"
      },
      "source": [
        "## Install dependencies\n",
        "First you will need to install the dependencies needed to run this demo app."
      ]
    },
    {
      "cell_type": "code",
      "execution_count": 10,
      "metadata": {
        "id": "M_ppDxYf4Gqs",
        "outputId": "98b8eaaa-d92f-4b81-85d6-e0b19f850a1b",
        "colab": {
          "base_uri": "https://localhost:8080/",
          "height": 457
        }
      },
      "outputs": [
        {
          "output_type": "stream",
          "name": "stdout",
          "text": [
            "Collecting google-auth==2.27.0\n",
            "  Downloading google_auth-2.27.0-py2.py3-none-any.whl.metadata (4.7 kB)\n",
            "Requirement already satisfied: cachetools<6.0,>=2.0.0 in /usr/local/lib/python3.10/dist-packages (from google-auth==2.27.0) (5.5.0)\n",
            "Requirement already satisfied: pyasn1-modules>=0.2.1 in /usr/local/lib/python3.10/dist-packages (from google-auth==2.27.0) (0.4.1)\n",
            "Requirement already satisfied: rsa<5,>=3.1.4 in /usr/local/lib/python3.10/dist-packages (from google-auth==2.27.0) (4.9)\n",
            "Requirement already satisfied: pyasn1<0.7.0,>=0.4.6 in /usr/local/lib/python3.10/dist-packages (from pyasn1-modules>=0.2.1->google-auth==2.27.0) (0.6.1)\n",
            "Downloading google_auth-2.27.0-py2.py3-none-any.whl (186 kB)\n",
            "\u001b[?25l   \u001b[90m━━━━━━━━━━━━━━━━━━━━━━━━━━━━━━━━━━━━━━━━\u001b[0m \u001b[32m0.0/186.8 kB\u001b[0m \u001b[31m?\u001b[0m eta \u001b[36m-:--:--\u001b[0m\r\u001b[2K   \u001b[91m━━━━━━━━━━━━━━━━━━━━━━━━━━━━━━━━\u001b[0m\u001b[91m╸\u001b[0m\u001b[90m━━━━━━━\u001b[0m \u001b[32m153.6/186.8 kB\u001b[0m \u001b[31m4.8 MB/s\u001b[0m eta \u001b[36m0:00:01\u001b[0m\r\u001b[2K   \u001b[90m━━━━━━━━━━━━━━━━━━━━━━━━━━━━━━━━━━━━━━━━\u001b[0m \u001b[32m186.8/186.8 kB\u001b[0m \u001b[31m3.6 MB/s\u001b[0m eta \u001b[36m0:00:00\u001b[0m\n",
            "\u001b[?25hInstalling collected packages: google-auth\n",
            "  Attempting uninstall: google-auth\n",
            "    Found existing installation: google-auth 2.36.0\n",
            "    Uninstalling google-auth-2.36.0:\n",
            "      Successfully uninstalled google-auth-2.36.0\n",
            "\u001b[31mERROR: pip's dependency resolver does not currently take into account all the packages that are installed. This behaviour is the source of the following dependency conflicts.\n",
            "cloud-sql-python-connector 1.13.0 requires google-auth>=2.28.0, but you have google-auth 2.27.0 which is incompatible.\u001b[0m\u001b[31m\n",
            "\u001b[0mSuccessfully installed google-auth-2.27.0\n"
          ]
        },
        {
          "output_type": "display_data",
          "data": {
            "application/vnd.colab-display-data+json": {
              "pip_warning": {
                "packages": [
                  "google"
                ]
              },
              "id": "5d213634561942f7a0fb66c3c1e50acb"
            }
          },
          "metadata": {}
        },
        {
          "output_type": "stream",
          "name": "stdout",
          "text": [
            "\u001b[31mERROR: pip's dependency resolver does not currently take into account all the packages that are installed. This behaviour is the source of the following dependency conflicts.\n",
            "google-colab 1.0.0 requires google-auth==2.27.0, but you have google-auth 2.36.0 which is incompatible.\u001b[0m\u001b[31m\n",
            "\u001b[0m"
          ]
        }
      ],
      "source": [
        "%pip install google-auth==2.27.0\n",
        "%pip install --upgrade --quiet langchain-google-cloud-sql-pg langchain-google-vertexai langchain"
      ]
    },
    {
      "cell_type": "markdown",
      "metadata": {
        "id": "0fRWdsXp0w2s"
      },
      "source": [
        "**Colab only:** Uncomment the following cell to restart the kernel or use the button to restart the kernel. For Vertex AI Workbench you can restart the terminal using the button on top."
      ]
    },
    {
      "cell_type": "code",
      "execution_count": null,
      "metadata": {
        "id": "V4GZV0a70w2s"
      },
      "outputs": [],
      "source": [
        "# Automatically restart kernel after installs so that your environment can access the new packages\n",
        "import IPython\n",
        "\n",
        "app = IPython.Application.instance()\n",
        "app.kernel.do_shutdown(True)"
      ]
    },
    {
      "cell_type": "markdown",
      "metadata": {
        "id": "DeUbHclxw7_l"
      },
      "source": [
        "## Authenticate to Google Cloud within Colab\n",
        "In order to access your Google Cloud Project from this notebook, you will need to Authenticate as an IAM user."
      ]
    },
    {
      "cell_type": "code",
      "execution_count": 2,
      "metadata": {
        "id": "a168rJE1xDHO"
      },
      "outputs": [],
      "source": [
        "from google.colab import auth\n",
        "\n",
        "auth.authenticate_user()"
      ]
    },
    {
      "cell_type": "markdown",
      "metadata": {
        "id": "UCiNGP1Qxd6x"
      },
      "source": [
        "## Connect Your Google Cloud Project\n",
        "Time to connect your Google Cloud Project to this notebook so that you can leverage Google Cloud from within Colab."
      ]
    },
    {
      "cell_type": "code",
      "execution_count": 1,
      "metadata": {
        "cellView": "form",
        "id": "qjFuhRhVxlWP",
        "outputId": "6db02695-94a9-4cb2-f46c-ea7cfedd1634",
        "colab": {
          "base_uri": "https://localhost:8080/"
        }
      },
      "outputs": [
        {
          "output_type": "stream",
          "name": "stdout",
          "text": [
            "Updated property [core/project].\n"
          ]
        }
      ],
      "source": [
        "# @markdown Please fill in the value below with your GCP project ID and then run the cell.\n",
        "\n",
        "# Please fill in these values.\n",
        "project_id = \"sanguine-orb-441020-p6\"  # @param {type:\"string\"}\n",
        "\n",
        "# Quick input validations.\n",
        "assert project_id, \"⚠️ Please provide a Google Cloud project ID\"\n",
        "\n",
        "# Configure gcloud.\n",
        "!gcloud config set project {project_id}"
      ]
    },
    {
      "cell_type": "markdown",
      "metadata": {
        "id": "O-oqMC5Ox-ZM"
      },
      "source": [
        "## Configure Your Google Cloud Project\n",
        "\n",
        "Configure the following in your Google Cloud Project."
      ]
    },
    {
      "cell_type": "markdown",
      "metadata": {
        "id": "mEjukmJR0w2s"
      },
      "source": [
        "1. IAM principal (user, service account, etc.) with the [Cloud SQL Client][client-role] role. The user logged into this notebook will be used as the IAM principal and will be granted the Cloud SQL Client role.\n",
        "\n",
        "[client-role]: https://cloud.google.com/sql/docs/mysql/roles-and-permissions"
      ]
    },
    {
      "cell_type": "code",
      "execution_count": 3,
      "metadata": {
        "id": "W_neZnoN0w2s",
        "outputId": "698880f6-4127-418b-aed8-8fc7d8e693b8",
        "colab": {
          "base_uri": "https://localhost:8080/"
        }
      },
      "outputs": [
        {
          "output_type": "stream",
          "name": "stdout",
          "text": [
            "Updated IAM policy for project [sanguine-orb-441020-p6].\n",
            "bindings:\n",
            "- members:\n",
            "  - user:suhanimitra20@gmail.com\n",
            "  role: roles/cloudsql.client\n",
            "- members:\n",
            "  - user:andrewsasamori@gmail.com\n",
            "  role: roles/cloudsql.instanceUser\n",
            "- members:\n",
            "  - serviceAccount:service-232809154320@compute-system.iam.gserviceaccount.com\n",
            "  role: roles/compute.serviceAgent\n",
            "- members:\n",
            "  - serviceAccount:232809154320-compute@developer.gserviceaccount.com\n",
            "  - serviceAccount:232809154320@cloudservices.gserviceaccount.com\n",
            "  role: roles/editor\n",
            "- members:\n",
            "  - user:andrewsasamori@gmail.com\n",
            "  - user:noamargolin12@gmail.com\n",
            "  - user:suhanimitra20@gmail.com\n",
            "  role: roles/owner\n",
            "- members:\n",
            "  - user:jesalamy@gmail.com\n",
            "  role: roles/resourcemanager.projectOwnerInvitee\n",
            "- members:\n",
            "  - serviceAccount:seniordesignspeechtotext@sanguine-orb-441020-p6.iam.gserviceaccount.com\n",
            "  role: roles/speech.client\n",
            "etag: BwYm5xzquf0=\n",
            "version: 1\n"
          ]
        }
      ],
      "source": [
        "current_user = !gcloud auth list --filter=status:ACTIVE --format=\"value(account)\"\n",
        "!gcloud projects add-iam-policy-binding {project_id} \\\n",
        "  --member=user:{current_user[0]} \\\n",
        "  --role=\"roles/cloudsql.client\""
      ]
    },
    {
      "cell_type": "markdown",
      "metadata": {
        "id": "smyXqpjU0w2s"
      },
      "source": [
        "2. Enable the APIs for Cloud SQL and Vertex AI within your project."
      ]
    },
    {
      "cell_type": "code",
      "execution_count": 4,
      "metadata": {
        "id": "CKWrwyfzyTwH",
        "outputId": "7c8e8bae-71c8-45f1-f4b6-943694c50990",
        "colab": {
          "base_uri": "https://localhost:8080/"
        }
      },
      "outputs": [
        {
          "output_type": "stream",
          "name": "stdout",
          "text": [
            "Operation \"operations/acat.p2-232809154320-74e1a2c0-663f-403d-815a-9227596feb13\" finished successfully.\n"
          ]
        }
      ],
      "source": [
        "# Enable GCP services\n",
        "!gcloud services enable sqladmin.googleapis.com aiplatform.googleapis.com"
      ]
    },
    {
      "cell_type": "markdown",
      "metadata": {
        "id": "Gn8g7-wCyZU6"
      },
      "source": [
        "## Set up Cloud SQL\n",
        "You will need a **Postgres** Cloud SQL instance for the following stages of this notebook."
      ]
    },
    {
      "cell_type": "markdown",
      "metadata": {
        "id": "T616pEOUygYQ"
      },
      "source": [
        "### Create a Postgres Instance\n",
        "Running the below cell will verify the existence of the Cloud SQL instance and or create a new instance and database if one does not exist.\n",
        "\n",
        "> ⏳ - Creating a Cloud SQL instance may take a few minutes."
      ]
    },
    {
      "cell_type": "code",
      "execution_count": 5,
      "metadata": {
        "cellView": "form",
        "id": "XXI1uUu3y8gc",
        "outputId": "d5328d66-d557-4619-e65d-6cc11ae241ff",
        "colab": {
          "base_uri": "https://localhost:8080/"
        }
      },
      "outputs": [
        {
          "output_type": "stream",
          "name": "stdout",
          "text": [
            "Please provide a password to be used for 'postgres' database user: ec463\n",
            "Creating new Cloud SQL instance...\n",
            "Created [https://sqladmin.googleapis.com/sql/v1beta4/projects/sanguine-orb-441020-p6/instances/langchain-quickstart-instance].\n",
            "NAME                           DATABASE_VERSION  LOCATION       TIER              PRIMARY_ADDRESS  PRIVATE_ADDRESS  STATUS\n",
            "langchain-quickstart-instance  POSTGRES_15       us-central1-a  db-custom-1-4096  34.171.54.20     -                RUNNABLE\n",
            "Created database [ec463-temp-database].\n",
            "instance: langchain-quickstart-instance\n",
            "name: ec463-temp-database\n",
            "project: sanguine-orb-441020-p6\n"
          ]
        }
      ],
      "source": [
        "#@markdown Please fill in the both the Google Cloud region and name of your Cloud SQL instance. Once filled in, run the cell.\n",
        "\n",
        "# Please fill in these values.\n",
        "region = \"us-central1\" #@param {type:\"string\"}\n",
        "instance_name = \"langchain-quickstart-instance\" #@param {type:\"string\"}\n",
        "database_name = \"ec463-temp-database\" #@param {type:\"string\"}\n",
        "password = input(\"Please provide a password to be used for 'postgres' database user: \")\n",
        "\n",
        "# Quick input validations.\n",
        "assert region, \"⚠️ Please provide a Google Cloud region\"\n",
        "assert instance_name, \"⚠️ Please provide the name of your instance\"\n",
        "assert database_name, \"⚠️ Please provide the name of your database_name\"\n",
        "\n",
        "# check if Cloud SQL instance exists in the provided region\n",
        "database_version = !gcloud sql instances describe {instance_name} --format=\"value(databaseVersion)\"\n",
        "if database_version[0].startswith(\"POSTGRES\"):\n",
        "  print(\"Found existing Postgres Cloud SQL Instance!\")\n",
        "else:\n",
        "  print(\"Creating new Cloud SQL instance...\")\n",
        "  !gcloud sql instances create {instance_name} --database-version=POSTGRES_15 \\\n",
        "    --region={region} --cpu=1 --memory=4GB --root-password={password} \\\n",
        "    --database-flags=cloudsql.iam_authentication=On\n",
        "  !gcloud sql databases create {database_name} --instance={instance_name}\n",
        "\n",
        "\n",
        "databases = !gcloud sql databases list --instance={instance_name} --format=\"value(name)\"\n",
        "if database_name not in databases:\n",
        "  !gcloud sql databases create {database_name} --instance={instance_name}"
      ]
    },
    {
      "cell_type": "markdown",
      "metadata": {
        "id": "HdolCWyatZmG"
      },
      "source": [
        "## Import data to your database\n",
        "\n",
        "Now that you have your database, you will need to import data! We will be using a [Netflix Dataset from Kaggle](https://www.kaggle.com/datasets/shivamb/netflix-shows). Here is what the data looks like:"
      ]
    },
    {
      "cell_type": "markdown",
      "metadata": {
        "id": "36-FBKzJ-tLa"
      },
      "source": [
        "| show_id | type    | title                | director         | cast                                                                                                                                                  | country       | date_added        | release_year | rating | duration  | listed_in                                    | description                                                                                                                                                                           |\n",
        "|---------|---------|----------------------|------------------|--------------------------------------------------------------------------------------------------------------------------------------------------------|---------------|-------------------|--------------|--------|-----------|----------------------------------------------|---------------------------------------------------------------------------------------------------------------------------------------------------------------------------------------|\n",
        "| s1      | Movie   | Dick Johnson Is Dead | Kirsten Johnson  |                                                                                                                                                        | United States | September 25, 2021 | 2020         | PG-13  | 90 min    | Documentaries                                | As her father nears the end of his life, filmmaker Kirsten Johnson stages his death in inventive and comical ways to help them both face the inevitable.                              |\n",
        "| s2      | TV Show | Blood & Water        |                  | Ama Qamata, Khosi Ngema, Gail Mabalane, Thabang Molaba, Dillon Windvogel, Natasha Thahane, Arno Greeff, Xolile Tshabalala, Getmore Sithole, Cindy Mahlangu, Ryle De Morny, Greteli Fincham, Sello Maake Ka-Ncube, Odwa Gwanya, Mekaila Mathys, Sandi Schultz, Duane Williams, Shamilla Miller, Patrick Mofokeng | South Africa  | September 24, 2021 | 2021         | TV-MA  | 2 Seasons | International TV Shows, TV Dramas, TV Mysteries | After crossing paths at a party, a Cape Town teen sets out to prove whether a private-school swimming star is her sister who was abducted at birth.                                   |\n",
        "| s3      | TV Show | Ganglands            | Julien Leclercq  | Sami Bouajila, Tracy Gotoas, Samuel Jouy, Nabiha Akkari, Sofia Lesaffre, Salim Kechiouche, Noureddine Farihi, Geert Van Rampelberg, Bakary Diombera                                   |               | September 24, 2021 | 2021         | TV-MA  | 1 Season  | Crime TV Shows, International TV Shows, TV Action & Adventure | To protect his family from a powerful drug lord, skilled thief Mehdi and his expert team of robbers are pulled into a violent and deadly turf war.                                     |\n",
        "| s4      | TV Show | Jailbirds New Orleans |                  |                                                                                                                                                        |               | September 24, 2021 | 2021         | TV-MA  | 1 Season  | Docuseries, Reality TV                        | Feuds, flirtations and toilet talk go down among the incarcerated women at the Orleans Justice Center in New Orleans on this gritty reality series.                                   |\n",
        "| s5      | TV Show | Kota Factory         |                  | Mayur More, Jitendra Kumar, Ranjan Raj, Alam Khan, Ahsaas Channa, Revathi Pillai, Urvi Singh, Arun Kumar                                                 | India        | September 24, 2021 | 2021         | TV-MA  | 2 Seasons | International TV Shows, Romantic TV Shows, TV Comedies | In a city of coaching centers known to train India’s finest collegiate minds, an earnest but unexceptional student and his friends navigate campus life. |\n"
      ]
    },
    {
      "cell_type": "markdown",
      "metadata": {
        "id": "kQ2KWsYI_Msa"
      },
      "source": [
        "You won't need to directly load the csv data into your database. Instead we prepared a table, \"netflix_titles\", in the format of a `.sql` file for Postgres. You can easily import the table into your database with one `gcloud` command."
      ]
    },
    {
      "cell_type": "code",
      "execution_count": 6,
      "metadata": {
        "id": "qbLhv9jgD8nm",
        "outputId": "e9ef0b72-36d2-4cc7-af1b-756e2ee84ef1",
        "colab": {
          "base_uri": "https://localhost:8080/"
        }
      },
      "outputs": [
        {
          "output_type": "stream",
          "name": "stdout",
          "text": [
            "['Imported data from [gs://cloud-samples-data/langchain/cloud-sql/postgres/first_five_netflix_titles.sql] into [https://sqladmin.googleapis.com/sql/v1beta4/projects/sanguine-orb-441020-p6/instances/langchain-quickstart-instance].']\n"
          ]
        }
      ],
      "source": [
        "# Import the Netflix titles table using gcloud command\n",
        "import_command_output = !gcloud sql import sql {instance_name} gs://cloud-samples-data/langchain/cloud-sql/postgres/first_five_netflix_titles.sql --database={database_name} --quiet\n",
        "\n",
        "if \"Imported data\" in str(import_command_output):\n",
        "    print(import_command_output)\n",
        "elif \"already exists\" in str(import_command_output):\n",
        "    print(\"Did not import because the table already existed.\")\n",
        "else:\n",
        "    raise Exception(f\"The import seems failed:\\n{import_command_output}\")"
      ]
    },
    {
      "cell_type": "markdown",
      "metadata": {
        "id": "SsGS80H04bDN"
      },
      "source": [
        "# **Use case 1: Cloud SQL for PostgreSQL as a document loader**\n",
        "\n",
        "Now that you have data in your database, you are ready to use Cloud SQL for PostgreSQL as a [document loader](https://python.langchain.com/docs/modules/data_connection/document_loaders/). This means we will pull data from the database and load it into memory as documents. We can then feed these documents into the vector store."
      ]
    },
    {
      "cell_type": "markdown",
      "metadata": {
        "id": "-CQgPON8dwSK"
      },
      "source": [
        "Next let's connect to our CloudSQL PostgreSQL instance using the PostgresEngine class."
      ]
    },
    {
      "cell_type": "code",
      "execution_count": 11,
      "metadata": {
        "id": "zrwTsWHMkQ_v"
      },
      "outputs": [],
      "source": [
        "from langchain_google_cloud_sql_pg import PostgresLoader, PostgresEngine, Column\n",
        "\n",
        "pg_engine = PostgresEngine.from_instance(\n",
        "    project_id=project_id,\n",
        "    instance=instance_name,\n",
        "    region=region,\n",
        "    database=database_name,\n",
        "    user=\"postgres\",\n",
        "    password=password,\n",
        ")"
      ]
    },
    {
      "cell_type": "markdown",
      "metadata": {
        "id": "8s-C0P-Oee69"
      },
      "source": [
        "Once we initialize a PostgresEngine object, we can pass it into the PostgresLoader to connect to a specific database. As you can see we also pass in a query, table_name and a list of columns. The query tells the loader what query to use to pull data. The \"content_columns\" argument refers to the columns that will be used as \"content\" in the document object we will later construct. The rest of the columns in that table will become the \"metadata\" associated with the documents."
      ]
    },
    {
      "cell_type": "code",
      "execution_count": 12,
      "metadata": {
        "id": "2SdFJT6Vece1"
      },
      "outputs": [],
      "source": [
        "table_name = \"netflix_titles\"\n",
        "content_columns = [\"title\", \"director\", \"cast\", \"description\"]\n",
        "loader = await PostgresLoader.create(\n",
        "    engine=pg_engine,\n",
        "    query=f\"SELECT * FROM {table_name};\",\n",
        "    content_columns=content_columns,\n",
        ")"
      ]
    },
    {
      "cell_type": "markdown",
      "metadata": {
        "id": "dsL-KFrmfuS1"
      },
      "source": [
        "Then let's run the function to pull our documents from out database using our document loader. You can see the first 5 documents from the database here. Nice, you just used CloudSQL for PostgreSQL as a document loader!"
      ]
    },
    {
      "cell_type": "code",
      "execution_count": 13,
      "metadata": {
        "colab": {
          "base_uri": "https://localhost:8080/"
        },
        "id": "t4zTx-HLfwmW",
        "outputId": "d76da19f-872b-482d-b3c3-d9823d570d89"
      },
      "outputs": [
        {
          "output_type": "stream",
          "name": "stdout",
          "text": [
            "Loaded 8802 from the database. 5 Examples:\n",
            "page_content='Midnight Mass Mike Flanagan Kate Siegel, Zach Gilford, Hamish Linklater, Henry Thomas, Kristin Lehman, Samantha Sloyan, Igby Rigney, Rahul Kohli, Annarah Cymone, Annabeth Gish, Alex Essoe, Rahul Abburi, Matt Biedel, Michael Trucco, Crystal Balint, Louis Oliver The arrival of a charismatic young priest brings glorious miracles, ominous mysteries and renewed religious fervor to a dying town desperate to believe.' metadata={'show_id': 's6', 'type': 'TV Show', 'country': None, 'date_added': 'September 24, 2021', 'release_year': 2021, 'rating': 'TV-MA', 'duration': '1 Season', 'listed_in': 'TV Dramas, TV Horror, TV Mysteries'}\n",
            "page_content='My Little Pony: A New Generation Robert Cullen, José Luis Ucha Vanessa Hudgens, Kimiko Glenn, James Marsden, Sofia Carson, Liza Koshy, Ken Jeong, Elizabeth Perkins, Jane Krakowski, Michael McKean, Phil LaMarr Equestria's divided. But a bright-eyed hero believes Earth Ponies, Pegasi and Unicorns should be pals — and, hoof to heart, she’s determined to prove it.' metadata={'show_id': 's7', 'type': 'Movie', 'country': None, 'date_added': 'September 24, 2021', 'release_year': 2021, 'rating': 'PG', 'duration': '91 min', 'listed_in': 'Children & Family Movies'}\n",
            "page_content='Sankofa Haile Gerima Kofi Ghanaba, Oyafunmike Ogunlano, Alexandra Duah, Nick Medley, Mutabaruka, Afemo Omilami, Reggie Carter, Mzuri On a photo shoot in Ghana, an American model slips back in time, becomes enslaved on a plantation and bears witness to the agony of her ancestral past.' metadata={'show_id': 's8', 'type': 'Movie', 'country': 'United States, Ghana, Burkina Faso, United Kingdom, Germany, Ethiopia', 'date_added': 'September 24, 2021', 'release_year': 1993, 'rating': 'TV-MA', 'duration': '125 min', 'listed_in': 'Dramas, Independent Movies, International Movies'}\n",
            "page_content='The Great British Baking Show Andy Devonshire Mel Giedroyc, Sue Perkins, Mary Berry, Paul Hollywood A talented batch of amateur bakers face off in a 10-week competition, whipping up their best dishes in the hopes of being named the U.K.'s best.' metadata={'show_id': 's9', 'type': 'TV Show', 'country': 'United Kingdom', 'date_added': 'September 24, 2021', 'release_year': 2021, 'rating': 'TV-14', 'duration': '9 Seasons', 'listed_in': 'British TV Shows, Reality TV'}\n",
            "page_content='The Starling Theodore Melfi Melissa McCarthy, Chris O'Dowd, Kevin Kline, Timothy Olyphant, Daveed Diggs, Skyler Gisondo, Laura Harrier, Rosalind Chao, Kimberly Quinn, Loretta Devine, Ravi Kapoor A woman adjusting to life after a loss contends with a feisty bird that's taken over her garden — and a husband who's struggling to find a way forward.' metadata={'show_id': 's10', 'type': 'Movie', 'country': 'United States', 'date_added': 'September 24, 2021', 'release_year': 2021, 'rating': 'PG-13', 'duration': '104 min', 'listed_in': 'Comedies, Dramas'}\n"
          ]
        }
      ],
      "source": [
        "documents = await loader.aload()\n",
        "print(f\"Loaded {len(documents)} from the database. 5 Examples:\")\n",
        "for doc in documents[:5]:\n",
        "    print(doc)"
      ]
    },
    {
      "cell_type": "markdown",
      "metadata": {
        "id": "z9uLV3bs4noo"
      },
      "source": [
        "# **Use case 2: Cloud SQL for PostgreSQL as Vector Store**"
      ]
    },
    {
      "cell_type": "markdown",
      "metadata": {
        "id": "duVsSeMcgEWl"
      },
      "source": [
        "Now, let's learn how to put all of the documents we just loaded into a [vector store](https://python.langchain.com/docs/modules/data_connection/vectorstores/) so that we can use vector search to answer our user's questions!"
      ]
    },
    {
      "cell_type": "markdown",
      "metadata": {
        "id": "jfH8oQJ945Ko"
      },
      "source": [
        "### Create Your Vector Store table\n",
        "\n",
        "Based on the documents that we loaded before, we want to create a table with a vector column as our vector store. We will start it by intializing a vector table by calling the `init_vectorstore_table` function from our `engine`. As you can see we list all of the columns for our metadata. We also specify a vector size, 768, that corresponds with the length of the vectors computed by the model our embeddings service uses, Vertex AI's textembedding-gecko.\n"
      ]
    },
    {
      "cell_type": "code",
      "execution_count": 21,
      "metadata": {
        "id": "e_rmjywG47pv"
      },
      "outputs": [],
      "source": [
        "from langchain_google_cloud_sql_pg import PostgresEngine, Column\n",
        "\n",
        "sample_vector_table_name = \"movie_vector_table_samples\"\n",
        "\n",
        "pg_engine = PostgresEngine.from_instance(\n",
        "    project_id=project_id,\n",
        "    instance=instance_name,\n",
        "    region=region,\n",
        "    database=database_name,\n",
        "    user=\"postgres\",\n",
        "    password=password,\n",
        ")\n",
        "\n",
        "pg_engine.init_vectorstore_table(\n",
        "    sample_vector_table_name,\n",
        "    vector_size=768,\n",
        "    metadata_columns=[\n",
        "        Column(\"show_id\", \"VARCHAR\", nullable=True),\n",
        "        Column(\"type\", \"VARCHAR\", nullable=True),\n",
        "        Column(\"country\", \"VARCHAR\", nullable=True),\n",
        "        Column(\"date_added\", \"VARCHAR\", nullable=True),\n",
        "        Column(\"release_year\", \"INTEGER\", nullable=True),\n",
        "        Column(\"rating\", \"VARCHAR\", nullable=True),\n",
        "        Column(\"duration\", \"VARCHAR\", nullable=True),\n",
        "        Column(\"listed_in\", \"VARCHAR\", nullable=True),\n",
        "    ],\n",
        "    overwrite_existing=True,  # Enabling this will recreate the table if exists.\n",
        ")"
      ]
    },
    {
      "cell_type": "markdown",
      "metadata": {
        "id": "KG6rwEuJLNIo"
      },
      "source": [
        "### Try inserting the documents into the vector table\n",
        "\n",
        "Now we will create a vector_store object backed by our vector table in the Cloud SQL database. Let's load the data from the documents to the vector table. Note that for each row, the embedding service will be called to compute the embeddings to store in the vector table. Pricing details can be found [here](https://cloud.google.com/vertex-ai/pricing)."
      ]
    },
    {
      "cell_type": "code",
      "execution_count": 18,
      "metadata": {
        "id": "Wo4-7EYCIFF9"
      },
      "outputs": [],
      "source": [
        "from langchain_google_vertexai import VertexAIEmbeddings\n",
        "from langchain_google_cloud_sql_pg import PostgresVectorStore\n",
        "\n",
        "# Initialize the embedding service. In this case we are using version 003 of Vertex AI's textembedding-gecko model. In general, it is good practice to specify the model version used.\n",
        "embeddings_service = VertexAIEmbeddings(\n",
        "    model_name=\"textembedding-gecko@003\", project=project_id\n",
        ")\n",
        "\n",
        "vector_store = PostgresVectorStore.create_sync(\n",
        "    engine=pg_engine,\n",
        "    embedding_service=embeddings_service,\n",
        "    table_name=sample_vector_table_name,\n",
        "    metadata_columns=[\n",
        "        \"show_id\",\n",
        "        \"type\",\n",
        "        \"country\",\n",
        "        \"date_added\",\n",
        "        \"release_year\",\n",
        "        \"duration\",\n",
        "        \"listed_in\",\n",
        "    ],\n",
        ")"
      ]
    },
    {
      "cell_type": "markdown",
      "metadata": {
        "id": "fr1rP6KQ-8ag"
      },
      "source": [
        "Now let's try to put the documents data into the vector table. Here is a code example to load the first 5 documents in the list."
      ]
    },
    {
      "cell_type": "code",
      "execution_count": 19,
      "metadata": {
        "id": "CTks8Cy--93B",
        "outputId": "50436799-09e4-4a78-8b4a-3e86101ba0ff",
        "colab": {
          "base_uri": "https://localhost:8080/"
        }
      },
      "outputs": [
        {
          "output_type": "execute_result",
          "data": {
            "text/plain": [
              "['6179d68a-e151-477a-968f-bf867f9516d9',\n",
              " 'e1f406ad-1fd1-442a-8b1d-6b0665526749',\n",
              " '80a32cec-d98e-43e3-b3ad-ac4fe2617155',\n",
              " 'f45a44d8-76ba-4510-a706-b5f031fe04c0',\n",
              " '4169497f-6574-4df7-a5fa-a15ace24af0f']"
            ]
          },
          "metadata": {},
          "execution_count": 19
        }
      ],
      "source": [
        "import uuid\n",
        "\n",
        "docs_to_load = documents[:5]\n",
        "\n",
        "# ! Uncomment the following line to load all 8,800+ documents to the database vector table with calling the embedding service.\n",
        "# docs_to_load = documents\n",
        "\n",
        "ids = [str(uuid.uuid4()) for i in range(len(docs_to_load))]\n",
        "vector_store.add_documents(docs_to_load, ids)"
      ]
    },
    {
      "cell_type": "markdown",
      "metadata": {
        "id": "29iztdvfL2BN"
      },
      "source": [
        "### Import the rest of your data into your vector table\n",
        "\n",
        "You don't have to call the embedding service 8,800 times to load all the documents for the demo. Instead, we have prepared a table with the all 8,800+ rows with pre-computed embeddings in a `.sql` file. Again, let's import to our DB using `gcloud` command.\n",
        "\n",
        "It will restore the `.sql` file to a table with vectors called `movie_vector_table`."
      ]
    },
    {
      "cell_type": "code",
      "execution_count": 20,
      "metadata": {
        "id": "FEe9El7QMjHi",
        "outputId": "0d948e86-a758-430c-998a-d0642f44b79c",
        "colab": {
          "base_uri": "https://localhost:8080/"
        }
      },
      "outputs": [
        {
          "output_type": "stream",
          "name": "stdout",
          "text": [
            "['Imported data from [gs://cloud-samples-data/langchain/cloud-sql/postgres/netflix_titles_vector_table.sql] into [https://sqladmin.googleapis.com/sql/v1beta4/projects/sanguine-orb-441020-p6/instances/langchain-quickstart-instance].']\n"
          ]
        }
      ],
      "source": [
        "# Import the netflix titles with vector table using gcloud command\n",
        "import_command_output = !gcloud sql import sql {instance_name} gs://cloud-samples-data/langchain/cloud-sql/postgres/netflix_titles_vector_table.sql --database={database_name} --quiet\n",
        "\n",
        "if \"Imported data\" in str(import_command_output):\n",
        "    print(import_command_output)\n",
        "elif \"already exists\" in str(import_command_output):\n",
        "    print(\"Did not import because the table already existed.\")\n",
        "else:\n",
        "    raise Exception(f\"The import seems failed:\\n{import_command_output}\")"
      ]
    },
    {
      "cell_type": "markdown",
      "metadata": {
        "id": "ZM_OFzZrQEPs"
      },
      "source": [
        "# **Use case 3: Cloud SQL for PostgreSQL as Chat Memory**"
      ]
    },
    {
      "cell_type": "markdown",
      "metadata": {
        "id": "dxqIPQtjDquk"
      },
      "source": [
        "Next we will add chat history (called [“memory” in the context of LangChain](https://python.langchain.com/docs/modules/memory/)) to our application so the LLM can retain context and information across multiple interactions, leading to more coherent and sophisticated conversations or text generation. We can use Cloud SQL for PostgreSQL as “memory” storage in our application so that the LLM can use context from prior conversations to better answer the user’s prompts. First let's initialize Cloud SQL for PostgreSQL as memory storage."
      ]
    },
    {
      "cell_type": "code",
      "execution_count": 24,
      "metadata": {
        "id": "vyYQILyoEAqg"
      },
      "outputs": [],
      "source": [
        "from langchain_google_cloud_sql_pg import PostgresChatMessageHistory, PostgresEngine\n",
        "\n",
        "message_table_name = \"message_store\"\n",
        "\n",
        "pg_engine.init_chat_history_table(table_name=message_table_name)\n",
        "\n",
        "chat_history = PostgresChatMessageHistory.create_sync(\n",
        "    pg_engine,\n",
        "    session_id=\"my-test-session\",\n",
        "    table_name=message_table_name,\n",
        ")"
      ]
    },
    {
      "cell_type": "markdown",
      "metadata": {
        "id": "2yuXYLTCl2K1"
      },
      "source": [
        "Here is an example of how you would add a user message and how you would add an ai message."
      ]
    },
    {
      "cell_type": "code",
      "execution_count": 25,
      "metadata": {
        "colab": {
          "base_uri": "https://localhost:8080/"
        },
        "id": "qDVoTWZal0ZF",
        "outputId": "da12838d-8f43-48e1-ee55-04576bca9b6d"
      },
      "outputs": [
        {
          "output_type": "execute_result",
          "data": {
            "text/plain": [
              "[HumanMessage(content='Hi!', additional_kwargs={}, response_metadata={}),\n",
              " AIMessage(content=\"Hello there. I'm a model and am happy to help!\", additional_kwargs={}, response_metadata={}),\n",
              " HumanMessage(content='Hi!', additional_kwargs={}, response_metadata={}),\n",
              " AIMessage(content=\"Hello there. I'm a model and am happy to help!\", additional_kwargs={}, response_metadata={})]"
            ]
          },
          "metadata": {},
          "execution_count": 25
        }
      ],
      "source": [
        "chat_history.add_user_message(\"Hi!\")\n",
        "chat_history.add_ai_message(\"Hello there. I'm a model and am happy to help!\")\n",
        "\n",
        "chat_history.messages"
      ]
    },
    {
      "cell_type": "markdown",
      "metadata": {
        "id": "k0O9mta8RQ0v"
      },
      "source": [
        "# **PostgresConversational RAG Chain backed by Cloud SQL **"
      ]
    },
    {
      "cell_type": "markdown",
      "metadata": {
        "id": "j2OxF3JoNA7J"
      },
      "source": [
        "So far we've tested with using Cloud SQL for PostgreSQL as document loader, Vector Store and Chat Memory. Now let's use it in the `ConversationalRetrievalChain`.\n",
        "\n",
        "We will build a chat bot that can answer movie related questions based on the vector search results.\n",
        "\n",
        "First let's initialize all of our PostgresSQLEngine object to use as a connection in our vector store and chat_history."
      ]
    },
    {
      "cell_type": "code",
      "execution_count": 27,
      "metadata": {
        "id": "9ukjOO-sNQ8_"
      },
      "outputs": [],
      "source": [
        "from langchain_google_vertexai import VertexAIEmbeddings, VertexAI\n",
        "from langchain.chains import ConversationalRetrievalChain\n",
        "from langchain.memory import ConversationSummaryBufferMemory\n",
        "from langchain_core.prompts import PromptTemplate\n",
        "from langchain_google_cloud_sql_pg import (\n",
        "    PostgresEngine,\n",
        "    PostgresVectorStore,\n",
        "    PostgresChatMessageHistory,\n",
        ")\n",
        "\n",
        "# Initialize the embedding service\n",
        "embeddings_service = VertexAIEmbeddings(\n",
        "    model_name=\"textembedding-gecko@latest\", project=project_id\n",
        ")\n",
        "\n",
        "# Initialize the engine\n",
        "pg_engine = PostgresEngine.from_instance(\n",
        "    project_id=project_id,\n",
        "    instance=instance_name,\n",
        "    region=region,\n",
        "    database=database_name,\n",
        "    user=\"postgres\",\n",
        "    password=password,\n",
        ")\n",
        "\n",
        "# Initialize the Vector Store\n",
        "vector_table_name = \"movie_vector_table\"\n",
        "vector_store = PostgresVectorStore.create_sync(\n",
        "    engine=pg_engine,\n",
        "    embedding_service=embeddings_service,\n",
        "    table_name=vector_table_name,\n",
        "    metadata_columns=[\n",
        "        \"show_id\",\n",
        "        \"type\",\n",
        "        \"country\",\n",
        "        \"date_added\",\n",
        "        \"release_year\",\n",
        "        \"duration\",\n",
        "        \"listed_in\",\n",
        "    ],\n",
        ")\n",
        "\n",
        "# Initialize the PostgresChatMessageHistory\n",
        "chat_history = PostgresChatMessageHistory.create_sync(\n",
        "    pg_engine,\n",
        "    session_id=\"my-test-session\",\n",
        "    table_name=\"message_store\",\n",
        ")"
      ]
    },
    {
      "cell_type": "markdown",
      "metadata": {
        "id": "Ytlz9D3LmcU7"
      },
      "source": [
        "Let's create a prompt for the LLM. Here we can add instructions specific to our application, such as \"Don't make things up\"."
      ]
    },
    {
      "cell_type": "code",
      "execution_count": 28,
      "metadata": {
        "id": "LoAHNdrWmW9W"
      },
      "outputs": [],
      "source": [
        "# Prepare some prompt templates for the ConversationalRetrievalChain\n",
        "prompt = PromptTemplate(\n",
        "    template=\"\"\"Use all the information from the context and the conversation history to answer new question. If you see the answer in previous conversation history or the context. \\\n",
        "Answer it with clarifying the source information. If you don't see it in the context or the chat history, just say you \\\n",
        "didn't find the answer in the given data. Don't make things up.\n",
        "\n",
        "Previous conversation history from the questioner. \"Human\" was the user who's asking the new question. \"Assistant\" was you as the assistant:\n",
        "```{chat_history}\n",
        "```\n",
        "\n",
        "Vector search result of the new question:\n",
        "```{context}\n",
        "```\n",
        "\n",
        "New Question:\n",
        "```{question}```\n",
        "\n",
        "Answer:\"\"\",\n",
        "    input_variables=[\"context\", \"question\", \"chat_history\"],\n",
        ")\n",
        "condense_question_prompt_passthrough = PromptTemplate(\n",
        "    template=\"\"\"Repeat the following question:\n",
        "{question}\n",
        "\"\"\",\n",
        "    input_variables=[\"question\"],\n",
        ")"
      ]
    },
    {
      "cell_type": "markdown",
      "metadata": {
        "id": "rsGe-bW5m0H1"
      },
      "source": [
        "Now let's use our vector store as a retreiver. Retreiver's in Langchain allow us to literally \"retrieve\" documents."
      ]
    },
    {
      "cell_type": "code",
      "execution_count": 29,
      "metadata": {
        "id": "1nI0xkJamvXt"
      },
      "outputs": [],
      "source": [
        "# Initialize retriever, llm and memory for the chain\n",
        "retriever = vector_store.as_retriever(\n",
        "    search_type=\"mmr\", search_kwargs={\"k\": 5, \"lambda_mult\": 0.8}\n",
        ")"
      ]
    },
    {
      "cell_type": "markdown",
      "metadata": {
        "id": "3maZ8SLlneYJ"
      },
      "source": [
        "Now let's initialize our LLM, in this case we are using Vertex AI's \"gemini-pro\"."
      ]
    },
    {
      "cell_type": "code",
      "execution_count": 30,
      "metadata": {
        "id": "VBWhg-ihnnxF"
      },
      "outputs": [],
      "source": [
        "llm = VertexAI(model_name=\"gemini-pro\", project=project_id)"
      ]
    },
    {
      "cell_type": "markdown",
      "metadata": {
        "id": "hN8mpXdtnocg"
      },
      "source": [
        "We clear our chat history, so that our application starts without any prior context to other conversations we have had with the application."
      ]
    },
    {
      "cell_type": "code",
      "execution_count": 31,
      "metadata": {
        "id": "1UkPcEpJno5Y",
        "outputId": "cd539ec4-ad04-449e-9a1e-8f5f4fb9e8df",
        "colab": {
          "base_uri": "https://localhost:8080/"
        }
      },
      "outputs": [
        {
          "output_type": "stream",
          "name": "stderr",
          "text": [
            "<ipython-input-31-b6e34cd98860>:3: LangChainDeprecationWarning: Please see the migration guide at: https://python.langchain.com/docs/versions/migrating_memory/\n",
            "  memory = ConversationSummaryBufferMemory(\n"
          ]
        }
      ],
      "source": [
        "chat_history.clear()\n",
        "\n",
        "memory = ConversationSummaryBufferMemory(\n",
        "    llm=llm,\n",
        "    chat_memory=chat_history,\n",
        "    output_key=\"answer\",\n",
        "    memory_key=\"chat_history\",\n",
        "    return_messages=True,\n",
        ")"
      ]
    },
    {
      "cell_type": "markdown",
      "metadata": {
        "id": "BDAT2koSn8Mz"
      },
      "source": [
        "Now let's create a conversational retrieval chain. This will allow the LLM to use chat history in it's responses, meaning we can ask it follow up questions to our questions instead of having to start from scratch after each inquiry."
      ]
    },
    {
      "cell_type": "code",
      "execution_count": 32,
      "metadata": {
        "colab": {
          "base_uri": "https://localhost:8080/"
        },
        "id": "7Fu8fKdEn8h8",
        "outputId": "e0be8de1-5aa8-402f-b7a1-a32d04731519"
      },
      "outputs": [
        {
          "output_type": "stream",
          "name": "stderr",
          "text": [
            "<ipython-input-32-8710e06fe420>:13: LangChainDeprecationWarning: The method `Chain.__call__` was deprecated in langchain 0.1.0 and will be removed in 1.0. Use :meth:`~invoke` instead.\n",
            "  ans = rag_chain({\"question\": q, \"chat_history\": chat_history})[\"answer\"]\n"
          ]
        },
        {
          "output_type": "stream",
          "name": "stdout",
          "text": [
            "Question: What movie was Brad Pitt in?\n",
            "Answer: According to the information you provided, Brad Pitt has starred in the following movies:\n",
            "\n",
            "* **Inglourious Basterds** (2009)\n",
            "* **By the Sea** (2015)\n",
            "* **Killing Them Softly** (2012)\n",
            "* **Babel** (2006)\n",
            "\n",
            "Would you like to know more about any of these movies? \n",
            "\n",
            "\n",
            "Question: How about Jonny Depp?\n",
            "Answer: I found information about Johnny Depp's movies in the previous conversation. However, I didn't find any information about Brad Pitt's movies with Johnny Depp. \n",
            "\n",
            "Do you have any other questions? \n",
            "\n",
            "Question: Are there movies about animals?\n",
            "Answer: Yes, there are many movies about animals. Some popular examples include:\n",
            "\n",
            "* **If I Were an Animal:** This documentary follows a group of children as they explore the lives of different animals.\n",
            "* **The Animal People:** This documentary follows animal rights protesters as they try to shut down a facility that conducts animal testing.\n",
            "* **Open Season:** This animated film tells the story of a domesticated grizzly bear who is relocated to the wild and must learn how to survive.\n",
            "* **Animals on the Loose: A You vs. Wild Movie:** This interactive special follows Bear Grylls as he tries to recapture escaped animals from a sanctuary.\n",
            "\n",
            "Would you like to know more about any of these movies?\n",
            "\n"
          ]
        },
        {
          "output_type": "execute_result",
          "data": {
            "text/plain": [
              "[HumanMessage(content='What movie was Brad Pitt in?', additional_kwargs={}, response_metadata={}),\n",
              " AIMessage(content='According to the information you provided, Brad Pitt has starred in the following movies:\\n\\n* **Inglourious Basterds** (2009)\\n* **By the Sea** (2015)\\n* **Killing Them Softly** (2012)\\n* **Babel** (2006)\\n\\nWould you like to know more about any of these movies? \\n', additional_kwargs={}, response_metadata={}),\n",
              " HumanMessage(content='How about Jonny Depp?', additional_kwargs={}, response_metadata={}),\n",
              " AIMessage(content=\"I found information about Johnny Depp's movies in the previous conversation. However, I didn't find any information about Brad Pitt's movies with Johnny Depp. \\n\\nDo you have any other questions? \", additional_kwargs={}, response_metadata={}),\n",
              " HumanMessage(content='Are there movies about animals?', additional_kwargs={}, response_metadata={}),\n",
              " AIMessage(content='Yes, there are many movies about animals. Some popular examples include:\\n\\n* **If I Were an Animal:** This documentary follows a group of children as they explore the lives of different animals.\\n* **The Animal People:** This documentary follows animal rights protesters as they try to shut down a facility that conducts animal testing.\\n* **Open Season:** This animated film tells the story of a domesticated grizzly bear who is relocated to the wild and must learn how to survive.\\n* **Animals on the Loose: A You vs. Wild Movie:** This interactive special follows Bear Grylls as he tries to recapture escaped animals from a sanctuary.\\n\\nWould you like to know more about any of these movies?', additional_kwargs={}, response_metadata={})]"
            ]
          },
          "metadata": {},
          "execution_count": 32
        }
      ],
      "source": [
        "# create the ConversationalRetrievalChain\n",
        "rag_chain = ConversationalRetrievalChain.from_llm(\n",
        "    llm=llm,\n",
        "    retriever=retriever,\n",
        "    verbose=False,\n",
        "    memory=memory,\n",
        "    condense_question_prompt=condense_question_prompt_passthrough,\n",
        "    combine_docs_chain_kwargs={\"prompt\": prompt},\n",
        ")\n",
        "\n",
        "# ask some questions\n",
        "q = \"What movie was Brad Pitt in?\"\n",
        "ans = rag_chain({\"question\": q, \"chat_history\": chat_history})[\"answer\"]\n",
        "print(f\"Question: {q}\\nAnswer: {ans}\\n\")\n",
        "\n",
        "q = \"How about Jonny Depp?\"\n",
        "ans = rag_chain({\"question\": q, \"chat_history\": chat_history})[\"answer\"]\n",
        "print(f\"Question: {q}\\nAnswer: {ans}\\n\")\n",
        "\n",
        "q = \"Are there movies about animals?\"\n",
        "ans = rag_chain({\"question\": q, \"chat_history\": chat_history})[\"answer\"]\n",
        "print(f\"Question: {q}\\nAnswer: {ans}\\n\")\n",
        "\n",
        "# browser the chat history\n",
        "chat_history.messages"
      ]
    }
  ],
  "metadata": {
    "colab": {
      "provenance": []
    },
    "kernelspec": {
      "display_name": "Python 3",
      "name": "python3"
    },
    "language_info": {
      "codemirror_mode": {
        "name": "ipython",
        "version": 3
      },
      "file_extension": ".py",
      "mimetype": "text/x-python",
      "name": "python",
      "nbconvert_exporter": "python",
      "pygments_lexer": "ipython3",
      "version": "3.11.5"
    }
  },
  "nbformat": 4,
  "nbformat_minor": 0
}