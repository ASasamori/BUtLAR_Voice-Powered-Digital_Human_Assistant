{
 "cells": [
  {
   "cell_type": "code",
   "execution_count": null,
   "metadata": {},
   "outputs": [],
   "source": [
    "%pip install 'vanna[chromadb,openai,postgres]'"
   ]
  },
  {
   "cell_type": "code",
   "execution_count": 2,
   "metadata": {},
   "outputs": [],
   "source": [
    "from vanna.openai import OpenAI_Chat\n",
    "from vanna.chromadb import ChromaDB_VectorStore\n",
    "from openai import OpenAI\n",
    "import os\n",
    "from dotenv import load_dotenv\n",
    "\n",
    "from contextlib import redirect_stdout, redirect_stderr\n",
    "import io"
   ]
  },
  {
   "cell_type": "markdown",
   "metadata": {},
   "source": [
    "## You will need to have the OpenAI key in the .env file, along with having it set to NEW_OPENAI_API_KEY=sk-...."
   ]
  },
  {
   "cell_type": "code",
   "execution_count": 3,
   "metadata": {},
   "outputs": [],
   "source": [
    "# Load the .env file\n",
    "load_dotenv()\n",
    "\n",
    "# Retrieve the values using os.environ\n",
    "api_key = os.getenv('NEW_OPENAI_API_KEY')"
   ]
  },
  {
   "cell_type": "code",
   "execution_count": null,
   "metadata": {},
   "outputs": [],
   "source": [
    "print(f\"The value of the api_key is the {api_key}\")"
   ]
  },
  {
   "cell_type": "markdown",
   "metadata": {},
   "source": [
    "## Running this code will generate a chroma.sqlite3 file, which is likely the ChromaDB?"
   ]
  },
  {
   "cell_type": "markdown",
   "metadata": {},
   "source": [
    "The code below creates a chroma.sqlite3 file"
   ]
  },
  {
   "cell_type": "code",
   "execution_count": 4,
   "metadata": {},
   "outputs": [],
   "source": [
    "class MyVanna(ChromaDB_VectorStore, OpenAI_Chat):\n",
    "    def __init__(self, config=None):\n",
    "        ChromaDB_VectorStore.__init__(self, config=config)\n",
    "        OpenAI_Chat.__init__(self, config=config)\n",
    "\n",
    "# Running this code creates the chroma.sqlite3 file\n",
    "vn = MyVanna(config={'api_key': api_key, 'model': 'gpt-3.5-turbo'})"
   ]
  },
  {
   "cell_type": "code",
   "execution_count": null,
   "metadata": {},
   "outputs": [],
   "source": [
    "import requests\n",
    "ip = requests.get('https://api.ipify.org').text\n",
    "print(f\"Your Colab runtime IP is: {ip}\")"
   ]
  },
  {
   "cell_type": "markdown",
   "metadata": {},
   "source": [
    "## Remember the host number might change! Change that whenever the VM stops running"
   ]
  },
  {
   "cell_type": "markdown",
   "metadata": {},
   "source": [
    "A sample of what the database looks like is in the csv of this code or in /Vanna/courses.csv"
   ]
  },
  {
   "cell_type": "code",
   "execution_count": 5,
   "metadata": {},
   "outputs": [],
   "source": [
    "vn.connect_to_postgres(host='34.134.126.254', dbname='tutorialDB', user='postgres', password='butlar', port='5432')"
   ]
  },
  {
   "cell_type": "markdown",
   "metadata": {},
   "source": [
    "## Running this code will create the information schema (Directories full of training data and embeddings?)"
   ]
  },
  {
   "cell_type": "code",
   "execution_count": 5,
   "metadata": {},
   "outputs": [],
   "source": [
    "# The information schema query may need some tweaking depending on your database. This is a good starting point.\n",
    "\n",
    "# This SQL code retrieves all the information across all the tables in all tables within a database.\n",
    "df_information_schema = vn.run_sql(\"SELECT * FROM INFORMATION_SCHEMA.COLUMNS\")\n",
    "\n",
    "# This will break up the information schema into bite-sized chunks that can be referenced by the LLM\n",
    "plan = vn.get_training_plan_generic(df_information_schema)"
   ]
  },
  {
   "cell_type": "code",
   "execution_count": null,
   "metadata": {},
   "outputs": [],
   "source": [
    "vn.train(plan=plan)"
   ]
  },
  {
   "cell_type": "code",
   "execution_count": null,
   "metadata": {},
   "outputs": [],
   "source": [
    "vn.train(documentation=\"My tables outline the coures for a college university. In each row you can see the college\" \\\n",
    "\"course with its respective course number and name, which professor teaches it, what times it runs from,\" \\\n",
    "\"where it meets, how many students can attend, and how many units the course is worth. \")"
   ]
  },
  {
   "cell_type": "code",
   "execution_count": null,
   "metadata": {},
   "outputs": [],
   "source": [
    "vn.train(documentation=\"The descr marks the course description. The course itself can be referenced as ENG EC or just EC. As an example\" \\\n",
    "\"the course description for ENG EC 520 is Digital Image Processing and Communication and it meets in building EPC in room 208.\")"
   ]
  },
  {
   "cell_type": "code",
   "execution_count": 8,
   "metadata": {},
   "outputs": [
    {
     "data": {
      "text/html": [
       "<div>\n",
       "<style scoped>\n",
       "    .dataframe tbody tr th:only-of-type {\n",
       "        vertical-align: middle;\n",
       "    }\n",
       "\n",
       "    .dataframe tbody tr th {\n",
       "        vertical-align: top;\n",
       "    }\n",
       "\n",
       "    .dataframe thead th {\n",
       "        text-align: right;\n",
       "    }\n",
       "</style>\n",
       "<table border=\"1\" class=\"dataframe\">\n",
       "  <thead>\n",
       "    <tr style=\"text-align: right;\">\n",
       "      <th></th>\n",
       "      <th>id</th>\n",
       "      <th>question</th>\n",
       "      <th>content</th>\n",
       "      <th>training_data_type</th>\n",
       "    </tr>\n",
       "  </thead>\n",
       "  <tbody>\n",
       "    <tr>\n",
       "      <th>0</th>\n",
       "      <td>b6f89a19-4ba4-5119-93e9-8ba9a54a11d8-sql</td>\n",
       "      <td>What classes does Tali Moreshet teach?</td>\n",
       "      <td>SELECT * \\nFROM coursework_info.courses \\nWHER...</td>\n",
       "      <td>sql</td>\n",
       "    </tr>\n",
       "    <tr>\n",
       "      <th>1</th>\n",
       "      <td>ef8289f9-39b3-5fad-9976-7abde8f6c15d-sql</td>\n",
       "      <td>What courses does Tali Moreshet teach?</td>\n",
       "      <td>SELECT * \\nFROM coursework_info.courses \\nWHER...</td>\n",
       "      <td>sql</td>\n",
       "    </tr>\n",
       "    <tr>\n",
       "      <th>2</th>\n",
       "      <td>71b9df3a-6a3e-510a-8325-f407edceeae1-sql</td>\n",
       "      <td>What courses does Professor Kulis teach?</td>\n",
       "      <td>SELECT * \\nFROM coursework_info.courses \\nWHER...</td>\n",
       "      <td>sql</td>\n",
       "    </tr>\n",
       "    <tr>\n",
       "      <th>3</th>\n",
       "      <td>cc1d17b2-9518-5032-a338-e162175bc52c-sql</td>\n",
       "      <td>What classes does Professor Kulis teach?</td>\n",
       "      <td>SELECT * \\nFROM coursework_info.courses \\nWHER...</td>\n",
       "      <td>sql</td>\n",
       "    </tr>\n",
       "    <tr>\n",
       "      <th>4</th>\n",
       "      <td>fa45ac00-9cc9-53a8-b617-d53fa04fc56d-sql</td>\n",
       "      <td>What classes does Alan Pisano teach?</td>\n",
       "      <td>SELECT * \\nFROM coursework_info.courses \\nWHER...</td>\n",
       "      <td>sql</td>\n",
       "    </tr>\n",
       "    <tr>\n",
       "      <th>...</th>\n",
       "      <td>...</td>\n",
       "      <td>...</td>\n",
       "      <td>...</td>\n",
       "      <td>...</td>\n",
       "    </tr>\n",
       "    <tr>\n",
       "      <th>208</th>\n",
       "      <td>4718b4ca-ead2-5578-ba8f-6aefed4a50a7-doc</td>\n",
       "      <td>None</td>\n",
       "      <td>The following columns are in the courses table...</td>\n",
       "      <td>documentation</td>\n",
       "    </tr>\n",
       "    <tr>\n",
       "      <th>209</th>\n",
       "      <td>66230b0b-b604-5bad-96fe-99bc906f0502-doc</td>\n",
       "      <td>None</td>\n",
       "      <td>My tables outline the coures for a college uni...</td>\n",
       "      <td>documentation</td>\n",
       "    </tr>\n",
       "    <tr>\n",
       "      <th>210</th>\n",
       "      <td>0f46c0e0-5659-5f62-8f8d-c33055240e30-doc</td>\n",
       "      <td>None</td>\n",
       "      <td>The descr marks the course description. The co...</td>\n",
       "      <td>documentation</td>\n",
       "    </tr>\n",
       "    <tr>\n",
       "      <th>211</th>\n",
       "      <td>6574ed6a-c8df-5a81-9d8e-1fe3beeaefd9-doc</td>\n",
       "      <td>None</td>\n",
       "      <td>The ENG identifier in the college column stand...</td>\n",
       "      <td>documentation</td>\n",
       "    </tr>\n",
       "    <tr>\n",
       "      <th>212</th>\n",
       "      <td>1b44eff6-7e3c-5af5-9c26-53602bdfb4be-doc</td>\n",
       "      <td>None</td>\n",
       "      <td>For the locations, PHO stands for Photonics. W...</td>\n",
       "      <td>documentation</td>\n",
       "    </tr>\n",
       "  </tbody>\n",
       "</table>\n",
       "<p>235 rows × 4 columns</p>\n",
       "</div>"
      ],
      "text/plain": [
       "                                           id  \\\n",
       "0    b6f89a19-4ba4-5119-93e9-8ba9a54a11d8-sql   \n",
       "1    ef8289f9-39b3-5fad-9976-7abde8f6c15d-sql   \n",
       "2    71b9df3a-6a3e-510a-8325-f407edceeae1-sql   \n",
       "3    cc1d17b2-9518-5032-a338-e162175bc52c-sql   \n",
       "4    fa45ac00-9cc9-53a8-b617-d53fa04fc56d-sql   \n",
       "..                                        ...   \n",
       "208  4718b4ca-ead2-5578-ba8f-6aefed4a50a7-doc   \n",
       "209  66230b0b-b604-5bad-96fe-99bc906f0502-doc   \n",
       "210  0f46c0e0-5659-5f62-8f8d-c33055240e30-doc   \n",
       "211  6574ed6a-c8df-5a81-9d8e-1fe3beeaefd9-doc   \n",
       "212  1b44eff6-7e3c-5af5-9c26-53602bdfb4be-doc   \n",
       "\n",
       "                                     question  \\\n",
       "0      What classes does Tali Moreshet teach?   \n",
       "1      What courses does Tali Moreshet teach?   \n",
       "2    What courses does Professor Kulis teach?   \n",
       "3    What classes does Professor Kulis teach?   \n",
       "4        What classes does Alan Pisano teach?   \n",
       "..                                        ...   \n",
       "208                                      None   \n",
       "209                                      None   \n",
       "210                                      None   \n",
       "211                                      None   \n",
       "212                                      None   \n",
       "\n",
       "                                               content training_data_type  \n",
       "0    SELECT * \\nFROM coursework_info.courses \\nWHER...                sql  \n",
       "1    SELECT * \\nFROM coursework_info.courses \\nWHER...                sql  \n",
       "2    SELECT * \\nFROM coursework_info.courses \\nWHER...                sql  \n",
       "3    SELECT * \\nFROM coursework_info.courses \\nWHER...                sql  \n",
       "4    SELECT * \\nFROM coursework_info.courses \\nWHER...                sql  \n",
       "..                                                 ...                ...  \n",
       "208  The following columns are in the courses table...      documentation  \n",
       "209  My tables outline the coures for a college uni...      documentation  \n",
       "210  The descr marks the course description. The co...      documentation  \n",
       "211  The ENG identifier in the college column stand...      documentation  \n",
       "212  For the locations, PHO stands for Photonics. W...      documentation  \n",
       "\n",
       "[235 rows x 4 columns]"
      ]
     },
     "execution_count": 8,
     "metadata": {},
     "output_type": "execute_result"
    }
   ],
   "source": [
    "# At any time you can inspect what training data the package is able to reference\n",
    "training_data = vn.get_training_data()\n",
    "training_data"
   ]
  },
  {
   "cell_type": "code",
   "execution_count": 6,
   "metadata": {},
   "outputs": [
    {
     "name": "stdout",
     "output_type": "stream",
     "text": [
      "Adding documentation....\n"
     ]
    },
    {
     "name": "stderr",
     "output_type": "stream",
     "text": [
      "Add of existing embedding ID: 30ffb703-30c6-5a3d-aef0-92a913ead6ae-doc\n",
      "Add of existing embedding ID: a1652bc5-5257-5300-9c2c-0fbc0e5d8cf7-doc\n",
      "Add of existing embedding ID: 841f61c4-76b9-578a-9e0a-c5e38257699d-doc\n",
      "Add of existing embedding ID: 263b6e68-1e64-59c8-b43e-890a89c50553-doc\n",
      "Add of existing embedding ID: 9badabc5-e417-56d9-9b60-539bcffc280d-doc\n",
      "Add of existing embedding ID: a02714a9-ec5a-5939-af3f-b5e998c9d061-doc\n",
      "Add of existing embedding ID: 06381811-2be4-5cef-bde6-888b3a9a95ff-doc\n",
      "Add of existing embedding ID: b93e00af-5ff0-50f3-b08e-dd01e53c964f-doc\n",
      "Add of existing embedding ID: 6988052d-3ae9-55f7-a3ff-a1d3958b2b2b-doc\n",
      "Add of existing embedding ID: c10c2d7c-d24b-53f7-9171-b89b220e2be5-doc\n",
      "Add of existing embedding ID: 48baf7e0-2988-5023-8208-358074030696-doc\n",
      "Add of existing embedding ID: 37bbf0c8-ba9d-5eec-8afd-fae0056b82db-doc\n",
      "Add of existing embedding ID: 7a535ee5-e080-597a-801d-45ccf6f62fa9-doc\n",
      "Add of existing embedding ID: 13c175cb-ed2a-5033-9c71-76f84e61a26d-doc\n",
      "Add of existing embedding ID: 1f848355-e0e3-595c-831f-08244aff3326-doc\n",
      "Add of existing embedding ID: 61e1905d-0a18-5e30-a4b2-699adc38f921-doc\n",
      "Add of existing embedding ID: 384db79e-f174-51d6-958d-b9cc431a57cf-doc\n",
      "Add of existing embedding ID: 841c060f-151c-50e8-a0ce-c02e70553201-doc\n",
      "Add of existing embedding ID: 01c2fd15-39af-5ea4-a2da-895ab8402172-doc\n",
      "Add of existing embedding ID: 31d5eac3-95cc-58b6-8f72-dee95bafad3d-doc\n",
      "Add of existing embedding ID: ffc7fa56-a7fe-524f-a93d-def5f5a8a8d8-doc\n",
      "Add of existing embedding ID: 6a850d33-14ab-5a82-8356-54b8e69be53a-doc\n",
      "Add of existing embedding ID: 399cae03-d648-567c-999c-915c16823f96-doc\n",
      "Add of existing embedding ID: 6c1fcb29-452b-52e7-829b-f1b83b9caef6-doc\n",
      "Add of existing embedding ID: baf9a167-5abd-5814-90ef-9a82141eb0af-doc\n",
      "Add of existing embedding ID: 6120d938-b122-5bb8-b32d-2de7fb19cd89-doc\n",
      "Add of existing embedding ID: 4d6921e1-35a4-50e7-8c73-15779d69d720-doc\n",
      "Add of existing embedding ID: 238cf5ec-1aca-5d9b-b2c9-b2387f14d8c8-doc\n",
      "Add of existing embedding ID: 3b7f96dd-a5aa-5883-ac79-af3788e471ed-doc\n",
      "Add of existing embedding ID: 73de0c07-93a7-5c1d-94bf-ecf9b70ee536-doc\n",
      "Add of existing embedding ID: a92cef27-4cef-5334-85bc-931f0dd3c1a0-doc\n",
      "Add of existing embedding ID: 4f04b896-49cc-5433-aec3-c1f6540d2c08-doc\n",
      "Add of existing embedding ID: 5f0bdd98-e66d-56a1-bdae-6bd7ba420ece-doc\n",
      "Add of existing embedding ID: accbb279-4c1f-505b-9ace-b07d08859aa2-doc\n",
      "Add of existing embedding ID: 50d87cef-5285-5291-801f-d77d23112bb2-doc\n",
      "Add of existing embedding ID: a534313c-01b6-5949-be03-b4618c63a4cc-doc\n",
      "Add of existing embedding ID: e194bea3-9e60-52ea-85a4-7539a7233f41-doc\n",
      "Add of existing embedding ID: cf221ec8-b786-5c24-9f25-ae7f57629e8a-doc\n",
      "Add of existing embedding ID: 9feb9e99-153e-50ed-9262-44a2d631c274-doc\n",
      "Add of existing embedding ID: be9ddbdb-5232-54e9-ac9c-1c0528c15fa2-doc\n",
      "Add of existing embedding ID: af3d2d14-946d-5ec6-9779-3a109b0717fa-doc\n",
      "Add of existing embedding ID: 5a776693-db9b-59ef-808e-db25117f3afd-doc\n",
      "Add of existing embedding ID: 1fa0f515-e6bd-5ff9-b01e-460aed15e40c-doc\n",
      "Add of existing embedding ID: d2757dd3-67ca-5ba4-90d7-71660b6e3789-doc\n",
      "Add of existing embedding ID: 9384855b-aab1-5a81-8442-85854c1e542e-doc\n",
      "Add of existing embedding ID: e1a2a4cb-b161-57c5-935c-56d4e9fd212a-doc\n",
      "Add of existing embedding ID: 2904488d-3a6b-5abd-acdb-3aa691f2ca45-doc\n",
      "Add of existing embedding ID: 92955ff2-3a50-5a36-b4e7-9d95e8349a91-doc\n",
      "Add of existing embedding ID: 07051c13-a659-572c-a485-f2d9176f84b0-doc\n",
      "Add of existing embedding ID: b8dbd2a0-7b33-5460-a149-badade2095b7-doc\n",
      "Add of existing embedding ID: de6cdf88-9452-5e94-8535-7852e3e28ee0-doc\n",
      "Add of existing embedding ID: 45bc8cf0-f62c-56b8-b8fa-4db5ab21c855-doc\n",
      "Add of existing embedding ID: 8d4766e6-ba03-5900-940f-fb9e4b934ca0-doc\n",
      "Add of existing embedding ID: 4fb162cb-0547-5ce3-a115-87fcb5dbaa65-doc\n",
      "Add of existing embedding ID: 1bbc0383-254c-5345-acd3-0e8906ba9917-doc\n",
      "Add of existing embedding ID: f162693e-10b2-5244-8f71-4d8e288fdf28-doc\n",
      "Add of existing embedding ID: 82fe8d97-4c48-5dc5-9075-cfceb78847a8-doc\n",
      "Add of existing embedding ID: be808937-d98c-50c4-b848-cf8e8b641de4-doc\n",
      "Add of existing embedding ID: 581f196b-c27d-591d-819a-43db4881277d-doc\n",
      "Add of existing embedding ID: 27c36221-24cd-55f9-b051-f7361cbc0792-doc\n",
      "Add of existing embedding ID: 37ea0dca-0fa8-52c1-a658-6782de83db66-doc\n",
      "Add of existing embedding ID: 6d56201b-b6a9-55d5-971a-40c39466c4ec-doc\n",
      "Add of existing embedding ID: eeb9c625-1294-5a43-af26-442e35a0a277-doc\n",
      "Add of existing embedding ID: 158259d4-6d8f-5776-b168-823cab442fb3-doc\n",
      "Add of existing embedding ID: 4523f8b2-8d82-50ed-b128-126353b5b461-doc\n",
      "Add of existing embedding ID: ad9c50fc-8a4a-56b4-b133-3a49b9221673-doc\n",
      "Add of existing embedding ID: f9de6063-dea8-53b5-9443-0ff95660613d-doc\n",
      "Add of existing embedding ID: 686fe728-8aec-59e5-98b6-812f7cdbb348-doc\n",
      "Add of existing embedding ID: 0fed90a2-f619-5aeb-807e-e7ef11297304-doc\n",
      "Add of existing embedding ID: 9b174791-b379-5081-be2c-341a8fc2997a-doc\n",
      "Add of existing embedding ID: 000bd176-2f7f-5c06-8a96-82ee68d9a385-doc\n",
      "Add of existing embedding ID: c5fbe3aa-cea9-5a56-82b7-4d217da408aa-doc\n",
      "Add of existing embedding ID: 58baf483-3990-54ed-97e3-6aa6d3f2f468-doc\n",
      "Add of existing embedding ID: 8769b5db-2046-5e1d-8a83-33ef79eb94f7-doc\n",
      "Add of existing embedding ID: 1ff81584-a76a-59bc-8fc6-c174714ad62f-doc\n",
      "Add of existing embedding ID: c5137a87-c933-5ec0-96cc-d74fa9299a88-doc\n",
      "Add of existing embedding ID: 7193ddb6-90fb-5c2a-b623-ff9c94664b55-doc\n",
      "Add of existing embedding ID: e8102d0b-0e02-5a1c-ae49-1862acfe07eb-doc\n",
      "Add of existing embedding ID: 9af6abcc-dd7d-52c8-8687-c99ccbecaea8-doc\n",
      "Add of existing embedding ID: 803286c2-0368-51f6-ab3d-c30a11fa0758-doc\n",
      "Add of existing embedding ID: 7ff704f1-829d-5096-9ead-9fd96fd09435-doc\n",
      "Add of existing embedding ID: 306a9f8e-fb77-5463-aff7-22f4e32e4335-doc\n",
      "Add of existing embedding ID: f31af0db-c3c8-5378-b066-1d2eb0644663-doc\n",
      "Add of existing embedding ID: e2a25f42-09ab-5f4f-b64c-a35f1c840151-doc\n",
      "Add of existing embedding ID: d4618e50-24c6-54c5-b6c5-d394de2a6dd7-doc\n",
      "Add of existing embedding ID: 3d1970ad-1f1c-5be7-98e3-2e80cdc34d8c-doc\n",
      "Add of existing embedding ID: 6b7450e5-6c88-5639-b863-4d84eb835c60-doc\n",
      "Add of existing embedding ID: 393c3b0b-4338-5b79-afde-b505e2f8e7ef-doc\n",
      "Add of existing embedding ID: f604711d-435b-59b6-8c43-37de64d88110-doc\n",
      "Add of existing embedding ID: 4fcd2ac6-e1f4-5970-be9d-379bfdc3398f-doc\n",
      "Add of existing embedding ID: 9d34d314-ae97-5b57-a1d2-f7c3ffdf04d1-doc\n",
      "Add of existing embedding ID: 7ffb7b2b-9479-5441-94a1-a6f7974c22c0-doc\n",
      "Add of existing embedding ID: bddecaec-3c78-58ff-92d6-9dea0e0dbcef-doc\n",
      "Add of existing embedding ID: deed1665-f4f1-53cb-8147-486871dc602b-doc\n",
      "Add of existing embedding ID: 98ba13fb-133e-557b-a805-3a5c8b3a553c-doc\n",
      "Add of existing embedding ID: 6dab3278-9a6e-5bb4-8505-f468f51d6ce6-doc\n",
      "Add of existing embedding ID: 6affbccb-0db1-5e23-9f4c-d42da158dfdb-doc\n",
      "Add of existing embedding ID: f666e0ae-ad52-5f60-8e1b-ff3ed34010ba-doc\n",
      "Add of existing embedding ID: 3e850b46-9eb5-59c2-b1ac-d3792f5abf5f-doc\n",
      "Add of existing embedding ID: 63bdc646-b408-50e4-9e4c-326ca1c3a9e7-doc\n",
      "Add of existing embedding ID: 291a96f4-1d8a-504b-a4f5-67ff89ed92cf-doc\n",
      "Add of existing embedding ID: 793af01c-6072-5299-8179-988986420050-doc\n",
      "Add of existing embedding ID: 840fd051-7adb-5b2d-90af-a82508da0bdf-doc\n",
      "Add of existing embedding ID: a917d942-d0fc-5da9-b4de-1219e5504030-doc\n",
      "Add of existing embedding ID: 8c9c0100-52c3-5db3-ab05-fd025364a07d-doc\n",
      "Add of existing embedding ID: 03712067-d3fc-543e-8cc4-f71ec7170c19-doc\n",
      "Add of existing embedding ID: 2373e132-7f60-520f-82fc-796c646ecc16-doc\n",
      "Add of existing embedding ID: 375012e6-52e5-5ff7-9cab-8b392e73bf40-doc\n",
      "Add of existing embedding ID: e127ac2b-16b1-5c9b-8663-afbc891c03cc-doc\n",
      "Add of existing embedding ID: 3713e4b4-e0f6-5b6b-a89e-c25f4e65e5f8-doc\n",
      "Add of existing embedding ID: 2a93a4f1-955c-557d-b538-15f908d8da9d-doc\n",
      "Add of existing embedding ID: 238f0e9a-f949-5571-a11f-89e74c66ec86-doc\n",
      "Add of existing embedding ID: dfc36e11-0657-5ba8-993d-5be2bf0d2764-doc\n",
      "Add of existing embedding ID: 2d98b98c-cb7f-5a69-b6e3-eb90e3a35f2b-doc\n",
      "Add of existing embedding ID: 77a96f68-1c21-58ca-a45e-719de542badb-doc\n",
      "Add of existing embedding ID: e5c5f5ea-1dcb-54b6-a155-d01d75d0c556-doc\n",
      "Add of existing embedding ID: 8e0a6ec4-da61-5644-9a4f-b5bb3a73b1db-doc\n",
      "Add of existing embedding ID: 7c221975-2dce-5afc-99fc-014cdc953e14-doc\n",
      "Add of existing embedding ID: 063a4ca6-fed2-5d0d-a7bd-3f3ad38410c1-doc\n",
      "Add of existing embedding ID: 9a9ba700-9629-55b9-9a5b-60d90922968c-doc\n",
      "Add of existing embedding ID: d67d74f4-a9e4-57df-9c65-e309a00428cd-doc\n",
      "Add of existing embedding ID: 79c8aa51-d8f6-5d8a-97d7-abf3f0ae0e51-doc\n",
      "Add of existing embedding ID: e8998391-bec9-5b93-9e6d-8b6116f15857-doc\n",
      "Add of existing embedding ID: 02e69897-2f9f-5dc6-8029-35543f752bfa-doc\n",
      "Add of existing embedding ID: 58bba527-8724-5027-9590-a809fbb0325b-doc\n",
      "Add of existing embedding ID: 6efd13b0-081d-545d-ae28-7360eb4bc913-doc\n",
      "Add of existing embedding ID: f707656e-dc88-533a-911f-ab9aea434635-doc\n",
      "Add of existing embedding ID: 12acc825-4da2-5bbd-966e-60062dfd6f5b-doc\n",
      "Add of existing embedding ID: 4d1d7057-bb45-5f75-8f3e-741e579d9de7-doc\n",
      "Add of existing embedding ID: 6ceab12a-f704-5609-bf33-26a7fe6136cf-doc\n",
      "Add of existing embedding ID: f6959424-9ad7-5c05-be16-9aca7f113d87-doc\n",
      "Add of existing embedding ID: 15d64e0d-9628-5a12-a765-385a677d1088-doc\n",
      "Add of existing embedding ID: cbc4bb6a-94e2-53f3-bbb9-56164768f8e2-doc\n",
      "Add of existing embedding ID: 5c5b5300-0df7-5996-9000-9b172849782a-doc\n",
      "Add of existing embedding ID: 033dd5d4-d992-5954-8f0b-8efe9949f896-doc\n",
      "Add of existing embedding ID: 49e97c63-53b8-5335-8dae-4dcebd992d1f-doc\n",
      "Add of existing embedding ID: dc41c220-a1cb-5f53-bbc6-127e878b87b8-doc\n",
      "Add of existing embedding ID: f52f17cb-d2ad-5744-a02c-8a17660e2549-doc\n",
      "Add of existing embedding ID: 8d08a68a-f17d-5643-8312-8743b2eeb1db-doc\n",
      "Add of existing embedding ID: b3be18ac-254f-5130-9338-bb64bd31fc95-doc\n",
      "Add of existing embedding ID: fd182a5f-d7d7-56ea-a3e7-6ee3aca711c7-doc\n",
      "Add of existing embedding ID: b7f81b56-3732-5671-b85e-10da8bb971a1-doc\n",
      "Add of existing embedding ID: 97a3e390-e05c-551c-875a-ff1fc2197344-doc\n",
      "Add of existing embedding ID: d06ce98e-1f13-5d5c-ab74-de1bab875b71-doc\n",
      "Add of existing embedding ID: b5f9880e-d57f-570f-ac57-b2ac83aa844e-doc\n",
      "Add of existing embedding ID: a8c1d07a-d8aa-5e24-b619-f2ce028002ac-doc\n",
      "Add of existing embedding ID: 7eeb989c-0040-5670-9e3d-1ce860fb8ee6-doc\n",
      "Add of existing embedding ID: 3807b0cb-6d6c-5c63-9a5e-7bdef59a8b71-doc\n",
      "Add of existing embedding ID: da0bf4f1-5009-5afa-b69f-4c682eb6cccf-doc\n",
      "Add of existing embedding ID: 6422f296-89d3-5c53-bdfb-916bef553d25-doc\n",
      "Add of existing embedding ID: 51a72bb6-b4a3-531b-9b7e-ce666f982ce4-doc\n",
      "Add of existing embedding ID: cd628fd9-90ff-569b-b4d0-35fd8137827f-doc\n",
      "Add of existing embedding ID: 71fa52ac-faee-5e1c-a467-624de069b2c3-doc\n",
      "Add of existing embedding ID: 8b988ddf-3617-5177-9c29-e57bfa67c6e3-doc\n",
      "Add of existing embedding ID: bc9463f5-0ed0-5ea2-8f6a-9c8fd90557d0-doc\n",
      "Add of existing embedding ID: c550b27c-bf46-5ae1-967d-c617b359aead-doc\n",
      "Add of existing embedding ID: 9a2ba193-ed7b-5a42-a487-52e13197c62c-doc\n",
      "Add of existing embedding ID: 82f6e216-563a-5b09-bdf2-8ade054a3d20-doc\n",
      "Add of existing embedding ID: 4888c92a-5dda-59a3-9076-b68cd2ff9262-doc\n",
      "Add of existing embedding ID: accc30ae-af61-5c7a-bb1a-d299e40ec8ad-doc\n",
      "Add of existing embedding ID: 2f429782-b765-5e88-b1db-6a4ef370fedb-doc\n",
      "Add of existing embedding ID: 5657a369-dc11-5c33-a324-d4207fd6108b-doc\n",
      "Add of existing embedding ID: d1af0497-a5bf-51e3-92a4-5645d7e24146-doc\n",
      "Add of existing embedding ID: fa763564-491c-564f-81e1-3365f6c2724c-doc\n",
      "Add of existing embedding ID: c62aea5c-4bd0-5f89-a39e-b6ecda05a476-doc\n",
      "Add of existing embedding ID: 7850e2fe-ad2c-5b30-957c-1c4e766d574f-doc\n",
      "Add of existing embedding ID: 7c784355-a29c-5f01-b300-0bcc868ef020-doc\n",
      "Add of existing embedding ID: 8cc28dbd-a0ff-56b3-aad3-ce94f278fe4d-doc\n",
      "Add of existing embedding ID: 3257e455-1ea7-5e72-a47c-e7a82e7c77b0-doc\n",
      "Add of existing embedding ID: 4354c176-2d84-5084-b9bd-0842e04488fc-doc\n",
      "Add of existing embedding ID: e5680ddf-195a-58e3-ac1d-e3a72143c015-doc\n",
      "Add of existing embedding ID: f971d588-56ff-558f-acec-4204dcdc2ecb-doc\n",
      "Add of existing embedding ID: da4462c2-409e-5ada-87d9-dfc6908cba80-doc\n",
      "Add of existing embedding ID: d89b98a8-db13-5f71-9483-429778a698c9-doc\n",
      "Add of existing embedding ID: bc8aedc8-4a0f-5a65-9024-331a2510106f-doc\n",
      "Add of existing embedding ID: 6ff3fb06-bfa7-5584-baef-5a26a4c4e499-doc\n",
      "Add of existing embedding ID: 3ff2b957-cc94-5dc7-93aa-22b63c8c4c29-doc\n",
      "Add of existing embedding ID: 87293446-a28f-5aaf-9a22-ecef057f7fde-doc\n",
      "Add of existing embedding ID: 12c64b34-f062-5a65-96f7-500918219284-doc\n",
      "Add of existing embedding ID: 225b4900-d9c3-58d4-95ac-9603365a4d59-doc\n",
      "Add of existing embedding ID: 1e2a1ea7-d188-5d16-957f-3a075a4c7c74-doc\n",
      "Add of existing embedding ID: af99fad9-07e1-5e9c-bc83-6123a12931b2-doc\n",
      "Add of existing embedding ID: 01174da0-d2d3-5370-8e31-4a9fd4cb7873-doc\n",
      "Add of existing embedding ID: 2dadd213-8bb9-5a5b-beee-eca14c3dfe3d-doc\n",
      "Add of existing embedding ID: 3328b172-64a6-5742-9317-f9db3e1719c7-doc\n",
      "Add of existing embedding ID: fb779b9b-27fb-5462-8758-8b4ad0d8fa2b-doc\n",
      "Add of existing embedding ID: 282eeee2-311c-5d1a-8f0e-09e521db2fdf-doc\n",
      "Add of existing embedding ID: 59b38594-2785-5c20-9b68-9fd69f41612c-doc\n",
      "Add of existing embedding ID: b87edd8b-27f1-5247-83c0-c032c2a5241d-doc\n",
      "Add of existing embedding ID: 15570b0f-d6fd-57ab-990e-11f98b87ddea-doc\n",
      "Add of existing embedding ID: ab327341-3a29-5714-a334-976c494ddcf4-doc\n",
      "Add of existing embedding ID: 45fde28a-df07-53cf-b93c-c321481695a9-doc\n",
      "Add of existing embedding ID: 8d73748b-3040-5dff-8731-602f96cca307-doc\n",
      "Add of existing embedding ID: d3450f1b-3fcd-5d1b-935a-8273d328dd97-doc\n",
      "Add of existing embedding ID: 6b1e5487-e2cc-5ff6-8f60-f9b353152438-doc\n",
      "Add of existing embedding ID: 41095f1f-4d6d-5f55-a9b0-addeccc83d8f-doc\n",
      "Add of existing embedding ID: 7430b328-c0f6-5317-9adf-f75dc19f39d2-doc\n",
      "Add of existing embedding ID: 6e6090e5-cd4a-5e3c-8b09-619e7c14dd41-doc\n",
      "Add of existing embedding ID: b08440d7-4f92-5177-ab3b-e12506a031a7-doc\n",
      "Add of existing embedding ID: 6ec8c0a3-3933-5438-a204-94d7eed0ebc5-doc\n",
      "Add of existing embedding ID: accc56fd-f319-55b5-9512-05047816cae6-doc\n",
      "Add of existing embedding ID: 1ec3de0c-bdf7-5961-8522-c42aa21d853e-doc\n",
      "Add of existing embedding ID: 186b87f4-a9f3-5bea-98e6-200d9c031391-doc\n",
      "Add of existing embedding ID: 3bc2bbb9-4158-5653-a8b2-c6180884553f-doc\n",
      "Add of existing embedding ID: fe27ea23-f331-5853-8451-c7bb6b275144-doc\n",
      "Add of existing embedding ID: ac435f5c-7518-5492-abf1-f0ea89a0ec15-doc\n",
      "Add of existing embedding ID: 5d76794d-a660-5c5e-9462-b49530b5166e-doc\n",
      "Add of existing embedding ID: b4f67c45-8afa-5eb4-8c1e-911d0cb803a8-doc\n",
      "Add of existing embedding ID: 4718b4ca-ead2-5578-ba8f-6aefed4a50a7-doc\n",
      "Add of existing embedding ID: 66230b0b-b604-5bad-96fe-99bc906f0502-doc\n",
      "Insert of existing embedding ID: 6574ed6a-c8df-5a81-9d8e-1fe3beeaefd9-doc\n",
      "Add of existing embedding ID: 6574ed6a-c8df-5a81-9d8e-1fe3beeaefd9-doc\n"
     ]
    },
    {
     "data": {
      "text/plain": [
       "'6574ed6a-c8df-5a81-9d8e-1fe3beeaefd9-doc'"
      ]
     },
     "execution_count": 6,
     "metadata": {},
     "output_type": "execute_result"
    }
   ],
   "source": [
    "vn.train(documentation=\"The ENG identifier in the college column stands for Engineering. However, \" \\\n",
    "\"anytime it a course is referenced as EC 311 for example, ENG is implied. So the whole course\" \\\n",
    "\"code for EC 311 would be ENG EC 311.\")"
   ]
  },
  {
   "cell_type": "code",
   "execution_count": 7,
   "metadata": {},
   "outputs": [
    {
     "name": "stdout",
     "output_type": "stream",
     "text": [
      "Adding documentation....\n"
     ]
    },
    {
     "data": {
      "text/plain": [
       "'1b44eff6-7e3c-5af5-9c26-53602bdfb4be-doc'"
      ]
     },
     "execution_count": 7,
     "metadata": {},
     "output_type": "execute_result"
    }
   ],
   "source": [
    "vn.train(documentation=\"For the locations, PHO stands for Photonics. When a question liked which classes are taught in Photonics or photonics,\" \\\n",
    "\"this question is asking which courses are located in PHO?\")"
   ]
  },
  {
   "cell_type": "code",
   "execution_count": null,
   "metadata": {},
   "outputs": [],
   "source": [
    "# You can remove training data if there's obsolete/incorrect information.\n",
    "# vn.remove_training_data(id='5dc9b25e-6409-51b3-9ae7-1e51152309b8-doc')\n",
    "# training_data"
   ]
  },
  {
   "cell_type": "code",
   "execution_count": null,
   "metadata": {},
   "outputs": [],
   "source": [
    "# %%capture captured_output\n",
    "my_question = \"What is the course description of EC 522?\"\n",
    "response = vn.ask(question=my_question, allow_llm_to_see_data=True)"
   ]
  },
  {
   "cell_type": "code",
   "execution_count": null,
   "metadata": {},
   "outputs": [],
   "source": [
    "capt_vanna_ans= captured_output.stdout\n",
    "if \"ERROR\" not in capt_vanna_ans:\n",
    "    lines = capt_vanna_ans.splitlines()\n",
    "\n",
    "    SQL_query_commands = [\"SELECT\", \"AND\", \"WHERE\", \"FROM\", \";\", \"gpt\", \"SQL\", \"LLM\", \"`\"]\n",
    "    filtered_lines = [line for line in lines if not any(substring in line for substring in SQL_query_commands)]\n",
    "    vanna_ans_tables = \"\\n\".join(filtered_lines)\n",
    "\n",
    "    print(vanna_ans_tables)\n",
    "else:\n",
    "    print(\"Bruh happened\")"
   ]
  },
  {
   "cell_type": "code",
   "execution_count": null,
   "metadata": {},
   "outputs": [],
   "source": [
    "client = OpenAI()\n",
    "client.api_key = api_key\n",
    "\n",
    "completion = client.chat.completions.create(\n",
    "  model=\"gpt-3.5-turbo\",\n",
    "  messages=[\n",
    "    {\"role\": \"developer\", \"content\": \"You are a helpful assistant in interpreting data tables into complete sentences and an intelligible response.\"},\n",
    "    {\"role\": \"user\", \"content\": f\"Answer the question of: {my_question}, given this data table of{vanna_ans_tables}\"}\n",
    "  ]\n",
    ")\n",
    "\n",
    "print(completion.choices[0].message.content)\n"
   ]
  },
  {
   "cell_type": "code",
   "execution_count": null,
   "metadata": {},
   "outputs": [],
   "source": [
    "class MyVanna(ChromaDB_VectorStore, OpenAI_Chat):\n",
    "    def __init__(self, config=None):\n",
    "        ChromaDB_VectorStore.__init__(self, config=config)\n",
    "        OpenAI_Chat.__init__(self, config=config)\n",
    "\n",
    "def answer_course_question_new(question: str):\n",
    "    vn = MyVanna(config={'api_key': api_key, 'model': 'gpt-3.5-turbo'})\n",
    "    vn.connect_to_postgres(host='34.134.126.254', dbname='tutorialDB', user='postgres', password='butlar', port='5432')\n",
    "    # training_data = vn.get_training_data()\n",
    "    # print(training_data)\n",
    "\n",
    "    dummy_output = io.StringIO()\n",
    "    dummy_error = io.StringIO()\n",
    "    with redirect_stdout(dummy_output), redirect_stderr(dummy_error):\n",
    "        response = vn.ask(question=question, allow_llm_to_see_data=True, print_results=False)\n",
    "    \n",
    "    if response[1]:\n",
    "        print(f\"The response is {response[1]}\")\n",
    "    return response[1]\n",
    "\n",
    "newple = answer_course_question_new(\"What courses does Tali Moreshet teach?\")"
   ]
  },
  {
   "cell_type": "code",
   "execution_count": null,
   "metadata": {},
   "outputs": [],
   "source": [
    "print(newple[1])"
   ]
  },
  {
   "cell_type": "code",
   "execution_count": null,
   "metadata": {},
   "outputs": [],
   "source": [
    "from vanna.flask import VannaFlaskApp\n",
    "app = VannaFlaskApp(vn)\n",
    "app.run()"
   ]
  }
 ],
 "metadata": {
  "kernelspec": {
   "display_name": "Python (Google Cloud)",
   "language": "python",
   "name": "google_cloud_env"
  },
  "language_info": {
   "codemirror_mode": {
    "name": "ipython",
    "version": 3
   },
   "file_extension": ".py",
   "mimetype": "text/x-python",
   "name": "python",
   "nbconvert_exporter": "python",
   "pygments_lexer": "ipython3",
   "version": "3.12.0"
  }
 },
 "nbformat": 4,
 "nbformat_minor": 2
}
