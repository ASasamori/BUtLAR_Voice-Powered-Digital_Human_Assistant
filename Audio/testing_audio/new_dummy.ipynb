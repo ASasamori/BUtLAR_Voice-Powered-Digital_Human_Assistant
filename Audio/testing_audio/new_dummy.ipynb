{
 "cells": [
  {
   "cell_type": "code",
   "execution_count": 1,
   "metadata": {},
   "outputs": [
    {
     "name": "stdout",
     "output_type": "stream",
     "text": [
      "Requirement already satisfied: vanna[chromadb,openai,postgres] in /Users/Andrew/CS/classes/senior_design/BUtLAR_Voice-Powered-Digital_Human_Assistant/.venv/lib/python3.12/site-packages (0.7.6)\n",
      "Requirement already satisfied: requests in /Users/Andrew/CS/classes/senior_design/BUtLAR_Voice-Powered-Digital_Human_Assistant/.venv/lib/python3.12/site-packages (from vanna[chromadb,openai,postgres]) (2.32.3)\n",
      "Requirement already satisfied: tabulate in /Users/Andrew/CS/classes/senior_design/BUtLAR_Voice-Powered-Digital_Human_Assistant/.venv/lib/python3.12/site-packages (from vanna[chromadb,openai,postgres]) (0.9.0)\n",
      "Requirement already satisfied: plotly in /Users/Andrew/CS/classes/senior_design/BUtLAR_Voice-Powered-Digital_Human_Assistant/.venv/lib/python3.12/site-packages (from vanna[chromadb,openai,postgres]) (6.0.1)\n",
      "Requirement already satisfied: pandas in /Users/Andrew/CS/classes/senior_design/BUtLAR_Voice-Powered-Digital_Human_Assistant/.venv/lib/python3.12/site-packages (from vanna[chromadb,openai,postgres]) (2.2.3)\n",
      "Requirement already satisfied: sqlparse in /Users/Andrew/CS/classes/senior_design/BUtLAR_Voice-Powered-Digital_Human_Assistant/.venv/lib/python3.12/site-packages (from vanna[chromadb,openai,postgres]) (0.5.3)\n",
      "Requirement already satisfied: kaleido in /Users/Andrew/CS/classes/senior_design/BUtLAR_Voice-Powered-Digital_Human_Assistant/.venv/lib/python3.12/site-packages (from vanna[chromadb,openai,postgres]) (0.2.1)\n",
      "Requirement already satisfied: flask in /Users/Andrew/CS/classes/senior_design/BUtLAR_Voice-Powered-Digital_Human_Assistant/.venv/lib/python3.12/site-packages (from vanna[chromadb,openai,postgres]) (3.1.0)\n",
      "Requirement already satisfied: flask-sock in /Users/Andrew/CS/classes/senior_design/BUtLAR_Voice-Powered-Digital_Human_Assistant/.venv/lib/python3.12/site-packages (from vanna[chromadb,openai,postgres]) (0.7.0)\n",
      "Requirement already satisfied: flasgger in /Users/Andrew/CS/classes/senior_design/BUtLAR_Voice-Powered-Digital_Human_Assistant/.venv/lib/python3.12/site-packages (from vanna[chromadb,openai,postgres]) (0.9.7.1)\n",
      "Requirement already satisfied: sqlalchemy in /Users/Andrew/CS/classes/senior_design/BUtLAR_Voice-Powered-Digital_Human_Assistant/.venv/lib/python3.12/site-packages (from vanna[chromadb,openai,postgres]) (2.0.36)\n",
      "Requirement already satisfied: chromadb in /Users/Andrew/CS/classes/senior_design/BUtLAR_Voice-Powered-Digital_Human_Assistant/.venv/lib/python3.12/site-packages (from vanna[chromadb,openai,postgres]) (0.6.3)\n",
      "Requirement already satisfied: openai in /Users/Andrew/CS/classes/senior_design/BUtLAR_Voice-Powered-Digital_Human_Assistant/.venv/lib/python3.12/site-packages (from vanna[chromadb,openai,postgres]) (1.66.3)\n",
      "Requirement already satisfied: psycopg2-binary in /Users/Andrew/CS/classes/senior_design/BUtLAR_Voice-Powered-Digital_Human_Assistant/.venv/lib/python3.12/site-packages (from vanna[chromadb,openai,postgres]) (2.9.10)\n",
      "Requirement already satisfied: db-dtypes in /Users/Andrew/CS/classes/senior_design/BUtLAR_Voice-Powered-Digital_Human_Assistant/.venv/lib/python3.12/site-packages (from vanna[chromadb,openai,postgres]) (1.4.2)\n",
      "Requirement already satisfied: build>=1.0.3 in /Users/Andrew/CS/classes/senior_design/BUtLAR_Voice-Powered-Digital_Human_Assistant/.venv/lib/python3.12/site-packages (from chromadb->vanna[chromadb,openai,postgres]) (1.2.2.post1)\n",
      "Requirement already satisfied: pydantic>=1.9 in /Users/Andrew/CS/classes/senior_design/BUtLAR_Voice-Powered-Digital_Human_Assistant/.venv/lib/python3.12/site-packages (from chromadb->vanna[chromadb,openai,postgres]) (2.9.2)\n",
      "Requirement already satisfied: chroma-hnswlib==0.7.6 in /Users/Andrew/CS/classes/senior_design/BUtLAR_Voice-Powered-Digital_Human_Assistant/.venv/lib/python3.12/site-packages (from chromadb->vanna[chromadb,openai,postgres]) (0.7.6)\n",
      "Requirement already satisfied: fastapi>=0.95.2 in /Users/Andrew/CS/classes/senior_design/BUtLAR_Voice-Powered-Digital_Human_Assistant/.venv/lib/python3.12/site-packages (from chromadb->vanna[chromadb,openai,postgres]) (0.115.11)\n",
      "Requirement already satisfied: uvicorn>=0.18.3 in /Users/Andrew/CS/classes/senior_design/BUtLAR_Voice-Powered-Digital_Human_Assistant/.venv/lib/python3.12/site-packages (from uvicorn[standard]>=0.18.3->chromadb->vanna[chromadb,openai,postgres]) (0.34.0)\n",
      "Requirement already satisfied: numpy>=1.22.5 in /Users/Andrew/CS/classes/senior_design/BUtLAR_Voice-Powered-Digital_Human_Assistant/.venv/lib/python3.12/site-packages (from chromadb->vanna[chromadb,openai,postgres]) (1.26.4)\n",
      "Requirement already satisfied: posthog>=2.4.0 in /Users/Andrew/CS/classes/senior_design/BUtLAR_Voice-Powered-Digital_Human_Assistant/.venv/lib/python3.12/site-packages (from chromadb->vanna[chromadb,openai,postgres]) (3.21.0)\n",
      "Requirement already satisfied: typing_extensions>=4.5.0 in /Users/Andrew/CS/classes/senior_design/BUtLAR_Voice-Powered-Digital_Human_Assistant/.venv/lib/python3.12/site-packages (from chromadb->vanna[chromadb,openai,postgres]) (4.12.2)\n",
      "Requirement already satisfied: onnxruntime>=1.14.1 in /Users/Andrew/CS/classes/senior_design/BUtLAR_Voice-Powered-Digital_Human_Assistant/.venv/lib/python3.12/site-packages (from chromadb->vanna[chromadb,openai,postgres]) (1.21.0)\n",
      "Requirement already satisfied: opentelemetry-api>=1.2.0 in /Users/Andrew/CS/classes/senior_design/BUtLAR_Voice-Powered-Digital_Human_Assistant/.venv/lib/python3.12/site-packages (from chromadb->vanna[chromadb,openai,postgres]) (1.31.0)\n",
      "Requirement already satisfied: opentelemetry-exporter-otlp-proto-grpc>=1.2.0 in /Users/Andrew/CS/classes/senior_design/BUtLAR_Voice-Powered-Digital_Human_Assistant/.venv/lib/python3.12/site-packages (from chromadb->vanna[chromadb,openai,postgres]) (1.31.0)\n",
      "Requirement already satisfied: opentelemetry-instrumentation-fastapi>=0.41b0 in /Users/Andrew/CS/classes/senior_design/BUtLAR_Voice-Powered-Digital_Human_Assistant/.venv/lib/python3.12/site-packages (from chromadb->vanna[chromadb,openai,postgres]) (0.52b0)\n",
      "Requirement already satisfied: opentelemetry-sdk>=1.2.0 in /Users/Andrew/CS/classes/senior_design/BUtLAR_Voice-Powered-Digital_Human_Assistant/.venv/lib/python3.12/site-packages (from chromadb->vanna[chromadb,openai,postgres]) (1.31.0)\n",
      "Requirement already satisfied: tokenizers>=0.13.2 in /Users/Andrew/CS/classes/senior_design/BUtLAR_Voice-Powered-Digital_Human_Assistant/.venv/lib/python3.12/site-packages (from chromadb->vanna[chromadb,openai,postgres]) (0.21.1)\n",
      "Requirement already satisfied: pypika>=0.48.9 in /Users/Andrew/CS/classes/senior_design/BUtLAR_Voice-Powered-Digital_Human_Assistant/.venv/lib/python3.12/site-packages (from chromadb->vanna[chromadb,openai,postgres]) (0.48.9)\n",
      "Requirement already satisfied: tqdm>=4.65.0 in /Users/Andrew/CS/classes/senior_design/BUtLAR_Voice-Powered-Digital_Human_Assistant/.venv/lib/python3.12/site-packages (from chromadb->vanna[chromadb,openai,postgres]) (4.67.0)\n",
      "Requirement already satisfied: overrides>=7.3.1 in /Users/Andrew/CS/classes/senior_design/BUtLAR_Voice-Powered-Digital_Human_Assistant/.venv/lib/python3.12/site-packages (from chromadb->vanna[chromadb,openai,postgres]) (7.7.0)\n",
      "Requirement already satisfied: importlib-resources in /Users/Andrew/CS/classes/senior_design/BUtLAR_Voice-Powered-Digital_Human_Assistant/.venv/lib/python3.12/site-packages (from chromadb->vanna[chromadb,openai,postgres]) (6.5.2)\n",
      "Requirement already satisfied: grpcio>=1.58.0 in /Users/Andrew/CS/classes/senior_design/BUtLAR_Voice-Powered-Digital_Human_Assistant/.venv/lib/python3.12/site-packages (from chromadb->vanna[chromadb,openai,postgres]) (1.67.1)\n",
      "Requirement already satisfied: bcrypt>=4.0.1 in /Users/Andrew/CS/classes/senior_design/BUtLAR_Voice-Powered-Digital_Human_Assistant/.venv/lib/python3.12/site-packages (from chromadb->vanna[chromadb,openai,postgres]) (4.3.0)\n",
      "Requirement already satisfied: typer>=0.9.0 in /Users/Andrew/CS/classes/senior_design/BUtLAR_Voice-Powered-Digital_Human_Assistant/.venv/lib/python3.12/site-packages (from chromadb->vanna[chromadb,openai,postgres]) (0.15.2)\n",
      "Requirement already satisfied: kubernetes>=28.1.0 in /Users/Andrew/CS/classes/senior_design/BUtLAR_Voice-Powered-Digital_Human_Assistant/.venv/lib/python3.12/site-packages (from chromadb->vanna[chromadb,openai,postgres]) (32.0.1)\n",
      "Requirement already satisfied: tenacity>=8.2.3 in /Users/Andrew/CS/classes/senior_design/BUtLAR_Voice-Powered-Digital_Human_Assistant/.venv/lib/python3.12/site-packages (from chromadb->vanna[chromadb,openai,postgres]) (9.0.0)\n",
      "Requirement already satisfied: PyYAML>=6.0.0 in /Users/Andrew/CS/classes/senior_design/BUtLAR_Voice-Powered-Digital_Human_Assistant/.venv/lib/python3.12/site-packages (from chromadb->vanna[chromadb,openai,postgres]) (6.0.2)\n",
      "Requirement already satisfied: mmh3>=4.0.1 in /Users/Andrew/CS/classes/senior_design/BUtLAR_Voice-Powered-Digital_Human_Assistant/.venv/lib/python3.12/site-packages (from chromadb->vanna[chromadb,openai,postgres]) (5.1.0)\n",
      "Requirement already satisfied: orjson>=3.9.12 in /Users/Andrew/CS/classes/senior_design/BUtLAR_Voice-Powered-Digital_Human_Assistant/.venv/lib/python3.12/site-packages (from chromadb->vanna[chromadb,openai,postgres]) (3.10.11)\n",
      "Requirement already satisfied: httpx>=0.27.0 in /Users/Andrew/CS/classes/senior_design/BUtLAR_Voice-Powered-Digital_Human_Assistant/.venv/lib/python3.12/site-packages (from chromadb->vanna[chromadb,openai,postgres]) (0.27.2)\n",
      "Requirement already satisfied: rich>=10.11.0 in /Users/Andrew/CS/classes/senior_design/BUtLAR_Voice-Powered-Digital_Human_Assistant/.venv/lib/python3.12/site-packages (from chromadb->vanna[chromadb,openai,postgres]) (13.9.4)\n",
      "Requirement already satisfied: packaging>=17.0 in /Users/Andrew/CS/classes/senior_design/BUtLAR_Voice-Powered-Digital_Human_Assistant/.venv/lib/python3.12/site-packages (from db-dtypes->vanna[chromadb,openai,postgres]) (24.2)\n",
      "Requirement already satisfied: pyarrow>=3.0.0 in /Users/Andrew/CS/classes/senior_design/BUtLAR_Voice-Powered-Digital_Human_Assistant/.venv/lib/python3.12/site-packages (from db-dtypes->vanna[chromadb,openai,postgres]) (18.0.0)\n",
      "Requirement already satisfied: python-dateutil>=2.8.2 in /Users/Andrew/CS/classes/senior_design/BUtLAR_Voice-Powered-Digital_Human_Assistant/.venv/lib/python3.12/site-packages (from pandas->vanna[chromadb,openai,postgres]) (2.9.0.post0)\n",
      "Requirement already satisfied: pytz>=2020.1 in /Users/Andrew/CS/classes/senior_design/BUtLAR_Voice-Powered-Digital_Human_Assistant/.venv/lib/python3.12/site-packages (from pandas->vanna[chromadb,openai,postgres]) (2024.2)\n",
      "Requirement already satisfied: tzdata>=2022.7 in /Users/Andrew/CS/classes/senior_design/BUtLAR_Voice-Powered-Digital_Human_Assistant/.venv/lib/python3.12/site-packages (from pandas->vanna[chromadb,openai,postgres]) (2024.2)\n",
      "Requirement already satisfied: jsonschema>=3.0.1 in /Users/Andrew/CS/classes/senior_design/BUtLAR_Voice-Powered-Digital_Human_Assistant/.venv/lib/python3.12/site-packages (from flasgger->vanna[chromadb,openai,postgres]) (4.23.0)\n",
      "Requirement already satisfied: mistune in /Users/Andrew/CS/classes/senior_design/BUtLAR_Voice-Powered-Digital_Human_Assistant/.venv/lib/python3.12/site-packages (from flasgger->vanna[chromadb,openai,postgres]) (3.1.2)\n",
      "Requirement already satisfied: six>=1.10.0 in /Users/Andrew/CS/classes/senior_design/BUtLAR_Voice-Powered-Digital_Human_Assistant/.venv/lib/python3.12/site-packages (from flasgger->vanna[chromadb,openai,postgres]) (1.16.0)\n",
      "Requirement already satisfied: Werkzeug>=3.1 in /Users/Andrew/CS/classes/senior_design/BUtLAR_Voice-Powered-Digital_Human_Assistant/.venv/lib/python3.12/site-packages (from flask->vanna[chromadb,openai,postgres]) (3.1.3)\n",
      "Requirement already satisfied: Jinja2>=3.1.2 in /Users/Andrew/CS/classes/senior_design/BUtLAR_Voice-Powered-Digital_Human_Assistant/.venv/lib/python3.12/site-packages (from flask->vanna[chromadb,openai,postgres]) (3.1.6)\n",
      "Requirement already satisfied: itsdangerous>=2.2 in /Users/Andrew/CS/classes/senior_design/BUtLAR_Voice-Powered-Digital_Human_Assistant/.venv/lib/python3.12/site-packages (from flask->vanna[chromadb,openai,postgres]) (2.2.0)\n",
      "Requirement already satisfied: click>=8.1.3 in /Users/Andrew/CS/classes/senior_design/BUtLAR_Voice-Powered-Digital_Human_Assistant/.venv/lib/python3.12/site-packages (from flask->vanna[chromadb,openai,postgres]) (8.1.8)\n",
      "Requirement already satisfied: blinker>=1.9 in /Users/Andrew/CS/classes/senior_design/BUtLAR_Voice-Powered-Digital_Human_Assistant/.venv/lib/python3.12/site-packages (from flask->vanna[chromadb,openai,postgres]) (1.9.0)\n",
      "Requirement already satisfied: simple-websocket>=0.5.1 in /Users/Andrew/CS/classes/senior_design/BUtLAR_Voice-Powered-Digital_Human_Assistant/.venv/lib/python3.12/site-packages (from flask-sock->vanna[chromadb,openai,postgres]) (1.1.0)\n",
      "Requirement already satisfied: anyio<5,>=3.5.0 in /Users/Andrew/CS/classes/senior_design/BUtLAR_Voice-Powered-Digital_Human_Assistant/.venv/lib/python3.12/site-packages (from openai->vanna[chromadb,openai,postgres]) (4.6.2.post1)\n",
      "Requirement already satisfied: distro<2,>=1.7.0 in /Users/Andrew/CS/classes/senior_design/BUtLAR_Voice-Powered-Digital_Human_Assistant/.venv/lib/python3.12/site-packages (from openai->vanna[chromadb,openai,postgres]) (1.9.0)\n",
      "Requirement already satisfied: jiter<1,>=0.4.0 in /Users/Andrew/CS/classes/senior_design/BUtLAR_Voice-Powered-Digital_Human_Assistant/.venv/lib/python3.12/site-packages (from openai->vanna[chromadb,openai,postgres]) (0.9.0)\n",
      "Requirement already satisfied: sniffio in /Users/Andrew/CS/classes/senior_design/BUtLAR_Voice-Powered-Digital_Human_Assistant/.venv/lib/python3.12/site-packages (from openai->vanna[chromadb,openai,postgres]) (1.3.1)\n",
      "Requirement already satisfied: narwhals>=1.15.1 in /Users/Andrew/CS/classes/senior_design/BUtLAR_Voice-Powered-Digital_Human_Assistant/.venv/lib/python3.12/site-packages (from plotly->vanna[chromadb,openai,postgres]) (1.31.0)\n",
      "Requirement already satisfied: charset-normalizer<4,>=2 in /Users/Andrew/CS/classes/senior_design/BUtLAR_Voice-Powered-Digital_Human_Assistant/.venv/lib/python3.12/site-packages (from requests->vanna[chromadb,openai,postgres]) (3.4.0)\n",
      "Requirement already satisfied: idna<4,>=2.5 in /Users/Andrew/CS/classes/senior_design/BUtLAR_Voice-Powered-Digital_Human_Assistant/.venv/lib/python3.12/site-packages (from requests->vanna[chromadb,openai,postgres]) (3.10)\n",
      "Requirement already satisfied: urllib3<3,>=1.21.1 in /Users/Andrew/CS/classes/senior_design/BUtLAR_Voice-Powered-Digital_Human_Assistant/.venv/lib/python3.12/site-packages (from requests->vanna[chromadb,openai,postgres]) (2.2.3)\n",
      "Requirement already satisfied: certifi>=2017.4.17 in /Users/Andrew/CS/classes/senior_design/BUtLAR_Voice-Powered-Digital_Human_Assistant/.venv/lib/python3.12/site-packages (from requests->vanna[chromadb,openai,postgres]) (2024.8.30)\n",
      "Requirement already satisfied: pyproject_hooks in /Users/Andrew/CS/classes/senior_design/BUtLAR_Voice-Powered-Digital_Human_Assistant/.venv/lib/python3.12/site-packages (from build>=1.0.3->chromadb->vanna[chromadb,openai,postgres]) (1.2.0)\n",
      "Requirement already satisfied: starlette<0.47.0,>=0.40.0 in /Users/Andrew/CS/classes/senior_design/BUtLAR_Voice-Powered-Digital_Human_Assistant/.venv/lib/python3.12/site-packages (from fastapi>=0.95.2->chromadb->vanna[chromadb,openai,postgres]) (0.46.1)\n",
      "Requirement already satisfied: httpcore==1.* in /Users/Andrew/CS/classes/senior_design/BUtLAR_Voice-Powered-Digital_Human_Assistant/.venv/lib/python3.12/site-packages (from httpx>=0.27.0->chromadb->vanna[chromadb,openai,postgres]) (1.0.6)\n",
      "Requirement already satisfied: h11<0.15,>=0.13 in /Users/Andrew/CS/classes/senior_design/BUtLAR_Voice-Powered-Digital_Human_Assistant/.venv/lib/python3.12/site-packages (from httpcore==1.*->httpx>=0.27.0->chromadb->vanna[chromadb,openai,postgres]) (0.14.0)\n",
      "Requirement already satisfied: MarkupSafe>=2.0 in /Users/Andrew/CS/classes/senior_design/BUtLAR_Voice-Powered-Digital_Human_Assistant/.venv/lib/python3.12/site-packages (from Jinja2>=3.1.2->flask->vanna[chromadb,openai,postgres]) (3.0.2)\n",
      "Requirement already satisfied: attrs>=22.2.0 in /Users/Andrew/CS/classes/senior_design/BUtLAR_Voice-Powered-Digital_Human_Assistant/.venv/lib/python3.12/site-packages (from jsonschema>=3.0.1->flasgger->vanna[chromadb,openai,postgres]) (24.2.0)\n",
      "Requirement already satisfied: jsonschema-specifications>=2023.03.6 in /Users/Andrew/CS/classes/senior_design/BUtLAR_Voice-Powered-Digital_Human_Assistant/.venv/lib/python3.12/site-packages (from jsonschema>=3.0.1->flasgger->vanna[chromadb,openai,postgres]) (2024.10.1)\n",
      "Requirement already satisfied: referencing>=0.28.4 in /Users/Andrew/CS/classes/senior_design/BUtLAR_Voice-Powered-Digital_Human_Assistant/.venv/lib/python3.12/site-packages (from jsonschema>=3.0.1->flasgger->vanna[chromadb,openai,postgres]) (0.36.2)\n",
      "Requirement already satisfied: rpds-py>=0.7.1 in /Users/Andrew/CS/classes/senior_design/BUtLAR_Voice-Powered-Digital_Human_Assistant/.venv/lib/python3.12/site-packages (from jsonschema>=3.0.1->flasgger->vanna[chromadb,openai,postgres]) (0.23.1)\n",
      "Requirement already satisfied: google-auth>=1.0.1 in /Users/Andrew/CS/classes/senior_design/BUtLAR_Voice-Powered-Digital_Human_Assistant/.venv/lib/python3.12/site-packages (from kubernetes>=28.1.0->chromadb->vanna[chromadb,openai,postgres]) (2.36.0)\n",
      "Requirement already satisfied: websocket-client!=0.40.0,!=0.41.*,!=0.42.*,>=0.32.0 in /Users/Andrew/CS/classes/senior_design/BUtLAR_Voice-Powered-Digital_Human_Assistant/.venv/lib/python3.12/site-packages (from kubernetes>=28.1.0->chromadb->vanna[chromadb,openai,postgres]) (1.8.0)\n",
      "Requirement already satisfied: requests-oauthlib in /Users/Andrew/CS/classes/senior_design/BUtLAR_Voice-Powered-Digital_Human_Assistant/.venv/lib/python3.12/site-packages (from kubernetes>=28.1.0->chromadb->vanna[chromadb,openai,postgres]) (2.0.0)\n",
      "Requirement already satisfied: oauthlib>=3.2.2 in /Users/Andrew/CS/classes/senior_design/BUtLAR_Voice-Powered-Digital_Human_Assistant/.venv/lib/python3.12/site-packages (from kubernetes>=28.1.0->chromadb->vanna[chromadb,openai,postgres]) (3.2.2)\n",
      "Requirement already satisfied: durationpy>=0.7 in /Users/Andrew/CS/classes/senior_design/BUtLAR_Voice-Powered-Digital_Human_Assistant/.venv/lib/python3.12/site-packages (from kubernetes>=28.1.0->chromadb->vanna[chromadb,openai,postgres]) (0.9)\n",
      "Requirement already satisfied: coloredlogs in /Users/Andrew/CS/classes/senior_design/BUtLAR_Voice-Powered-Digital_Human_Assistant/.venv/lib/python3.12/site-packages (from onnxruntime>=1.14.1->chromadb->vanna[chromadb,openai,postgres]) (15.0.1)\n",
      "Requirement already satisfied: flatbuffers in /Users/Andrew/CS/classes/senior_design/BUtLAR_Voice-Powered-Digital_Human_Assistant/.venv/lib/python3.12/site-packages (from onnxruntime>=1.14.1->chromadb->vanna[chromadb,openai,postgres]) (25.2.10)\n",
      "Requirement already satisfied: protobuf in /Users/Andrew/CS/classes/senior_design/BUtLAR_Voice-Powered-Digital_Human_Assistant/.venv/lib/python3.12/site-packages (from onnxruntime>=1.14.1->chromadb->vanna[chromadb,openai,postgres]) (5.28.3)\n",
      "Requirement already satisfied: sympy in /Users/Andrew/CS/classes/senior_design/BUtLAR_Voice-Powered-Digital_Human_Assistant/.venv/lib/python3.12/site-packages (from onnxruntime>=1.14.1->chromadb->vanna[chromadb,openai,postgres]) (1.13.3)\n",
      "Requirement already satisfied: deprecated>=1.2.6 in /Users/Andrew/CS/classes/senior_design/BUtLAR_Voice-Powered-Digital_Human_Assistant/.venv/lib/python3.12/site-packages (from opentelemetry-api>=1.2.0->chromadb->vanna[chromadb,openai,postgres]) (1.2.18)\n",
      "Requirement already satisfied: importlib-metadata<8.7.0,>=6.0 in /Users/Andrew/CS/classes/senior_design/BUtLAR_Voice-Powered-Digital_Human_Assistant/.venv/lib/python3.12/site-packages (from opentelemetry-api>=1.2.0->chromadb->vanna[chromadb,openai,postgres]) (8.6.1)\n",
      "Requirement already satisfied: googleapis-common-protos~=1.52 in /Users/Andrew/CS/classes/senior_design/BUtLAR_Voice-Powered-Digital_Human_Assistant/.venv/lib/python3.12/site-packages (from opentelemetry-exporter-otlp-proto-grpc>=1.2.0->chromadb->vanna[chromadb,openai,postgres]) (1.66.0)\n",
      "Requirement already satisfied: opentelemetry-exporter-otlp-proto-common==1.31.0 in /Users/Andrew/CS/classes/senior_design/BUtLAR_Voice-Powered-Digital_Human_Assistant/.venv/lib/python3.12/site-packages (from opentelemetry-exporter-otlp-proto-grpc>=1.2.0->chromadb->vanna[chromadb,openai,postgres]) (1.31.0)\n",
      "Requirement already satisfied: opentelemetry-proto==1.31.0 in /Users/Andrew/CS/classes/senior_design/BUtLAR_Voice-Powered-Digital_Human_Assistant/.venv/lib/python3.12/site-packages (from opentelemetry-exporter-otlp-proto-grpc>=1.2.0->chromadb->vanna[chromadb,openai,postgres]) (1.31.0)\n",
      "Requirement already satisfied: opentelemetry-instrumentation-asgi==0.52b0 in /Users/Andrew/CS/classes/senior_design/BUtLAR_Voice-Powered-Digital_Human_Assistant/.venv/lib/python3.12/site-packages (from opentelemetry-instrumentation-fastapi>=0.41b0->chromadb->vanna[chromadb,openai,postgres]) (0.52b0)\n",
      "Requirement already satisfied: opentelemetry-instrumentation==0.52b0 in /Users/Andrew/CS/classes/senior_design/BUtLAR_Voice-Powered-Digital_Human_Assistant/.venv/lib/python3.12/site-packages (from opentelemetry-instrumentation-fastapi>=0.41b0->chromadb->vanna[chromadb,openai,postgres]) (0.52b0)\n",
      "Requirement already satisfied: opentelemetry-semantic-conventions==0.52b0 in /Users/Andrew/CS/classes/senior_design/BUtLAR_Voice-Powered-Digital_Human_Assistant/.venv/lib/python3.12/site-packages (from opentelemetry-instrumentation-fastapi>=0.41b0->chromadb->vanna[chromadb,openai,postgres]) (0.52b0)\n",
      "Requirement already satisfied: opentelemetry-util-http==0.52b0 in /Users/Andrew/CS/classes/senior_design/BUtLAR_Voice-Powered-Digital_Human_Assistant/.venv/lib/python3.12/site-packages (from opentelemetry-instrumentation-fastapi>=0.41b0->chromadb->vanna[chromadb,openai,postgres]) (0.52b0)\n",
      "Requirement already satisfied: wrapt<2.0.0,>=1.0.0 in /Users/Andrew/CS/classes/senior_design/BUtLAR_Voice-Powered-Digital_Human_Assistant/.venv/lib/python3.12/site-packages (from opentelemetry-instrumentation==0.52b0->opentelemetry-instrumentation-fastapi>=0.41b0->chromadb->vanna[chromadb,openai,postgres]) (1.17.2)\n",
      "Requirement already satisfied: asgiref~=3.0 in /Users/Andrew/CS/classes/senior_design/BUtLAR_Voice-Powered-Digital_Human_Assistant/.venv/lib/python3.12/site-packages (from opentelemetry-instrumentation-asgi==0.52b0->opentelemetry-instrumentation-fastapi>=0.41b0->chromadb->vanna[chromadb,openai,postgres]) (3.8.1)\n",
      "Requirement already satisfied: monotonic>=1.5 in /Users/Andrew/CS/classes/senior_design/BUtLAR_Voice-Powered-Digital_Human_Assistant/.venv/lib/python3.12/site-packages (from posthog>=2.4.0->chromadb->vanna[chromadb,openai,postgres]) (1.6)\n",
      "Requirement already satisfied: backoff>=1.10.0 in /Users/Andrew/CS/classes/senior_design/BUtLAR_Voice-Powered-Digital_Human_Assistant/.venv/lib/python3.12/site-packages (from posthog>=2.4.0->chromadb->vanna[chromadb,openai,postgres]) (2.2.1)\n",
      "Requirement already satisfied: annotated-types>=0.6.0 in /Users/Andrew/CS/classes/senior_design/BUtLAR_Voice-Powered-Digital_Human_Assistant/.venv/lib/python3.12/site-packages (from pydantic>=1.9->chromadb->vanna[chromadb,openai,postgres]) (0.7.0)\n",
      "Requirement already satisfied: pydantic-core==2.23.4 in /Users/Andrew/CS/classes/senior_design/BUtLAR_Voice-Powered-Digital_Human_Assistant/.venv/lib/python3.12/site-packages (from pydantic>=1.9->chromadb->vanna[chromadb,openai,postgres]) (2.23.4)\n",
      "Requirement already satisfied: markdown-it-py>=2.2.0 in /Users/Andrew/CS/classes/senior_design/BUtLAR_Voice-Powered-Digital_Human_Assistant/.venv/lib/python3.12/site-packages (from rich>=10.11.0->chromadb->vanna[chromadb,openai,postgres]) (3.0.0)\n",
      "Requirement already satisfied: pygments<3.0.0,>=2.13.0 in /Users/Andrew/CS/classes/senior_design/BUtLAR_Voice-Powered-Digital_Human_Assistant/.venv/lib/python3.12/site-packages (from rich>=10.11.0->chromadb->vanna[chromadb,openai,postgres]) (2.18.0)\n",
      "Requirement already satisfied: wsproto in /Users/Andrew/CS/classes/senior_design/BUtLAR_Voice-Powered-Digital_Human_Assistant/.venv/lib/python3.12/site-packages (from simple-websocket>=0.5.1->flask-sock->vanna[chromadb,openai,postgres]) (1.2.0)\n",
      "Requirement already satisfied: huggingface-hub<1.0,>=0.16.4 in /Users/Andrew/CS/classes/senior_design/BUtLAR_Voice-Powered-Digital_Human_Assistant/.venv/lib/python3.12/site-packages (from tokenizers>=0.13.2->chromadb->vanna[chromadb,openai,postgres]) (0.26.2)\n",
      "Requirement already satisfied: shellingham>=1.3.0 in /Users/Andrew/CS/classes/senior_design/BUtLAR_Voice-Powered-Digital_Human_Assistant/.venv/lib/python3.12/site-packages (from typer>=0.9.0->chromadb->vanna[chromadb,openai,postgres]) (1.5.4)\n",
      "Requirement already satisfied: httptools>=0.6.3 in /Users/Andrew/CS/classes/senior_design/BUtLAR_Voice-Powered-Digital_Human_Assistant/.venv/lib/python3.12/site-packages (from uvicorn[standard]>=0.18.3->chromadb->vanna[chromadb,openai,postgres]) (0.6.4)\n",
      "Requirement already satisfied: python-dotenv>=0.13 in /Users/Andrew/CS/classes/senior_design/BUtLAR_Voice-Powered-Digital_Human_Assistant/.venv/lib/python3.12/site-packages (from uvicorn[standard]>=0.18.3->chromadb->vanna[chromadb,openai,postgres]) (1.0.1)\n",
      "Requirement already satisfied: uvloop!=0.15.0,!=0.15.1,>=0.14.0 in /Users/Andrew/CS/classes/senior_design/BUtLAR_Voice-Powered-Digital_Human_Assistant/.venv/lib/python3.12/site-packages (from uvicorn[standard]>=0.18.3->chromadb->vanna[chromadb,openai,postgres]) (0.21.0)\n",
      "Requirement already satisfied: watchfiles>=0.13 in /Users/Andrew/CS/classes/senior_design/BUtLAR_Voice-Powered-Digital_Human_Assistant/.venv/lib/python3.12/site-packages (from uvicorn[standard]>=0.18.3->chromadb->vanna[chromadb,openai,postgres]) (1.0.4)\n",
      "Requirement already satisfied: websockets>=10.4 in /Users/Andrew/CS/classes/senior_design/BUtLAR_Voice-Powered-Digital_Human_Assistant/.venv/lib/python3.12/site-packages (from uvicorn[standard]>=0.18.3->chromadb->vanna[chromadb,openai,postgres]) (15.0.1)\n",
      "Requirement already satisfied: cachetools<6.0,>=2.0.0 in /Users/Andrew/CS/classes/senior_design/BUtLAR_Voice-Powered-Digital_Human_Assistant/.venv/lib/python3.12/site-packages (from google-auth>=1.0.1->kubernetes>=28.1.0->chromadb->vanna[chromadb,openai,postgres]) (5.5.0)\n",
      "Requirement already satisfied: pyasn1-modules>=0.2.1 in /Users/Andrew/CS/classes/senior_design/BUtLAR_Voice-Powered-Digital_Human_Assistant/.venv/lib/python3.12/site-packages (from google-auth>=1.0.1->kubernetes>=28.1.0->chromadb->vanna[chromadb,openai,postgres]) (0.4.1)\n",
      "Requirement already satisfied: rsa<5,>=3.1.4 in /Users/Andrew/CS/classes/senior_design/BUtLAR_Voice-Powered-Digital_Human_Assistant/.venv/lib/python3.12/site-packages (from google-auth>=1.0.1->kubernetes>=28.1.0->chromadb->vanna[chromadb,openai,postgres]) (4.9)\n",
      "Requirement already satisfied: filelock in /Users/Andrew/CS/classes/senior_design/BUtLAR_Voice-Powered-Digital_Human_Assistant/.venv/lib/python3.12/site-packages (from huggingface-hub<1.0,>=0.16.4->tokenizers>=0.13.2->chromadb->vanna[chromadb,openai,postgres]) (3.16.1)\n",
      "Requirement already satisfied: fsspec>=2023.5.0 in /Users/Andrew/CS/classes/senior_design/BUtLAR_Voice-Powered-Digital_Human_Assistant/.venv/lib/python3.12/site-packages (from huggingface-hub<1.0,>=0.16.4->tokenizers>=0.13.2->chromadb->vanna[chromadb,openai,postgres]) (2024.9.0)\n",
      "Requirement already satisfied: zipp>=3.20 in /Users/Andrew/CS/classes/senior_design/BUtLAR_Voice-Powered-Digital_Human_Assistant/.venv/lib/python3.12/site-packages (from importlib-metadata<8.7.0,>=6.0->opentelemetry-api>=1.2.0->chromadb->vanna[chromadb,openai,postgres]) (3.21.0)\n",
      "Requirement already satisfied: mdurl~=0.1 in /Users/Andrew/CS/classes/senior_design/BUtLAR_Voice-Powered-Digital_Human_Assistant/.venv/lib/python3.12/site-packages (from markdown-it-py>=2.2.0->rich>=10.11.0->chromadb->vanna[chromadb,openai,postgres]) (0.1.2)\n",
      "Requirement already satisfied: humanfriendly>=9.1 in /Users/Andrew/CS/classes/senior_design/BUtLAR_Voice-Powered-Digital_Human_Assistant/.venv/lib/python3.12/site-packages (from coloredlogs->onnxruntime>=1.14.1->chromadb->vanna[chromadb,openai,postgres]) (10.0)\n",
      "Requirement already satisfied: mpmath<1.4,>=1.1.0 in /Users/Andrew/CS/classes/senior_design/BUtLAR_Voice-Powered-Digital_Human_Assistant/.venv/lib/python3.12/site-packages (from sympy->onnxruntime>=1.14.1->chromadb->vanna[chromadb,openai,postgres]) (1.3.0)\n",
      "Requirement already satisfied: pyasn1<0.7.0,>=0.4.6 in /Users/Andrew/CS/classes/senior_design/BUtLAR_Voice-Powered-Digital_Human_Assistant/.venv/lib/python3.12/site-packages (from pyasn1-modules>=0.2.1->google-auth>=1.0.1->kubernetes>=28.1.0->chromadb->vanna[chromadb,openai,postgres]) (0.6.1)\n",
      "Note: you may need to restart the kernel to use updated packages.\n"
     ]
    }
   ],
   "source": [
    "%pip install 'vanna[chromadb,openai,postgres]'"
   ]
  },
  {
   "cell_type": "code",
   "execution_count": 1,
   "metadata": {},
   "outputs": [],
   "source": [
    "from vanna.openai import OpenAI_Chat\n",
    "from vanna.chromadb import ChromaDB_VectorStore\n",
    "from openai import OpenAI\n",
    "import os\n",
    "from dotenv import load_dotenv\n",
    "\n",
    "from contextlib import redirect_stdout, redirect_stderr\n",
    "import io"
   ]
  },
  {
   "cell_type": "markdown",
   "metadata": {},
   "source": [
    "## You will need to have the OpenAI key in the .env file, along with having it set to NEW_OPENAI_API_KEY=sk-...."
   ]
  },
  {
   "cell_type": "code",
   "execution_count": 3,
   "metadata": {},
   "outputs": [],
   "source": [
    "# Load the .env file\n",
    "load_dotenv()\n",
    "\n",
    "# Retrieve the values using os.environ\n",
    "api_key = os.getenv('NEW_OPENAI_API_KEY')"
   ]
  },
  {
   "cell_type": "code",
   "execution_count": null,
   "metadata": {},
   "outputs": [],
   "source": [
    "print(f\"The value of the api_key is the {api_key}\")"
   ]
  },
  {
   "cell_type": "markdown",
   "metadata": {},
   "source": [
    "## Running this code will generate a chroma.sqlite3 file, which is likely the ChromaDB?"
   ]
  },
  {
   "cell_type": "markdown",
   "metadata": {},
   "source": [
    "The code below creates a chroma.sqlite3 file"
   ]
  },
  {
   "cell_type": "code",
   "execution_count": 4,
   "metadata": {},
   "outputs": [],
   "source": [
    "class MyVanna(ChromaDB_VectorStore, OpenAI_Chat):\n",
    "    def __init__(self, config=None):\n",
    "        ChromaDB_VectorStore.__init__(self, config=config)\n",
    "        OpenAI_Chat.__init__(self, config=config)\n",
    "\n",
    "# Running this code creates the chroma.sqlite3 file\n",
    "vn = MyVanna(config={'api_key': api_key, 'model': 'gpt-3.5-turbo'})"
   ]
  },
  {
   "cell_type": "code",
   "execution_count": null,
   "metadata": {},
   "outputs": [],
   "source": [
    "import requests\n",
    "ip = requests.get('https://api.ipify.org').text\n",
    "print(f\"Your Colab runtime IP is: {ip}\")"
   ]
  },
  {
   "cell_type": "markdown",
   "metadata": {},
   "source": [
    "## Remember the host number might change! Change that whenever the VM stops running"
   ]
  },
  {
   "cell_type": "markdown",
   "metadata": {},
   "source": [
    "A sample of what the database looks like is in the csv of this code or in /Vanna/courses.csv"
   ]
  },
  {
   "cell_type": "code",
   "execution_count": 5,
   "metadata": {},
   "outputs": [],
   "source": [
    "vn.connect_to_postgres(host='34.60.28.103', dbname='tutorialDB', user='postgres', password='butlar', port='5432')"
   ]
  },
  {
   "cell_type": "markdown",
   "metadata": {},
   "source": [
    "## Running this code will create the information schema (Directories full of training data and embeddings?)"
   ]
  },
  {
   "cell_type": "code",
   "execution_count": null,
   "metadata": {},
   "outputs": [],
   "source": [
    "# The information schema query may need some tweaking depending on your database. This is a good starting point.\n",
    "\n",
    "# This SQL code retrieves all the information across all the tables in all tables within a database.\n",
    "df_information_schema = vn.run_sql(\"SELECT * FROM INFORMATION_SCHEMA.COLUMNS\")\n",
    "\n",
    "# This will break up the information schema into bite-sized chunks that can be referenced by the LLM\n",
    "plan = vn.get_training_plan_generic(df_information_schema)"
   ]
  },
  {
   "cell_type": "code",
   "execution_count": null,
   "metadata": {},
   "outputs": [],
   "source": [
    "vn.train(plan=plan)"
   ]
  },
  {
   "cell_type": "code",
   "execution_count": 7,
   "metadata": {},
   "outputs": [
    {
     "name": "stdout",
     "output_type": "stream",
     "text": [
      "Adding documentation....\n"
     ]
    },
    {
     "data": {
      "text/plain": [
       "'8aa58979-65f5-571d-a393-85564c96cf57-doc'"
      ]
     },
     "execution_count": 7,
     "metadata": {},
     "output_type": "execute_result"
    }
   ],
   "source": [
    "vn.train(documentation=\"My table outlines names of individual students. So for example, if I ask, 'What is John Smith's project?'\" \\\n",
    "\"you should give an abstract summary of entire project \")"
   ]
  },
  {
   "cell_type": "code",
   "execution_count": null,
   "metadata": {},
   "outputs": [],
   "source": [
    "vn.train(documentation=\"The descr marks the course description. The course itself can be referenced as ENG EC or just EC. As an example\" \\\n",
    "\"the course description for ENG EC 520 is Digital Image Processing and Communication and it meets in building EPC in room 208.\")"
   ]
  },
  {
   "cell_type": "code",
   "execution_count": 6,
   "metadata": {},
   "outputs": [
    {
     "data": {
      "text/html": [
       "<div>\n",
       "<style scoped>\n",
       "    .dataframe tbody tr th:only-of-type {\n",
       "        vertical-align: middle;\n",
       "    }\n",
       "\n",
       "    .dataframe tbody tr th {\n",
       "        vertical-align: top;\n",
       "    }\n",
       "\n",
       "    .dataframe thead th {\n",
       "        text-align: right;\n",
       "    }\n",
       "</style>\n",
       "<table border=\"1\" class=\"dataframe\">\n",
       "  <thead>\n",
       "    <tr style=\"text-align: right;\">\n",
       "      <th></th>\n",
       "      <th>id</th>\n",
       "      <th>question</th>\n",
       "      <th>content</th>\n",
       "      <th>training_data_type</th>\n",
       "    </tr>\n",
       "  </thead>\n",
       "  <tbody>\n",
       "    <tr>\n",
       "      <th>0</th>\n",
       "      <td>ee54c300-f020-5640-8fe0-b70117ce9340-sql</td>\n",
       "      <td>Where is team 12?</td>\n",
       "      <td>SELECT team_name, team_location \\nFROM teams \\...</td>\n",
       "      <td>sql</td>\n",
       "    </tr>\n",
       "    <tr>\n",
       "      <th>0</th>\n",
       "      <td>7458e153-9934-539e-a38e-abd7448607c9-doc</td>\n",
       "      <td>None</td>\n",
       "      <td>The following columns are in the pg_type table...</td>\n",
       "      <td>documentation</td>\n",
       "    </tr>\n",
       "    <tr>\n",
       "      <th>1</th>\n",
       "      <td>5939b086-28e7-591b-a300-ef5c130ced98-doc</td>\n",
       "      <td>None</td>\n",
       "      <td>The following columns are in the pg_language t...</td>\n",
       "      <td>documentation</td>\n",
       "    </tr>\n",
       "    <tr>\n",
       "      <th>2</th>\n",
       "      <td>802fdd13-31bc-56a0-a856-67aecc7390e2-doc</td>\n",
       "      <td>None</td>\n",
       "      <td>The following columns are in the pg_class tabl...</td>\n",
       "      <td>documentation</td>\n",
       "    </tr>\n",
       "    <tr>\n",
       "      <th>3</th>\n",
       "      <td>144df4b3-3295-588f-9b1a-06641a83b46b-doc</td>\n",
       "      <td>None</td>\n",
       "      <td>The following columns are in the pg_stat_sys_i...</td>\n",
       "      <td>documentation</td>\n",
       "    </tr>\n",
       "    <tr>\n",
       "      <th>...</th>\n",
       "      <td>...</td>\n",
       "      <td>...</td>\n",
       "      <td>...</td>\n",
       "      <td>...</td>\n",
       "    </tr>\n",
       "    <tr>\n",
       "      <th>206</th>\n",
       "      <td>b8b56f68-f2b4-5429-9bb8-5a31818fda90-doc</td>\n",
       "      <td>None</td>\n",
       "      <td>The following columns are in the collations ta...</td>\n",
       "      <td>documentation</td>\n",
       "    </tr>\n",
       "    <tr>\n",
       "      <th>207</th>\n",
       "      <td>c064f41b-6cd8-549a-b5de-c8f8ba89b7f7-doc</td>\n",
       "      <td>None</td>\n",
       "      <td>The following columns are in the enabled_roles...</td>\n",
       "      <td>documentation</td>\n",
       "    </tr>\n",
       "    <tr>\n",
       "      <th>208</th>\n",
       "      <td>039b55f7-a0de-5a72-9262-37f995b65c9f-doc</td>\n",
       "      <td>None</td>\n",
       "      <td>The following columns are in the team_members ...</td>\n",
       "      <td>documentation</td>\n",
       "    </tr>\n",
       "    <tr>\n",
       "      <th>209</th>\n",
       "      <td>57c40bef-0fd1-5de2-a50f-12c85ca3887a-doc</td>\n",
       "      <td>None</td>\n",
       "      <td>The following columns are in the teams table i...</td>\n",
       "      <td>documentation</td>\n",
       "    </tr>\n",
       "    <tr>\n",
       "      <th>210</th>\n",
       "      <td>808468bd-5748-54a2-a9b7-6b4526c76830-doc</td>\n",
       "      <td>None</td>\n",
       "      <td>My database outlines each group within Boston ...</td>\n",
       "      <td>documentation</td>\n",
       "    </tr>\n",
       "  </tbody>\n",
       "</table>\n",
       "<p>212 rows × 4 columns</p>\n",
       "</div>"
      ],
      "text/plain": [
       "                                           id           question  \\\n",
       "0    ee54c300-f020-5640-8fe0-b70117ce9340-sql  Where is team 12?   \n",
       "0    7458e153-9934-539e-a38e-abd7448607c9-doc               None   \n",
       "1    5939b086-28e7-591b-a300-ef5c130ced98-doc               None   \n",
       "2    802fdd13-31bc-56a0-a856-67aecc7390e2-doc               None   \n",
       "3    144df4b3-3295-588f-9b1a-06641a83b46b-doc               None   \n",
       "..                                        ...                ...   \n",
       "206  b8b56f68-f2b4-5429-9bb8-5a31818fda90-doc               None   \n",
       "207  c064f41b-6cd8-549a-b5de-c8f8ba89b7f7-doc               None   \n",
       "208  039b55f7-a0de-5a72-9262-37f995b65c9f-doc               None   \n",
       "209  57c40bef-0fd1-5de2-a50f-12c85ca3887a-doc               None   \n",
       "210  808468bd-5748-54a2-a9b7-6b4526c76830-doc               None   \n",
       "\n",
       "                                               content training_data_type  \n",
       "0    SELECT team_name, team_location \\nFROM teams \\...                sql  \n",
       "0    The following columns are in the pg_type table...      documentation  \n",
       "1    The following columns are in the pg_language t...      documentation  \n",
       "2    The following columns are in the pg_class tabl...      documentation  \n",
       "3    The following columns are in the pg_stat_sys_i...      documentation  \n",
       "..                                                 ...                ...  \n",
       "206  The following columns are in the collations ta...      documentation  \n",
       "207  The following columns are in the enabled_roles...      documentation  \n",
       "208  The following columns are in the team_members ...      documentation  \n",
       "209  The following columns are in the teams table i...      documentation  \n",
       "210  My database outlines each group within Boston ...      documentation  \n",
       "\n",
       "[212 rows x 4 columns]"
      ]
     },
     "execution_count": 6,
     "metadata": {},
     "output_type": "execute_result"
    }
   ],
   "source": [
    "# At any time you can inspect what training data the package is able to reference\n",
    "training_data = vn.get_training_data()\n",
    "training_data"
   ]
  },
  {
   "cell_type": "code",
   "execution_count": null,
   "metadata": {},
   "outputs": [],
   "source": [
    "vn.train(documentation=\"The ENG identifier in the college column stands for Engineering. However, \" \\\n",
    "\"anytime it a course is referenced as EC 311 for example, ENG is implied. So the whole course\" \\\n",
    "\"code for EC 311 would be ENG EC 311.\")"
   ]
  },
  {
   "cell_type": "code",
   "execution_count": null,
   "metadata": {},
   "outputs": [],
   "source": [
    "vn.train(documentation=\"For the locations, PHO stands for Photonics. When a question liked which classes are taught in Photonics or photonics,\" \\\n",
    "\"this question is asking which courses are located in PHO?\")"
   ]
  },
  {
   "cell_type": "code",
   "execution_count": null,
   "metadata": {},
   "outputs": [],
   "source": [
    "# You can remove training data if there's obsolete/incorrect information.\n",
    "# vn.remove_training_data(id='5dc9b25e-6409-51b3-9ae7-1e51152309b8-doc')\n",
    "# training_data"
   ]
  },
  {
   "cell_type": "code",
   "execution_count": 8,
   "metadata": {},
   "outputs": [
    {
     "name": "stderr",
     "output_type": "stream",
     "text": [
      "Add of existing embedding ID: ee54c300-f020-5640-8fe0-b70117ce9340-sql\n",
      "Number of requested results 10 is greater than number of elements in index 1, updating n_results = 1\n"
     ]
    },
    {
     "name": "stdout",
     "output_type": "stream",
     "text": [
      "SQL Prompt: [{'role': 'system', 'content': \"You are a PostgreSQL expert. Please help to generate a SQL query to answer the question. Your response should ONLY be based on the given context and follow the response guidelines and format instructions. \\n===Additional Context \\n\\nMy table outlines names of individual students. So for example, if I ask, 'What is John Smith's project?'you should give an abstract summary of entire project \\n\\nMy database outlines each group within Boston University senior Electrical and Computer Engineering (ECE) design course. The ECE Senior Design capstone course serves as an opportunity for students to execute the education they have gained in theclassroom throughout their undergraduate careers, in order toproduce prototypes for real-world clients. Student teams servevolunteer customers drawn from industry, government, smallbusinesses, non-profits, schools, artists, faculty, and staff. \\n\\nThe following columns are in the pg_views table in the ece_day_db database:\\n\\n|      | table_catalog   | table_schema   | table_name   | column_name   | data_type   |\\n|-----:|:----------------|:---------------|:-------------|:--------------|:------------|\\n| 1393 | ece_day_db      | pg_catalog     | pg_views     | viewname      | name        |\\n| 1556 | ece_day_db      | pg_catalog     | pg_views     | schemaname    | name        |\\n| 1579 | ece_day_db      | pg_catalog     | pg_views     | definition    | text        |\\n| 1740 | ece_day_db      | pg_catalog     | pg_views     | viewowner     | name        |\\n\\nThe following columns are in the pg_stat_sys_tables table in the ece_day_db database:\\n\\n|      | table_catalog   | table_schema   | table_name         | column_name         | data_type                |\\n|-----:|:----------------|:---------------|:-------------------|:--------------------|:-------------------------|\\n|   39 | ece_day_db      | pg_catalog     | pg_stat_sys_tables | n_tup_upd           | bigint                   |\\n|   92 | ece_day_db      | pg_catalog     | pg_stat_sys_tables | n_mod_since_analyze | bigint                   |\\n|  104 | ece_day_db      | pg_catalog     | pg_stat_sys_tables | relname             | name                     |\\n|  143 | ece_day_db      | pg_catalog     | pg_stat_sys_tables | analyze_count       | bigint                   |\\n|  154 | ece_day_db      | pg_catalog     | pg_stat_sys_tables | relid               | oid                      |\\n|  172 | ece_day_db      | pg_catalog     | pg_stat_sys_tables | seq_scan            | bigint                   |\\n|  210 | ece_day_db      | pg_catalog     | pg_stat_sys_tables | last_vacuum         | timestamp with time zone |\\n|  573 | ece_day_db      | pg_catalog     | pg_stat_sys_tables | last_autoanalyze    | timestamp with time zone |\\n|  638 | ece_day_db      | pg_catalog     | pg_stat_sys_tables | seq_tup_read        | bigint                   |\\n|  667 | ece_day_db      | pg_catalog     | pg_stat_sys_tables | n_dead_tup          | bigint                   |\\n|  778 | ece_day_db      | pg_catalog     | pg_stat_sys_tables | schemaname          | name                     |\\n|  808 | ece_day_db      | pg_catalog     | pg_stat_sys_tables | last_analyze        | timestamp with time zone |\\n|  821 | ece_day_db      | pg_catalog     | pg_stat_sys_tables | n_live_tup          | bigint                   |\\n|  871 | ece_day_db      | pg_catalog     | pg_stat_sys_tables | n_tup_hot_upd       | bigint                   |\\n|  944 | ece_day_db      | pg_catalog     | pg_stat_sys_tables | vacuum_count        | bigint                   |\\n| 1014 | ece_day_db      | pg_catalog     | pg_stat_sys_tables | idx_tup_fetch       | bigint                   |\\n| 1202 | ece_day_db      | pg_catalog     | pg_stat_sys_tables | autoanalyze_count   | bigint                   |\\n| 1266 | ece_day_db      | pg_catalog     | pg_stat_sys_tables | idx_scan            | bigint                   |\\n| 1506 | ece_day_db      | pg_catalog     | pg_stat_sys_tables | n_tup_ins           | bigint                   |\\n| 1639 | ece_day_db      | pg_catalog     | pg_stat_sys_tables | autovacuum_count    | bigint                   |\\n| 1723 | ece_day_db      | pg_catalog     | pg_stat_sys_tables | n_ins_since_vacuum  | bigint                   |\\n| 1818 | ece_day_db      | pg_catalog     | pg_stat_sys_tables | n_tup_del           | bigint                   |\\n| 1852 | ece_day_db      | pg_catalog     | pg_stat_sys_tables | last_autovacuum     | timestamp with time zone |\\n\\nThe following columns are in the pg_shdescription table in the ece_day_db database:\\n\\n|      | table_catalog   | table_schema   | table_name       | column_name   | data_type   |\\n|-----:|:----------------|:---------------|:-----------------|:--------------|:------------|\\n| 1373 | ece_day_db      | pg_catalog     | pg_shdescription | classoid      | oid         |\\n| 1526 | ece_day_db      | pg_catalog     | pg_shdescription | description   | text        |\\n| 1695 | ece_day_db      | pg_catalog     | pg_shdescription | objoid        | oid         |\\n\\nThe following columns are in the pg_user_mappings table in the ece_day_db database:\\n\\n|      | table_catalog   | table_schema   | table_name       | column_name   | data_type   |\\n|-----:|:----------------|:---------------|:-----------------|:--------------|:------------|\\n|  279 | ece_day_db      | pg_catalog     | pg_user_mappings | umid          | oid         |\\n|  296 | ece_day_db      | pg_catalog     | pg_user_mappings | umuser        | oid         |\\n|  476 | ece_day_db      | pg_catalog     | pg_user_mappings | srvname       | name        |\\n|  643 | ece_day_db      | pg_catalog     | pg_user_mappings | srvid         | oid         |\\n|  771 | ece_day_db      | pg_catalog     | pg_user_mappings | usename       | name        |\\n| 1145 | ece_day_db      | pg_catalog     | pg_user_mappings | umoptions     | ARRAY       |\\n\\nThe following columns are in the pg_stat_user_tables table in the ece_day_db database:\\n\\n|      | table_catalog   | table_schema   | table_name          | column_name         | data_type                |\\n|-----:|:----------------|:---------------|:--------------------|:--------------------|:-------------------------|\\n|   12 | ece_day_db      | pg_catalog     | pg_stat_user_tables | n_tup_hot_upd       | bigint                   |\\n|   62 | ece_day_db      | pg_catalog     | pg_stat_user_tables | n_live_tup          | bigint                   |\\n|   73 | ece_day_db      | pg_catalog     | pg_stat_user_tables | last_analyze        | timestamp with time zone |\\n|  109 | ece_day_db      | pg_catalog     | pg_stat_user_tables | schemaname          | name                     |\\n|  155 | ece_day_db      | pg_catalog     | pg_stat_user_tables | vacuum_count        | bigint                   |\\n|  272 | ece_day_db      | pg_catalog     | pg_stat_user_tables | last_autoanalyze    | timestamp with time zone |\\n|  453 | ece_day_db      | pg_catalog     | pg_stat_user_tables | n_dead_tup          | bigint                   |\\n|  489 | ece_day_db      | pg_catalog     | pg_stat_user_tables | seq_tup_read        | bigint                   |\\n|  783 | ece_day_db      | pg_catalog     | pg_stat_user_tables | relname             | name                     |\\n|  797 | ece_day_db      | pg_catalog     | pg_stat_user_tables | n_mod_since_analyze | bigint                   |\\n|  841 | ece_day_db      | pg_catalog     | pg_stat_user_tables | n_tup_upd           | bigint                   |\\n|  896 | ece_day_db      | pg_catalog     | pg_stat_user_tables | last_vacuum         | timestamp with time zone |\\n|  923 | ece_day_db      | pg_catalog     | pg_stat_user_tables | seq_scan            | bigint                   |\\n|  943 | ece_day_db      | pg_catalog     | pg_stat_user_tables | relid               | oid                      |\\n|  976 | ece_day_db      | pg_catalog     | pg_stat_user_tables | analyze_count       | bigint                   |\\n| 1040 | ece_day_db      | pg_catalog     | pg_stat_user_tables | last_autovacuum     | timestamp with time zone |\\n| 1070 | ece_day_db      | pg_catalog     | pg_stat_user_tables | n_tup_del           | bigint                   |\\n| 1414 | ece_day_db      | pg_catalog     | pg_stat_user_tables | n_ins_since_vacuum  | bigint                   |\\n| 1489 | ece_day_db      | pg_catalog     | pg_stat_user_tables | autovacuum_count    | bigint                   |\\n| 1612 | ece_day_db      | pg_catalog     | pg_stat_user_tables | idx_scan            | bigint                   |\\n| 1627 | ece_day_db      | pg_catalog     | pg_stat_user_tables | n_tup_ins           | bigint                   |\\n| 1878 | ece_day_db      | pg_catalog     | pg_stat_user_tables | idx_tup_fetch       | bigint                   |\\n| 1954 | ece_day_db      | pg_catalog     | pg_stat_user_tables | autoanalyze_count   | bigint                   |\\n\\nThe following columns are in the pg_policies table in the ece_day_db database:\\n\\n|      | table_catalog   | table_schema   | table_name   | column_name   | data_type   |\\n|-----:|:----------------|:---------------|:-------------|:--------------|:------------|\\n|  562 | ece_day_db      | pg_catalog     | pg_policies  | cmd           | text        |\\n|  686 | ece_day_db      | pg_catalog     | pg_policies  | with_check    | text        |\\n|  832 | ece_day_db      | pg_catalog     | pg_policies  | qual          | text        |\\n| 1076 | ece_day_db      | pg_catalog     | pg_policies  | tablename     | name        |\\n| 1453 | ece_day_db      | pg_catalog     | pg_policies  | roles         | ARRAY       |\\n| 1796 | ece_day_db      | pg_catalog     | pg_policies  | policyname    | name        |\\n| 1909 | ece_day_db      | pg_catalog     | pg_policies  | permissive    | text        |\\n| 2006 | ece_day_db      | pg_catalog     | pg_policies  | schemaname    | name        |\\n\\nThe following columns are in the pg_stat_user_indexes table in the ece_day_db database:\\n\\n|      | table_catalog   | table_schema   | table_name           | column_name   | data_type   |\\n|-----:|:----------------|:---------------|:---------------------|:--------------|:------------|\\n|   10 | ece_day_db      | pg_catalog     | pg_stat_user_indexes | idx_tup_read  | bigint      |\\n|  221 | ece_day_db      | pg_catalog     | pg_stat_user_indexes | idx_scan      | bigint      |\\n|  479 | ece_day_db      | pg_catalog     | pg_stat_user_indexes | idx_tup_fetch | bigint      |\\n| 1111 | ece_day_db      | pg_catalog     | pg_stat_user_indexes | schemaname    | name        |\\n| 1188 | ece_day_db      | pg_catalog     | pg_stat_user_indexes | relid         | oid         |\\n| 1226 | ece_day_db      | pg_catalog     | pg_stat_user_indexes | relname       | name        |\\n| 1634 | ece_day_db      | pg_catalog     | pg_stat_user_indexes | indexrelname  | name        |\\n| 1759 | ece_day_db      | pg_catalog     | pg_stat_user_indexes | indexrelid    | oid         |\\n\\nThe following columns are in the pg_statio_user_sequences table in the ece_day_db database:\\n\\n|      | table_catalog   | table_schema   | table_name               | column_name   | data_type   |\\n|-----:|:----------------|:---------------|:-------------------------|:--------------|:------------|\\n| 1077 | ece_day_db      | pg_catalog     | pg_statio_user_sequences | schemaname    | name        |\\n| 1452 | ece_day_db      | pg_catalog     | pg_statio_user_sequences | blks_hit      | bigint      |\\n| 1797 | ece_day_db      | pg_catalog     | pg_statio_user_sequences | relname       | name        |\\n| 1908 | ece_day_db      | pg_catalog     | pg_statio_user_sequences | blks_read     | bigint      |\\n| 2005 | ece_day_db      | pg_catalog     | pg_statio_user_sequences | relid         | oid         |\\n\\n===Response Guidelines \\n1. If the provided context is sufficient, please generate a valid SQL query without any explanations for the question. \\n2. If the provided context is almost sufficient but requires knowledge of a specific string in a particular column, please generate an intermediate SQL query to find the distinct strings in that column. Prepend the query with a comment saying intermediate_sql \\n3. If the provided context is insufficient, please explain why it can't be generated. \\n4. Please use the most relevant table(s). \\n5. If the question has been asked and answered before, please repeat the answer exactly as it was given before. \\n6. Ensure that the output SQL is PostgreSQL-compliant and executable, and free of syntax errors. \\n\"}, {'role': 'user', 'content': 'Where is team 12?'}, {'role': 'assistant', 'content': 'SELECT team_name, team_location \\nFROM teams \\nWHERE team_number = 12;'}, {'role': 'user', 'content': \"What is Jacob Chin's project about?\"}]\n",
      "Using model gpt-3.5-turbo for 3118.75 tokens (approx)\n",
      "LLM Response: I need additional information or access to the table that specifies the projects each student is working on in order to provide a SQL query to answer the question.\n",
      "I need additional information or access to the table that specifies the projects each student is working on in order to provide a SQL query to answer the question.\n",
      "Couldn't run sql:  syntax error at or near \"I\"\n",
      "LINE 1: I need additional information or access to the table that sp...\n",
      "        ^\n",
      "\n"
     ]
    }
   ],
   "source": [
    "# %%capture captured_output\n",
    "my_question = \"What is Jacob Chin's project about?\"\n",
    "response = vn.ask(question=my_question, allow_llm_to_see_data=True)"
   ]
  },
  {
   "cell_type": "code",
   "execution_count": null,
   "metadata": {},
   "outputs": [],
   "source": [
    "capt_vanna_ans= captured_output.stdout\n",
    "if \"ERROR\" not in capt_vanna_ans:\n",
    "    lines = capt_vanna_ans.splitlines()\n",
    "\n",
    "    SQL_query_commands = [\"SELECT\", \"AND\", \"WHERE\", \"FROM\", \";\", \"gpt\", \"SQL\", \"LLM\", \"`\"]\n",
    "    filtered_lines = [line for line in lines if not any(substring in line for substring in SQL_query_commands)]\n",
    "    vanna_ans_tables = \"\\n\".join(filtered_lines)\n",
    "\n",
    "    print(vanna_ans_tables)\n",
    "else:\n",
    "    print(\"Bruh happened\")"
   ]
  },
  {
   "cell_type": "code",
   "execution_count": null,
   "metadata": {},
   "outputs": [],
   "source": [
    "client = OpenAI()\n",
    "client.api_key = api_key\n",
    "\n",
    "completion = client.chat.completions.create(\n",
    "  model=\"gpt-3.5-turbo\",\n",
    "  messages=[\n",
    "    {\"role\": \"developer\", \"content\": \"You are a helpful assistant in interpreting data tables into complete sentences and an intelligible response.\"},\n",
    "    {\"role\": \"user\", \"content\": f\"Answer the question of: {my_question}, given this data table of{vanna_ans_tables}\"}\n",
    "  ]\n",
    ")\n",
    "\n",
    "print(completion.choices[0].message.content)\n"
   ]
  },
  {
   "cell_type": "code",
   "execution_count": null,
   "metadata": {},
   "outputs": [],
   "source": [
    "class MyVanna(ChromaDB_VectorStore, OpenAI_Chat):\n",
    "    def __init__(self, config=None):\n",
    "        ChromaDB_VectorStore.__init__(self, config=config)\n",
    "        OpenAI_Chat.__init__(self, config=config)\n",
    "\n",
    "def answer_course_question_new(question: str):\n",
    "    vn = MyVanna(config={'api_key': api_key, 'model': 'gpt-3.5-turbo'})\n",
    "    vn.connect_to_postgres(host='34.134.126.254', dbname='tutorialDB', user='postgres', password='butlar', port='5432')\n",
    "    # training_data = vn.get_training_data()\n",
    "    # print(training_data)\n",
    "\n",
    "    dummy_output = io.StringIO()\n",
    "    dummy_error = io.StringIO()\n",
    "    with redirect_stdout(dummy_output), redirect_stderr(dummy_error):\n",
    "        response = vn.ask(question=question, allow_llm_to_see_data=True, print_results=False)\n",
    "    \n",
    "    if response[1]:\n",
    "        print(f\"The response is {response[1]}\")\n",
    "    return response[1]\n",
    "\n",
    "newple = answer_course_question_new(\"What courses does Tali Moreshet teach?\")"
   ]
  },
  {
   "cell_type": "code",
   "execution_count": null,
   "metadata": {},
   "outputs": [],
   "source": [
    "print(newple[1])"
   ]
  },
  {
   "cell_type": "code",
   "execution_count": null,
   "metadata": {},
   "outputs": [],
   "source": [
    "from vanna.flask import VannaFlaskApp\n",
    "app = VannaFlaskApp(vn)\n",
    "app.run()"
   ]
  }
 ],
 "metadata": {
  "kernelspec": {
   "display_name": ".venv",
   "language": "python",
   "name": "python3"
  },
  "language_info": {
   "codemirror_mode": {
    "name": "ipython",
    "version": 3
   },
   "file_extension": ".py",
   "mimetype": "text/x-python",
   "name": "python",
   "nbconvert_exporter": "python",
   "pygments_lexer": "ipython3",
   "version": "3.12.0"
  }
 },
 "nbformat": 4,
 "nbformat_minor": 2
}
