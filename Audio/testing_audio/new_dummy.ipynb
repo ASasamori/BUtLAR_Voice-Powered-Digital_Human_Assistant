{
 "cells": [
  {
   "cell_type": "code",
   "execution_count": 1,
   "metadata": {},
   "outputs": [
    {
     "name": "stdout",
     "output_type": "stream",
     "text": [
      "Requirement already satisfied: vanna[chromadb,openai,postgres] in /Users/Andrew/CS/classes/senior_design/BUtLAR_Voice-Powered-Digital_Human_Assistant/.venv/lib/python3.12/site-packages (0.7.6)\n",
      "Requirement already satisfied: requests in /Users/Andrew/CS/classes/senior_design/BUtLAR_Voice-Powered-Digital_Human_Assistant/.venv/lib/python3.12/site-packages (from vanna[chromadb,openai,postgres]) (2.32.3)\n",
      "Requirement already satisfied: tabulate in /Users/Andrew/CS/classes/senior_design/BUtLAR_Voice-Powered-Digital_Human_Assistant/.venv/lib/python3.12/site-packages (from vanna[chromadb,openai,postgres]) (0.9.0)\n",
      "Requirement already satisfied: plotly in /Users/Andrew/CS/classes/senior_design/BUtLAR_Voice-Powered-Digital_Human_Assistant/.venv/lib/python3.12/site-packages (from vanna[chromadb,openai,postgres]) (6.0.1)\n",
      "Requirement already satisfied: pandas in /Users/Andrew/CS/classes/senior_design/BUtLAR_Voice-Powered-Digital_Human_Assistant/.venv/lib/python3.12/site-packages (from vanna[chromadb,openai,postgres]) (2.2.3)\n",
      "Requirement already satisfied: sqlparse in /Users/Andrew/CS/classes/senior_design/BUtLAR_Voice-Powered-Digital_Human_Assistant/.venv/lib/python3.12/site-packages (from vanna[chromadb,openai,postgres]) (0.5.3)\n",
      "Requirement already satisfied: kaleido in /Users/Andrew/CS/classes/senior_design/BUtLAR_Voice-Powered-Digital_Human_Assistant/.venv/lib/python3.12/site-packages (from vanna[chromadb,openai,postgres]) (0.2.1)\n",
      "Requirement already satisfied: flask in /Users/Andrew/CS/classes/senior_design/BUtLAR_Voice-Powered-Digital_Human_Assistant/.venv/lib/python3.12/site-packages (from vanna[chromadb,openai,postgres]) (3.1.0)\n",
      "Requirement already satisfied: flask-sock in /Users/Andrew/CS/classes/senior_design/BUtLAR_Voice-Powered-Digital_Human_Assistant/.venv/lib/python3.12/site-packages (from vanna[chromadb,openai,postgres]) (0.7.0)\n",
      "Requirement already satisfied: flasgger in /Users/Andrew/CS/classes/senior_design/BUtLAR_Voice-Powered-Digital_Human_Assistant/.venv/lib/python3.12/site-packages (from vanna[chromadb,openai,postgres]) (0.9.7.1)\n",
      "Requirement already satisfied: sqlalchemy in /Users/Andrew/CS/classes/senior_design/BUtLAR_Voice-Powered-Digital_Human_Assistant/.venv/lib/python3.12/site-packages (from vanna[chromadb,openai,postgres]) (2.0.36)\n",
      "Requirement already satisfied: chromadb in /Users/Andrew/CS/classes/senior_design/BUtLAR_Voice-Powered-Digital_Human_Assistant/.venv/lib/python3.12/site-packages (from vanna[chromadb,openai,postgres]) (0.6.3)\n",
      "Requirement already satisfied: openai in /Users/Andrew/CS/classes/senior_design/BUtLAR_Voice-Powered-Digital_Human_Assistant/.venv/lib/python3.12/site-packages (from vanna[chromadb,openai,postgres]) (1.66.3)\n",
      "Requirement already satisfied: psycopg2-binary in /Users/Andrew/CS/classes/senior_design/BUtLAR_Voice-Powered-Digital_Human_Assistant/.venv/lib/python3.12/site-packages (from vanna[chromadb,openai,postgres]) (2.9.10)\n",
      "Requirement already satisfied: db-dtypes in /Users/Andrew/CS/classes/senior_design/BUtLAR_Voice-Powered-Digital_Human_Assistant/.venv/lib/python3.12/site-packages (from vanna[chromadb,openai,postgres]) (1.4.2)\n",
      "Requirement already satisfied: build>=1.0.3 in /Users/Andrew/CS/classes/senior_design/BUtLAR_Voice-Powered-Digital_Human_Assistant/.venv/lib/python3.12/site-packages (from chromadb->vanna[chromadb,openai,postgres]) (1.2.2.post1)\n",
      "Requirement already satisfied: pydantic>=1.9 in /Users/Andrew/CS/classes/senior_design/BUtLAR_Voice-Powered-Digital_Human_Assistant/.venv/lib/python3.12/site-packages (from chromadb->vanna[chromadb,openai,postgres]) (2.9.2)\n",
      "Requirement already satisfied: chroma-hnswlib==0.7.6 in /Users/Andrew/CS/classes/senior_design/BUtLAR_Voice-Powered-Digital_Human_Assistant/.venv/lib/python3.12/site-packages (from chromadb->vanna[chromadb,openai,postgres]) (0.7.6)\n",
      "Requirement already satisfied: fastapi>=0.95.2 in /Users/Andrew/CS/classes/senior_design/BUtLAR_Voice-Powered-Digital_Human_Assistant/.venv/lib/python3.12/site-packages (from chromadb->vanna[chromadb,openai,postgres]) (0.115.11)\n",
      "Requirement already satisfied: uvicorn>=0.18.3 in /Users/Andrew/CS/classes/senior_design/BUtLAR_Voice-Powered-Digital_Human_Assistant/.venv/lib/python3.12/site-packages (from uvicorn[standard]>=0.18.3->chromadb->vanna[chromadb,openai,postgres]) (0.34.0)\n",
      "Requirement already satisfied: numpy>=1.22.5 in /Users/Andrew/CS/classes/senior_design/BUtLAR_Voice-Powered-Digital_Human_Assistant/.venv/lib/python3.12/site-packages (from chromadb->vanna[chromadb,openai,postgres]) (1.26.4)\n",
      "Requirement already satisfied: posthog>=2.4.0 in /Users/Andrew/CS/classes/senior_design/BUtLAR_Voice-Powered-Digital_Human_Assistant/.venv/lib/python3.12/site-packages (from chromadb->vanna[chromadb,openai,postgres]) (3.21.0)\n",
      "Requirement already satisfied: typing_extensions>=4.5.0 in /Users/Andrew/CS/classes/senior_design/BUtLAR_Voice-Powered-Digital_Human_Assistant/.venv/lib/python3.12/site-packages (from chromadb->vanna[chromadb,openai,postgres]) (4.12.2)\n",
      "Requirement already satisfied: onnxruntime>=1.14.1 in /Users/Andrew/CS/classes/senior_design/BUtLAR_Voice-Powered-Digital_Human_Assistant/.venv/lib/python3.12/site-packages (from chromadb->vanna[chromadb,openai,postgres]) (1.21.0)\n",
      "Requirement already satisfied: opentelemetry-api>=1.2.0 in /Users/Andrew/CS/classes/senior_design/BUtLAR_Voice-Powered-Digital_Human_Assistant/.venv/lib/python3.12/site-packages (from chromadb->vanna[chromadb,openai,postgres]) (1.31.0)\n",
      "Requirement already satisfied: opentelemetry-exporter-otlp-proto-grpc>=1.2.0 in /Users/Andrew/CS/classes/senior_design/BUtLAR_Voice-Powered-Digital_Human_Assistant/.venv/lib/python3.12/site-packages (from chromadb->vanna[chromadb,openai,postgres]) (1.31.0)\n",
      "Requirement already satisfied: opentelemetry-instrumentation-fastapi>=0.41b0 in /Users/Andrew/CS/classes/senior_design/BUtLAR_Voice-Powered-Digital_Human_Assistant/.venv/lib/python3.12/site-packages (from chromadb->vanna[chromadb,openai,postgres]) (0.52b0)\n",
      "Requirement already satisfied: opentelemetry-sdk>=1.2.0 in /Users/Andrew/CS/classes/senior_design/BUtLAR_Voice-Powered-Digital_Human_Assistant/.venv/lib/python3.12/site-packages (from chromadb->vanna[chromadb,openai,postgres]) (1.31.0)\n",
      "Requirement already satisfied: tokenizers>=0.13.2 in /Users/Andrew/CS/classes/senior_design/BUtLAR_Voice-Powered-Digital_Human_Assistant/.venv/lib/python3.12/site-packages (from chromadb->vanna[chromadb,openai,postgres]) (0.21.1)\n",
      "Requirement already satisfied: pypika>=0.48.9 in /Users/Andrew/CS/classes/senior_design/BUtLAR_Voice-Powered-Digital_Human_Assistant/.venv/lib/python3.12/site-packages (from chromadb->vanna[chromadb,openai,postgres]) (0.48.9)\n",
      "Requirement already satisfied: tqdm>=4.65.0 in /Users/Andrew/CS/classes/senior_design/BUtLAR_Voice-Powered-Digital_Human_Assistant/.venv/lib/python3.12/site-packages (from chromadb->vanna[chromadb,openai,postgres]) (4.67.0)\n",
      "Requirement already satisfied: overrides>=7.3.1 in /Users/Andrew/CS/classes/senior_design/BUtLAR_Voice-Powered-Digital_Human_Assistant/.venv/lib/python3.12/site-packages (from chromadb->vanna[chromadb,openai,postgres]) (7.7.0)\n",
      "Requirement already satisfied: importlib-resources in /Users/Andrew/CS/classes/senior_design/BUtLAR_Voice-Powered-Digital_Human_Assistant/.venv/lib/python3.12/site-packages (from chromadb->vanna[chromadb,openai,postgres]) (6.5.2)\n",
      "Requirement already satisfied: grpcio>=1.58.0 in /Users/Andrew/CS/classes/senior_design/BUtLAR_Voice-Powered-Digital_Human_Assistant/.venv/lib/python3.12/site-packages (from chromadb->vanna[chromadb,openai,postgres]) (1.67.1)\n",
      "Requirement already satisfied: bcrypt>=4.0.1 in /Users/Andrew/CS/classes/senior_design/BUtLAR_Voice-Powered-Digital_Human_Assistant/.venv/lib/python3.12/site-packages (from chromadb->vanna[chromadb,openai,postgres]) (4.3.0)\n",
      "Requirement already satisfied: typer>=0.9.0 in /Users/Andrew/CS/classes/senior_design/BUtLAR_Voice-Powered-Digital_Human_Assistant/.venv/lib/python3.12/site-packages (from chromadb->vanna[chromadb,openai,postgres]) (0.15.2)\n",
      "Requirement already satisfied: kubernetes>=28.1.0 in /Users/Andrew/CS/classes/senior_design/BUtLAR_Voice-Powered-Digital_Human_Assistant/.venv/lib/python3.12/site-packages (from chromadb->vanna[chromadb,openai,postgres]) (32.0.1)\n",
      "Requirement already satisfied: tenacity>=8.2.3 in /Users/Andrew/CS/classes/senior_design/BUtLAR_Voice-Powered-Digital_Human_Assistant/.venv/lib/python3.12/site-packages (from chromadb->vanna[chromadb,openai,postgres]) (9.0.0)\n",
      "Requirement already satisfied: PyYAML>=6.0.0 in /Users/Andrew/CS/classes/senior_design/BUtLAR_Voice-Powered-Digital_Human_Assistant/.venv/lib/python3.12/site-packages (from chromadb->vanna[chromadb,openai,postgres]) (6.0.2)\n",
      "Requirement already satisfied: mmh3>=4.0.1 in /Users/Andrew/CS/classes/senior_design/BUtLAR_Voice-Powered-Digital_Human_Assistant/.venv/lib/python3.12/site-packages (from chromadb->vanna[chromadb,openai,postgres]) (5.1.0)\n",
      "Requirement already satisfied: orjson>=3.9.12 in /Users/Andrew/CS/classes/senior_design/BUtLAR_Voice-Powered-Digital_Human_Assistant/.venv/lib/python3.12/site-packages (from chromadb->vanna[chromadb,openai,postgres]) (3.10.11)\n",
      "Requirement already satisfied: httpx>=0.27.0 in /Users/Andrew/CS/classes/senior_design/BUtLAR_Voice-Powered-Digital_Human_Assistant/.venv/lib/python3.12/site-packages (from chromadb->vanna[chromadb,openai,postgres]) (0.27.2)\n",
      "Requirement already satisfied: rich>=10.11.0 in /Users/Andrew/CS/classes/senior_design/BUtLAR_Voice-Powered-Digital_Human_Assistant/.venv/lib/python3.12/site-packages (from chromadb->vanna[chromadb,openai,postgres]) (13.9.4)\n",
      "Requirement already satisfied: packaging>=17.0 in /Users/Andrew/CS/classes/senior_design/BUtLAR_Voice-Powered-Digital_Human_Assistant/.venv/lib/python3.12/site-packages (from db-dtypes->vanna[chromadb,openai,postgres]) (24.2)\n",
      "Requirement already satisfied: pyarrow>=3.0.0 in /Users/Andrew/CS/classes/senior_design/BUtLAR_Voice-Powered-Digital_Human_Assistant/.venv/lib/python3.12/site-packages (from db-dtypes->vanna[chromadb,openai,postgres]) (18.0.0)\n",
      "Requirement already satisfied: python-dateutil>=2.8.2 in /Users/Andrew/CS/classes/senior_design/BUtLAR_Voice-Powered-Digital_Human_Assistant/.venv/lib/python3.12/site-packages (from pandas->vanna[chromadb,openai,postgres]) (2.9.0.post0)\n",
      "Requirement already satisfied: pytz>=2020.1 in /Users/Andrew/CS/classes/senior_design/BUtLAR_Voice-Powered-Digital_Human_Assistant/.venv/lib/python3.12/site-packages (from pandas->vanna[chromadb,openai,postgres]) (2024.2)\n",
      "Requirement already satisfied: tzdata>=2022.7 in /Users/Andrew/CS/classes/senior_design/BUtLAR_Voice-Powered-Digital_Human_Assistant/.venv/lib/python3.12/site-packages (from pandas->vanna[chromadb,openai,postgres]) (2024.2)\n",
      "Requirement already satisfied: jsonschema>=3.0.1 in /Users/Andrew/CS/classes/senior_design/BUtLAR_Voice-Powered-Digital_Human_Assistant/.venv/lib/python3.12/site-packages (from flasgger->vanna[chromadb,openai,postgres]) (4.23.0)\n",
      "Requirement already satisfied: mistune in /Users/Andrew/CS/classes/senior_design/BUtLAR_Voice-Powered-Digital_Human_Assistant/.venv/lib/python3.12/site-packages (from flasgger->vanna[chromadb,openai,postgres]) (3.1.2)\n",
      "Requirement already satisfied: six>=1.10.0 in /Users/Andrew/CS/classes/senior_design/BUtLAR_Voice-Powered-Digital_Human_Assistant/.venv/lib/python3.12/site-packages (from flasgger->vanna[chromadb,openai,postgres]) (1.16.0)\n",
      "Requirement already satisfied: Werkzeug>=3.1 in /Users/Andrew/CS/classes/senior_design/BUtLAR_Voice-Powered-Digital_Human_Assistant/.venv/lib/python3.12/site-packages (from flask->vanna[chromadb,openai,postgres]) (3.1.3)\n",
      "Requirement already satisfied: Jinja2>=3.1.2 in /Users/Andrew/CS/classes/senior_design/BUtLAR_Voice-Powered-Digital_Human_Assistant/.venv/lib/python3.12/site-packages (from flask->vanna[chromadb,openai,postgres]) (3.1.6)\n",
      "Requirement already satisfied: itsdangerous>=2.2 in /Users/Andrew/CS/classes/senior_design/BUtLAR_Voice-Powered-Digital_Human_Assistant/.venv/lib/python3.12/site-packages (from flask->vanna[chromadb,openai,postgres]) (2.2.0)\n",
      "Requirement already satisfied: click>=8.1.3 in /Users/Andrew/CS/classes/senior_design/BUtLAR_Voice-Powered-Digital_Human_Assistant/.venv/lib/python3.12/site-packages (from flask->vanna[chromadb,openai,postgres]) (8.1.8)\n",
      "Requirement already satisfied: blinker>=1.9 in /Users/Andrew/CS/classes/senior_design/BUtLAR_Voice-Powered-Digital_Human_Assistant/.venv/lib/python3.12/site-packages (from flask->vanna[chromadb,openai,postgres]) (1.9.0)\n",
      "Requirement already satisfied: simple-websocket>=0.5.1 in /Users/Andrew/CS/classes/senior_design/BUtLAR_Voice-Powered-Digital_Human_Assistant/.venv/lib/python3.12/site-packages (from flask-sock->vanna[chromadb,openai,postgres]) (1.1.0)\n",
      "Requirement already satisfied: anyio<5,>=3.5.0 in /Users/Andrew/CS/classes/senior_design/BUtLAR_Voice-Powered-Digital_Human_Assistant/.venv/lib/python3.12/site-packages (from openai->vanna[chromadb,openai,postgres]) (4.6.2.post1)\n",
      "Requirement already satisfied: distro<2,>=1.7.0 in /Users/Andrew/CS/classes/senior_design/BUtLAR_Voice-Powered-Digital_Human_Assistant/.venv/lib/python3.12/site-packages (from openai->vanna[chromadb,openai,postgres]) (1.9.0)\n",
      "Requirement already satisfied: jiter<1,>=0.4.0 in /Users/Andrew/CS/classes/senior_design/BUtLAR_Voice-Powered-Digital_Human_Assistant/.venv/lib/python3.12/site-packages (from openai->vanna[chromadb,openai,postgres]) (0.9.0)\n",
      "Requirement already satisfied: sniffio in /Users/Andrew/CS/classes/senior_design/BUtLAR_Voice-Powered-Digital_Human_Assistant/.venv/lib/python3.12/site-packages (from openai->vanna[chromadb,openai,postgres]) (1.3.1)\n",
      "Requirement already satisfied: narwhals>=1.15.1 in /Users/Andrew/CS/classes/senior_design/BUtLAR_Voice-Powered-Digital_Human_Assistant/.venv/lib/python3.12/site-packages (from plotly->vanna[chromadb,openai,postgres]) (1.31.0)\n",
      "Requirement already satisfied: charset-normalizer<4,>=2 in /Users/Andrew/CS/classes/senior_design/BUtLAR_Voice-Powered-Digital_Human_Assistant/.venv/lib/python3.12/site-packages (from requests->vanna[chromadb,openai,postgres]) (3.4.0)\n",
      "Requirement already satisfied: idna<4,>=2.5 in /Users/Andrew/CS/classes/senior_design/BUtLAR_Voice-Powered-Digital_Human_Assistant/.venv/lib/python3.12/site-packages (from requests->vanna[chromadb,openai,postgres]) (3.10)\n",
      "Requirement already satisfied: urllib3<3,>=1.21.1 in /Users/Andrew/CS/classes/senior_design/BUtLAR_Voice-Powered-Digital_Human_Assistant/.venv/lib/python3.12/site-packages (from requests->vanna[chromadb,openai,postgres]) (2.2.3)\n",
      "Requirement already satisfied: certifi>=2017.4.17 in /Users/Andrew/CS/classes/senior_design/BUtLAR_Voice-Powered-Digital_Human_Assistant/.venv/lib/python3.12/site-packages (from requests->vanna[chromadb,openai,postgres]) (2024.8.30)\n",
      "Requirement already satisfied: pyproject_hooks in /Users/Andrew/CS/classes/senior_design/BUtLAR_Voice-Powered-Digital_Human_Assistant/.venv/lib/python3.12/site-packages (from build>=1.0.3->chromadb->vanna[chromadb,openai,postgres]) (1.2.0)\n",
      "Requirement already satisfied: starlette<0.47.0,>=0.40.0 in /Users/Andrew/CS/classes/senior_design/BUtLAR_Voice-Powered-Digital_Human_Assistant/.venv/lib/python3.12/site-packages (from fastapi>=0.95.2->chromadb->vanna[chromadb,openai,postgres]) (0.46.1)\n",
      "Requirement already satisfied: httpcore==1.* in /Users/Andrew/CS/classes/senior_design/BUtLAR_Voice-Powered-Digital_Human_Assistant/.venv/lib/python3.12/site-packages (from httpx>=0.27.0->chromadb->vanna[chromadb,openai,postgres]) (1.0.6)\n",
      "Requirement already satisfied: h11<0.15,>=0.13 in /Users/Andrew/CS/classes/senior_design/BUtLAR_Voice-Powered-Digital_Human_Assistant/.venv/lib/python3.12/site-packages (from httpcore==1.*->httpx>=0.27.0->chromadb->vanna[chromadb,openai,postgres]) (0.14.0)\n",
      "Requirement already satisfied: MarkupSafe>=2.0 in /Users/Andrew/CS/classes/senior_design/BUtLAR_Voice-Powered-Digital_Human_Assistant/.venv/lib/python3.12/site-packages (from Jinja2>=3.1.2->flask->vanna[chromadb,openai,postgres]) (3.0.2)\n",
      "Requirement already satisfied: attrs>=22.2.0 in /Users/Andrew/CS/classes/senior_design/BUtLAR_Voice-Powered-Digital_Human_Assistant/.venv/lib/python3.12/site-packages (from jsonschema>=3.0.1->flasgger->vanna[chromadb,openai,postgres]) (24.2.0)\n",
      "Requirement already satisfied: jsonschema-specifications>=2023.03.6 in /Users/Andrew/CS/classes/senior_design/BUtLAR_Voice-Powered-Digital_Human_Assistant/.venv/lib/python3.12/site-packages (from jsonschema>=3.0.1->flasgger->vanna[chromadb,openai,postgres]) (2024.10.1)\n",
      "Requirement already satisfied: referencing>=0.28.4 in /Users/Andrew/CS/classes/senior_design/BUtLAR_Voice-Powered-Digital_Human_Assistant/.venv/lib/python3.12/site-packages (from jsonschema>=3.0.1->flasgger->vanna[chromadb,openai,postgres]) (0.36.2)\n",
      "Requirement already satisfied: rpds-py>=0.7.1 in /Users/Andrew/CS/classes/senior_design/BUtLAR_Voice-Powered-Digital_Human_Assistant/.venv/lib/python3.12/site-packages (from jsonschema>=3.0.1->flasgger->vanna[chromadb,openai,postgres]) (0.23.1)\n",
      "Requirement already satisfied: google-auth>=1.0.1 in /Users/Andrew/CS/classes/senior_design/BUtLAR_Voice-Powered-Digital_Human_Assistant/.venv/lib/python3.12/site-packages (from kubernetes>=28.1.0->chromadb->vanna[chromadb,openai,postgres]) (2.36.0)\n",
      "Requirement already satisfied: websocket-client!=0.40.0,!=0.41.*,!=0.42.*,>=0.32.0 in /Users/Andrew/CS/classes/senior_design/BUtLAR_Voice-Powered-Digital_Human_Assistant/.venv/lib/python3.12/site-packages (from kubernetes>=28.1.0->chromadb->vanna[chromadb,openai,postgres]) (1.8.0)\n",
      "Requirement already satisfied: requests-oauthlib in /Users/Andrew/CS/classes/senior_design/BUtLAR_Voice-Powered-Digital_Human_Assistant/.venv/lib/python3.12/site-packages (from kubernetes>=28.1.0->chromadb->vanna[chromadb,openai,postgres]) (2.0.0)\n",
      "Requirement already satisfied: oauthlib>=3.2.2 in /Users/Andrew/CS/classes/senior_design/BUtLAR_Voice-Powered-Digital_Human_Assistant/.venv/lib/python3.12/site-packages (from kubernetes>=28.1.0->chromadb->vanna[chromadb,openai,postgres]) (3.2.2)\n",
      "Requirement already satisfied: durationpy>=0.7 in /Users/Andrew/CS/classes/senior_design/BUtLAR_Voice-Powered-Digital_Human_Assistant/.venv/lib/python3.12/site-packages (from kubernetes>=28.1.0->chromadb->vanna[chromadb,openai,postgres]) (0.9)\n",
      "Requirement already satisfied: coloredlogs in /Users/Andrew/CS/classes/senior_design/BUtLAR_Voice-Powered-Digital_Human_Assistant/.venv/lib/python3.12/site-packages (from onnxruntime>=1.14.1->chromadb->vanna[chromadb,openai,postgres]) (15.0.1)\n",
      "Requirement already satisfied: flatbuffers in /Users/Andrew/CS/classes/senior_design/BUtLAR_Voice-Powered-Digital_Human_Assistant/.venv/lib/python3.12/site-packages (from onnxruntime>=1.14.1->chromadb->vanna[chromadb,openai,postgres]) (25.2.10)\n",
      "Requirement already satisfied: protobuf in /Users/Andrew/CS/classes/senior_design/BUtLAR_Voice-Powered-Digital_Human_Assistant/.venv/lib/python3.12/site-packages (from onnxruntime>=1.14.1->chromadb->vanna[chromadb,openai,postgres]) (5.28.3)\n",
      "Requirement already satisfied: sympy in /Users/Andrew/CS/classes/senior_design/BUtLAR_Voice-Powered-Digital_Human_Assistant/.venv/lib/python3.12/site-packages (from onnxruntime>=1.14.1->chromadb->vanna[chromadb,openai,postgres]) (1.13.3)\n",
      "Requirement already satisfied: deprecated>=1.2.6 in /Users/Andrew/CS/classes/senior_design/BUtLAR_Voice-Powered-Digital_Human_Assistant/.venv/lib/python3.12/site-packages (from opentelemetry-api>=1.2.0->chromadb->vanna[chromadb,openai,postgres]) (1.2.18)\n",
      "Requirement already satisfied: importlib-metadata<8.7.0,>=6.0 in /Users/Andrew/CS/classes/senior_design/BUtLAR_Voice-Powered-Digital_Human_Assistant/.venv/lib/python3.12/site-packages (from opentelemetry-api>=1.2.0->chromadb->vanna[chromadb,openai,postgres]) (8.6.1)\n",
      "Requirement already satisfied: googleapis-common-protos~=1.52 in /Users/Andrew/CS/classes/senior_design/BUtLAR_Voice-Powered-Digital_Human_Assistant/.venv/lib/python3.12/site-packages (from opentelemetry-exporter-otlp-proto-grpc>=1.2.0->chromadb->vanna[chromadb,openai,postgres]) (1.66.0)\n",
      "Requirement already satisfied: opentelemetry-exporter-otlp-proto-common==1.31.0 in /Users/Andrew/CS/classes/senior_design/BUtLAR_Voice-Powered-Digital_Human_Assistant/.venv/lib/python3.12/site-packages (from opentelemetry-exporter-otlp-proto-grpc>=1.2.0->chromadb->vanna[chromadb,openai,postgres]) (1.31.0)\n",
      "Requirement already satisfied: opentelemetry-proto==1.31.0 in /Users/Andrew/CS/classes/senior_design/BUtLAR_Voice-Powered-Digital_Human_Assistant/.venv/lib/python3.12/site-packages (from opentelemetry-exporter-otlp-proto-grpc>=1.2.0->chromadb->vanna[chromadb,openai,postgres]) (1.31.0)\n",
      "Requirement already satisfied: opentelemetry-instrumentation-asgi==0.52b0 in /Users/Andrew/CS/classes/senior_design/BUtLAR_Voice-Powered-Digital_Human_Assistant/.venv/lib/python3.12/site-packages (from opentelemetry-instrumentation-fastapi>=0.41b0->chromadb->vanna[chromadb,openai,postgres]) (0.52b0)\n",
      "Requirement already satisfied: opentelemetry-instrumentation==0.52b0 in /Users/Andrew/CS/classes/senior_design/BUtLAR_Voice-Powered-Digital_Human_Assistant/.venv/lib/python3.12/site-packages (from opentelemetry-instrumentation-fastapi>=0.41b0->chromadb->vanna[chromadb,openai,postgres]) (0.52b0)\n",
      "Requirement already satisfied: opentelemetry-semantic-conventions==0.52b0 in /Users/Andrew/CS/classes/senior_design/BUtLAR_Voice-Powered-Digital_Human_Assistant/.venv/lib/python3.12/site-packages (from opentelemetry-instrumentation-fastapi>=0.41b0->chromadb->vanna[chromadb,openai,postgres]) (0.52b0)\n",
      "Requirement already satisfied: opentelemetry-util-http==0.52b0 in /Users/Andrew/CS/classes/senior_design/BUtLAR_Voice-Powered-Digital_Human_Assistant/.venv/lib/python3.12/site-packages (from opentelemetry-instrumentation-fastapi>=0.41b0->chromadb->vanna[chromadb,openai,postgres]) (0.52b0)\n",
      "Requirement already satisfied: wrapt<2.0.0,>=1.0.0 in /Users/Andrew/CS/classes/senior_design/BUtLAR_Voice-Powered-Digital_Human_Assistant/.venv/lib/python3.12/site-packages (from opentelemetry-instrumentation==0.52b0->opentelemetry-instrumentation-fastapi>=0.41b0->chromadb->vanna[chromadb,openai,postgres]) (1.17.2)\n",
      "Requirement already satisfied: asgiref~=3.0 in /Users/Andrew/CS/classes/senior_design/BUtLAR_Voice-Powered-Digital_Human_Assistant/.venv/lib/python3.12/site-packages (from opentelemetry-instrumentation-asgi==0.52b0->opentelemetry-instrumentation-fastapi>=0.41b0->chromadb->vanna[chromadb,openai,postgres]) (3.8.1)\n",
      "Requirement already satisfied: monotonic>=1.5 in /Users/Andrew/CS/classes/senior_design/BUtLAR_Voice-Powered-Digital_Human_Assistant/.venv/lib/python3.12/site-packages (from posthog>=2.4.0->chromadb->vanna[chromadb,openai,postgres]) (1.6)\n",
      "Requirement already satisfied: backoff>=1.10.0 in /Users/Andrew/CS/classes/senior_design/BUtLAR_Voice-Powered-Digital_Human_Assistant/.venv/lib/python3.12/site-packages (from posthog>=2.4.0->chromadb->vanna[chromadb,openai,postgres]) (2.2.1)\n",
      "Requirement already satisfied: annotated-types>=0.6.0 in /Users/Andrew/CS/classes/senior_design/BUtLAR_Voice-Powered-Digital_Human_Assistant/.venv/lib/python3.12/site-packages (from pydantic>=1.9->chromadb->vanna[chromadb,openai,postgres]) (0.7.0)\n",
      "Requirement already satisfied: pydantic-core==2.23.4 in /Users/Andrew/CS/classes/senior_design/BUtLAR_Voice-Powered-Digital_Human_Assistant/.venv/lib/python3.12/site-packages (from pydantic>=1.9->chromadb->vanna[chromadb,openai,postgres]) (2.23.4)\n",
      "Requirement already satisfied: markdown-it-py>=2.2.0 in /Users/Andrew/CS/classes/senior_design/BUtLAR_Voice-Powered-Digital_Human_Assistant/.venv/lib/python3.12/site-packages (from rich>=10.11.0->chromadb->vanna[chromadb,openai,postgres]) (3.0.0)\n",
      "Requirement already satisfied: pygments<3.0.0,>=2.13.0 in /Users/Andrew/CS/classes/senior_design/BUtLAR_Voice-Powered-Digital_Human_Assistant/.venv/lib/python3.12/site-packages (from rich>=10.11.0->chromadb->vanna[chromadb,openai,postgres]) (2.18.0)\n",
      "Requirement already satisfied: wsproto in /Users/Andrew/CS/classes/senior_design/BUtLAR_Voice-Powered-Digital_Human_Assistant/.venv/lib/python3.12/site-packages (from simple-websocket>=0.5.1->flask-sock->vanna[chromadb,openai,postgres]) (1.2.0)\n",
      "Requirement already satisfied: huggingface-hub<1.0,>=0.16.4 in /Users/Andrew/CS/classes/senior_design/BUtLAR_Voice-Powered-Digital_Human_Assistant/.venv/lib/python3.12/site-packages (from tokenizers>=0.13.2->chromadb->vanna[chromadb,openai,postgres]) (0.26.2)\n",
      "Requirement already satisfied: shellingham>=1.3.0 in /Users/Andrew/CS/classes/senior_design/BUtLAR_Voice-Powered-Digital_Human_Assistant/.venv/lib/python3.12/site-packages (from typer>=0.9.0->chromadb->vanna[chromadb,openai,postgres]) (1.5.4)\n",
      "Requirement already satisfied: httptools>=0.6.3 in /Users/Andrew/CS/classes/senior_design/BUtLAR_Voice-Powered-Digital_Human_Assistant/.venv/lib/python3.12/site-packages (from uvicorn[standard]>=0.18.3->chromadb->vanna[chromadb,openai,postgres]) (0.6.4)\n",
      "Requirement already satisfied: python-dotenv>=0.13 in /Users/Andrew/CS/classes/senior_design/BUtLAR_Voice-Powered-Digital_Human_Assistant/.venv/lib/python3.12/site-packages (from uvicorn[standard]>=0.18.3->chromadb->vanna[chromadb,openai,postgres]) (1.0.1)\n",
      "Requirement already satisfied: uvloop!=0.15.0,!=0.15.1,>=0.14.0 in /Users/Andrew/CS/classes/senior_design/BUtLAR_Voice-Powered-Digital_Human_Assistant/.venv/lib/python3.12/site-packages (from uvicorn[standard]>=0.18.3->chromadb->vanna[chromadb,openai,postgres]) (0.21.0)\n",
      "Requirement already satisfied: watchfiles>=0.13 in /Users/Andrew/CS/classes/senior_design/BUtLAR_Voice-Powered-Digital_Human_Assistant/.venv/lib/python3.12/site-packages (from uvicorn[standard]>=0.18.3->chromadb->vanna[chromadb,openai,postgres]) (1.0.4)\n",
      "Requirement already satisfied: websockets>=10.4 in /Users/Andrew/CS/classes/senior_design/BUtLAR_Voice-Powered-Digital_Human_Assistant/.venv/lib/python3.12/site-packages (from uvicorn[standard]>=0.18.3->chromadb->vanna[chromadb,openai,postgres]) (15.0.1)\n",
      "Requirement already satisfied: cachetools<6.0,>=2.0.0 in /Users/Andrew/CS/classes/senior_design/BUtLAR_Voice-Powered-Digital_Human_Assistant/.venv/lib/python3.12/site-packages (from google-auth>=1.0.1->kubernetes>=28.1.0->chromadb->vanna[chromadb,openai,postgres]) (5.5.0)\n",
      "Requirement already satisfied: pyasn1-modules>=0.2.1 in /Users/Andrew/CS/classes/senior_design/BUtLAR_Voice-Powered-Digital_Human_Assistant/.venv/lib/python3.12/site-packages (from google-auth>=1.0.1->kubernetes>=28.1.0->chromadb->vanna[chromadb,openai,postgres]) (0.4.1)\n",
      "Requirement already satisfied: rsa<5,>=3.1.4 in /Users/Andrew/CS/classes/senior_design/BUtLAR_Voice-Powered-Digital_Human_Assistant/.venv/lib/python3.12/site-packages (from google-auth>=1.0.1->kubernetes>=28.1.0->chromadb->vanna[chromadb,openai,postgres]) (4.9)\n",
      "Requirement already satisfied: filelock in /Users/Andrew/CS/classes/senior_design/BUtLAR_Voice-Powered-Digital_Human_Assistant/.venv/lib/python3.12/site-packages (from huggingface-hub<1.0,>=0.16.4->tokenizers>=0.13.2->chromadb->vanna[chromadb,openai,postgres]) (3.16.1)\n",
      "Requirement already satisfied: fsspec>=2023.5.0 in /Users/Andrew/CS/classes/senior_design/BUtLAR_Voice-Powered-Digital_Human_Assistant/.venv/lib/python3.12/site-packages (from huggingface-hub<1.0,>=0.16.4->tokenizers>=0.13.2->chromadb->vanna[chromadb,openai,postgres]) (2024.9.0)\n",
      "Requirement already satisfied: zipp>=3.20 in /Users/Andrew/CS/classes/senior_design/BUtLAR_Voice-Powered-Digital_Human_Assistant/.venv/lib/python3.12/site-packages (from importlib-metadata<8.7.0,>=6.0->opentelemetry-api>=1.2.0->chromadb->vanna[chromadb,openai,postgres]) (3.21.0)\n",
      "Requirement already satisfied: mdurl~=0.1 in /Users/Andrew/CS/classes/senior_design/BUtLAR_Voice-Powered-Digital_Human_Assistant/.venv/lib/python3.12/site-packages (from markdown-it-py>=2.2.0->rich>=10.11.0->chromadb->vanna[chromadb,openai,postgres]) (0.1.2)\n",
      "Requirement already satisfied: humanfriendly>=9.1 in /Users/Andrew/CS/classes/senior_design/BUtLAR_Voice-Powered-Digital_Human_Assistant/.venv/lib/python3.12/site-packages (from coloredlogs->onnxruntime>=1.14.1->chromadb->vanna[chromadb,openai,postgres]) (10.0)\n",
      "Requirement already satisfied: mpmath<1.4,>=1.1.0 in /Users/Andrew/CS/classes/senior_design/BUtLAR_Voice-Powered-Digital_Human_Assistant/.venv/lib/python3.12/site-packages (from sympy->onnxruntime>=1.14.1->chromadb->vanna[chromadb,openai,postgres]) (1.3.0)\n",
      "Requirement already satisfied: pyasn1<0.7.0,>=0.4.6 in /Users/Andrew/CS/classes/senior_design/BUtLAR_Voice-Powered-Digital_Human_Assistant/.venv/lib/python3.12/site-packages (from pyasn1-modules>=0.2.1->google-auth>=1.0.1->kubernetes>=28.1.0->chromadb->vanna[chromadb,openai,postgres]) (0.6.1)\n",
      "Note: you may need to restart the kernel to use updated packages.\n"
     ]
    }
   ],
   "source": [
    "%pip install 'vanna[chromadb,openai,postgres]'"
   ]
  },
  {
   "cell_type": "code",
   "execution_count": null,
   "metadata": {},
   "outputs": [],
   "source": [
    "from vanna.openai import OpenAI_Chat\n",
    "from vanna.chromadb import ChromaDB_VectorStore\n",
    "from openai import OpenAI\n",
    "import os\n",
    "from dotenv import load_dotenv\n",
    "\n",
    "from contextlib import redirect_stdout, redirect_stderr\n",
    "import io"
   ]
  },
  {
   "cell_type": "markdown",
   "metadata": {},
   "source": [
    "## You will need to have the OpenAI key in the .env file, along with having it set to NEW_OPENAI_API_KEY=sk-...."
   ]
  },
  {
   "cell_type": "code",
   "execution_count": null,
   "metadata": {},
   "outputs": [],
   "source": [
    "# Load the .env file\n",
    "load_dotenv()\n",
    "\n",
    "# Retrieve the values using os.environ\n",
    "api_key = os.getenv('NEW_OPENAI_API_KEY')"
   ]
  },
  {
   "cell_type": "code",
   "execution_count": null,
   "metadata": {},
   "outputs": [],
   "source": [
    "print(f\"The value of the api_key is the {api_key}\")"
   ]
  },
  {
   "cell_type": "markdown",
   "metadata": {},
   "source": [
    "## Running this code will generate a chroma.sqlite3 file, which is likely the ChromaDB?"
   ]
  },
  {
   "cell_type": "markdown",
   "metadata": {},
   "source": [
    "The code below creates a chroma.sqlite3 file"
   ]
  },
  {
   "cell_type": "code",
   "execution_count": null,
   "metadata": {},
   "outputs": [],
   "source": [
    "class MyVanna(ChromaDB_VectorStore, OpenAI_Chat):\n",
    "    def __init__(self, config=None):\n",
    "        ChromaDB_VectorStore.__init__(self, config=config)\n",
    "        OpenAI_Chat.__init__(self, config=config)\n",
    "\n",
    "# Running this code creates the chroma.sqlite3 file\n",
    "vn = MyVanna(config={'api_key': api_key, 'model': 'gpt-3.5-turbo'})"
   ]
  },
  {
   "cell_type": "code",
   "execution_count": null,
   "metadata": {},
   "outputs": [],
   "source": [
    "import requests\n",
    "ip = requests.get('https://api.ipify.org').text\n",
    "print(f\"Your Colab runtime IP is: {ip}\")"
   ]
  },
  {
   "cell_type": "markdown",
   "metadata": {},
   "source": [
    "## Remember the host number might change! Change that whenever the VM stops running"
   ]
  },
  {
   "cell_type": "markdown",
   "metadata": {},
   "source": [
    "A sample of what the database looks like is in the csv of this code or in /Vanna/courses.csv"
   ]
  },
  {
   "cell_type": "code",
   "execution_count": null,
   "metadata": {},
   "outputs": [],
   "source": [
    "vn.connect_to_postgres(host='34.134.126.254', dbname='tutorialDB', user='postgres', password='butlar', port='5432')"
   ]
  },
  {
   "cell_type": "markdown",
   "metadata": {},
   "source": [
    "## Running this code will create the information schema (Directories full of training data and embeddings?)"
   ]
  },
  {
   "cell_type": "code",
   "execution_count": null,
   "metadata": {},
   "outputs": [],
   "source": [
    "# The information schema query may need some tweaking depending on your database. This is a good starting point.\n",
    "\n",
    "# This SQL code retrieves all the information across all the tables in all tables within a database.\n",
    "df_information_schema = vn.run_sql(\"SELECT * FROM INFORMATION_SCHEMA.COLUMNS\")\n",
    "\n",
    "# This will break up the information schema into bite-sized chunks that can be referenced by the LLM\n",
    "plan = vn.get_training_plan_generic(df_information_schema)"
   ]
  },
  {
   "cell_type": "code",
   "execution_count": null,
   "metadata": {},
   "outputs": [],
   "source": [
    "vn.train(plan=plan)"
   ]
  },
  {
   "cell_type": "code",
   "execution_count": null,
   "metadata": {},
   "outputs": [],
   "source": [
    "vn.train(documentation=\"My tables outline the coures for a college university. In each row you can see the college\" \\\n",
    "\"course with its respective course number and name, which professor teaches it, what times it runs from,\" \\\n",
    "\"where it meets, how many students can attend, and how many units the course is worth. \")"
   ]
  },
  {
   "cell_type": "code",
   "execution_count": null,
   "metadata": {},
   "outputs": [],
   "source": [
    "vn.train(documentation=\"The descr marks the course description. The course itself can be referenced as ENG EC or just EC. As an example\" \\\n",
    "\"the course description for ENG EC 520 is Digital Image Processing and Communication and it meets in building EPC in room 208.\")"
   ]
  },
  {
   "cell_type": "code",
   "execution_count": null,
   "metadata": {},
   "outputs": [],
   "source": [
    "# At any time you can inspect what training data the package is able to reference\n",
    "training_data = vn.get_training_data()\n",
    "training_data"
   ]
  },
  {
   "cell_type": "code",
   "execution_count": null,
   "metadata": {},
   "outputs": [],
   "source": [
    "vn.train(documentation=\"The ENG identifier in the college column stands for Engineering. However, \" \\\n",
    "\"anytime it a course is referenced as EC 311 for example, ENG is implied. So the whole course\" \\\n",
    "\"code for EC 311 would be ENG EC 311.\")"
   ]
  },
  {
   "cell_type": "code",
   "execution_count": null,
   "metadata": {},
   "outputs": [],
   "source": [
    "vn.train(documentation=\"For the locations, PHO stands for Photonics. When a question liked which classes are taught in Photonics or photonics,\" \\\n",
    "\"this question is asking which courses are located in PHO?\")"
   ]
  },
  {
   "cell_type": "code",
   "execution_count": null,
   "metadata": {},
   "outputs": [],
   "source": [
    "# You can remove training data if there's obsolete/incorrect information.\n",
    "# vn.remove_training_data(id='5dc9b25e-6409-51b3-9ae7-1e51152309b8-doc')\n",
    "# training_data"
   ]
  },
  {
   "cell_type": "code",
   "execution_count": null,
   "metadata": {},
   "outputs": [],
   "source": [
    "# %%capture captured_output\n",
    "my_question = \"What is the course description of EC 522?\"\n",
    "response = vn.ask(question=my_question, allow_llm_to_see_data=True)"
   ]
  },
  {
   "cell_type": "code",
   "execution_count": null,
   "metadata": {},
   "outputs": [],
   "source": [
    "capt_vanna_ans= captured_output.stdout\n",
    "if \"ERROR\" not in capt_vanna_ans:\n",
    "    lines = capt_vanna_ans.splitlines()\n",
    "\n",
    "    SQL_query_commands = [\"SELECT\", \"AND\", \"WHERE\", \"FROM\", \";\", \"gpt\", \"SQL\", \"LLM\", \"`\"]\n",
    "    filtered_lines = [line for line in lines if not any(substring in line for substring in SQL_query_commands)]\n",
    "    vanna_ans_tables = \"\\n\".join(filtered_lines)\n",
    "\n",
    "    print(vanna_ans_tables)\n",
    "else:\n",
    "    print(\"Bruh happened\")"
   ]
  },
  {
   "cell_type": "code",
   "execution_count": null,
   "metadata": {},
   "outputs": [],
   "source": [
    "client = OpenAI()\n",
    "client.api_key = api_key\n",
    "\n",
    "completion = client.chat.completions.create(\n",
    "  model=\"gpt-3.5-turbo\",\n",
    "  messages=[\n",
    "    {\"role\": \"developer\", \"content\": \"You are a helpful assistant in interpreting data tables into complete sentences and an intelligible response.\"},\n",
    "    {\"role\": \"user\", \"content\": f\"Answer the question of: {my_question}, given this data table of{vanna_ans_tables}\"}\n",
    "  ]\n",
    ")\n",
    "\n",
    "print(completion.choices[0].message.content)\n"
   ]
  },
  {
   "cell_type": "code",
   "execution_count": null,
   "metadata": {},
   "outputs": [],
   "source": [
    "class MyVanna(ChromaDB_VectorStore, OpenAI_Chat):\n",
    "    def __init__(self, config=None):\n",
    "        ChromaDB_VectorStore.__init__(self, config=config)\n",
    "        OpenAI_Chat.__init__(self, config=config)\n",
    "\n",
    "def answer_course_question_new(question: str):\n",
    "    vn = MyVanna(config={'api_key': api_key, 'model': 'gpt-3.5-turbo'})\n",
    "    vn.connect_to_postgres(host='34.134.126.254', dbname='tutorialDB', user='postgres', password='butlar', port='5432')\n",
    "    # training_data = vn.get_training_data()\n",
    "    # print(training_data)\n",
    "\n",
    "    dummy_output = io.StringIO()\n",
    "    dummy_error = io.StringIO()\n",
    "    with redirect_stdout(dummy_output), redirect_stderr(dummy_error):\n",
    "        response = vn.ask(question=question, allow_llm_to_see_data=True, print_results=False)\n",
    "    \n",
    "    if response[1]:\n",
    "        print(f\"The response is {response[1]}\")\n",
    "    return response[1]\n",
    "\n",
    "newple = answer_course_question_new(\"What courses does Tali Moreshet teach?\")"
   ]
  },
  {
   "cell_type": "code",
   "execution_count": null,
   "metadata": {},
   "outputs": [],
   "source": [
    "print(newple[1])"
   ]
  },
  {
   "cell_type": "code",
   "execution_count": null,
   "metadata": {},
   "outputs": [],
   "source": [
    "from vanna.flask import VannaFlaskApp\n",
    "app = VannaFlaskApp(vn)\n",
    "app.run()"
   ]
  }
 ],
 "metadata": {
  "kernelspec": {
   "display_name": "Python (Google Cloud)",
   "language": "python",
   "name": "google_cloud_env"
  },
  "language_info": {
   "codemirror_mode": {
    "name": "ipython",
    "version": 3
   },
   "file_extension": ".py",
   "mimetype": "text/x-python",
   "name": "python",
   "nbconvert_exporter": "python",
   "pygments_lexer": "ipython3",
   "version": "3.12.0"
  }
 },
 "nbformat": 4,
 "nbformat_minor": 2
}
