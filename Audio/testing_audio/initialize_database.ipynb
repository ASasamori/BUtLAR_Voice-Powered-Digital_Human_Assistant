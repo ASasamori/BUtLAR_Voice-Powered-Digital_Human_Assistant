{
 "cells": [
  {
   "cell_type": "code",
   "execution_count": null,
   "metadata": {},
   "outputs": [],
   "source": [
    "%pip install 'vanna[chromadb,openai,postgres]'"
   ]
  },
  {
   "cell_type": "code",
   "execution_count": 1,
   "metadata": {},
   "outputs": [],
   "source": [
    "from vanna.openai import OpenAI_Chat\n",
    "from vanna.chromadb import ChromaDB_VectorStore\n",
    "from openai import OpenAI\n",
    "import os\n",
    "from dotenv import load_dotenv\n",
    "\n",
    "from contextlib import redirect_stdout, redirect_stderr\n",
    "import io"
   ]
  },
  {
   "cell_type": "markdown",
   "metadata": {},
   "source": [
    "## You will need to have the OpenAI key in the .env file, along with having it set to NEW_OPENAI_API_KEY=sk-...."
   ]
  },
  {
   "cell_type": "code",
   "execution_count": 2,
   "metadata": {},
   "outputs": [],
   "source": [
    "# Load the .env file\n",
    "load_dotenv()\n",
    "\n",
    "# Retrieve the values using os.environ\n",
    "api_key = os.getenv('NEW_OPENAI_API_KEY')"
   ]
  },
  {
   "cell_type": "code",
   "execution_count": null,
   "metadata": {},
   "outputs": [],
   "source": [
    "print(f\"The value of the api_key is the {api_key}\")"
   ]
  },
  {
   "cell_type": "markdown",
   "metadata": {},
   "source": [
    "## Running this code will generate a chroma.sqlite3 file, which is likely the ChromaDB?"
   ]
  },
  {
   "cell_type": "markdown",
   "metadata": {},
   "source": [
    "The code below creates a chroma.sqlite3 file"
   ]
  },
  {
   "cell_type": "code",
   "execution_count": 3,
   "metadata": {},
   "outputs": [],
   "source": [
    "class MyVanna(ChromaDB_VectorStore, OpenAI_Chat):\n",
    "    def __init__(self, config=None):\n",
    "        ChromaDB_VectorStore.__init__(self, config=config)\n",
    "        OpenAI_Chat.__init__(self, config=config)\n",
    "\n",
    "# Running this code creates the chroma.sqlite3 file\n",
    "vn = MyVanna(config={'api_key': api_key, 'model': 'gpt-3.5-turbo'})"
   ]
  },
  {
   "cell_type": "code",
   "execution_count": null,
   "metadata": {},
   "outputs": [],
   "source": [
    "import requests\n",
    "ip = requests.get('https://api.ipify.org').text\n",
    "print(f\"Your Colab runtime IP is: {ip}\")"
   ]
  },
  {
   "cell_type": "markdown",
   "metadata": {},
   "source": [
    "## Remember the host number might change! Change that whenever the VM stops running"
   ]
  },
  {
   "cell_type": "markdown",
   "metadata": {},
   "source": [
    "A sample of what the database looks like is in the csv of this code or in /Vanna/courses.csv"
   ]
  },
  {
   "cell_type": "code",
   "execution_count": 4,
   "metadata": {},
   "outputs": [],
   "source": [
    "vn.connect_to_postgres(host='34.9.3.158', dbname='ece_day_db', user='postgres', password='butlar', port='5432')"
   ]
  },
  {
   "cell_type": "markdown",
   "metadata": {},
   "source": [
    "## Running this code will create the information schema (Directories full of training data and embeddings?)"
   ]
  },
  {
   "cell_type": "code",
   "execution_count": 5,
   "metadata": {},
   "outputs": [],
   "source": [
    "# The information schema query may need some tweaking depending on your database. This is a good starting point.\n",
    "\n",
    "# This SQL code retrieves all the information across all the tables in all tables within a database.\n",
    "df_information_schema = vn.run_sql(\"SELECT * FROM INFORMATION_SCHEMA.COLUMNS\")\n",
    "\n",
    "\n",
    "# This will break up the information schema into bite-sized chunks that can be referenced by the LLM\n",
    "plan = vn.get_training_plan_generic(df_information_schema)"
   ]
  },
  {
   "cell_type": "code",
   "execution_count": 6,
   "metadata": {},
   "outputs": [],
   "source": [
    "vn.train(plan=plan)"
   ]
  },
  {
   "cell_type": "code",
   "execution_count": 7,
   "metadata": {},
   "outputs": [
    {
     "data": {
      "text/html": [
       "<div>\n",
       "<style scoped>\n",
       "    .dataframe tbody tr th:only-of-type {\n",
       "        vertical-align: middle;\n",
       "    }\n",
       "\n",
       "    .dataframe tbody tr th {\n",
       "        vertical-align: top;\n",
       "    }\n",
       "\n",
       "    .dataframe thead th {\n",
       "        text-align: right;\n",
       "    }\n",
       "</style>\n",
       "<table border=\"1\" class=\"dataframe\">\n",
       "  <thead>\n",
       "    <tr style=\"text-align: right;\">\n",
       "      <th></th>\n",
       "      <th>id</th>\n",
       "      <th>question</th>\n",
       "      <th>content</th>\n",
       "      <th>training_data_type</th>\n",
       "    </tr>\n",
       "  </thead>\n",
       "  <tbody>\n",
       "    <tr>\n",
       "      <th>0</th>\n",
       "      <td>7458e153-9934-539e-a38e-abd7448607c9-doc</td>\n",
       "      <td>None</td>\n",
       "      <td>The following columns are in the pg_type table...</td>\n",
       "      <td>documentation</td>\n",
       "    </tr>\n",
       "    <tr>\n",
       "      <th>1</th>\n",
       "      <td>5939b086-28e7-591b-a300-ef5c130ced98-doc</td>\n",
       "      <td>None</td>\n",
       "      <td>The following columns are in the pg_language t...</td>\n",
       "      <td>documentation</td>\n",
       "    </tr>\n",
       "    <tr>\n",
       "      <th>2</th>\n",
       "      <td>802fdd13-31bc-56a0-a856-67aecc7390e2-doc</td>\n",
       "      <td>None</td>\n",
       "      <td>The following columns are in the pg_class tabl...</td>\n",
       "      <td>documentation</td>\n",
       "    </tr>\n",
       "    <tr>\n",
       "      <th>3</th>\n",
       "      <td>144df4b3-3295-588f-9b1a-06641a83b46b-doc</td>\n",
       "      <td>None</td>\n",
       "      <td>The following columns are in the pg_stat_sys_i...</td>\n",
       "      <td>documentation</td>\n",
       "    </tr>\n",
       "    <tr>\n",
       "      <th>4</th>\n",
       "      <td>eb3d7405-6031-558c-ab12-83b536ed6f5e-doc</td>\n",
       "      <td>None</td>\n",
       "      <td>The following columns are in the pg_stat_ssl t...</td>\n",
       "      <td>documentation</td>\n",
       "    </tr>\n",
       "    <tr>\n",
       "      <th>...</th>\n",
       "      <td>...</td>\n",
       "      <td>...</td>\n",
       "      <td>...</td>\n",
       "      <td>...</td>\n",
       "    </tr>\n",
       "    <tr>\n",
       "      <th>205</th>\n",
       "      <td>e93b3320-1224-56a2-8ad9-4f6f5e216f9f-doc</td>\n",
       "      <td>None</td>\n",
       "      <td>The following columns are in the sql_parts tab...</td>\n",
       "      <td>documentation</td>\n",
       "    </tr>\n",
       "    <tr>\n",
       "      <th>206</th>\n",
       "      <td>b8b56f68-f2b4-5429-9bb8-5a31818fda90-doc</td>\n",
       "      <td>None</td>\n",
       "      <td>The following columns are in the collations ta...</td>\n",
       "      <td>documentation</td>\n",
       "    </tr>\n",
       "    <tr>\n",
       "      <th>207</th>\n",
       "      <td>c064f41b-6cd8-549a-b5de-c8f8ba89b7f7-doc</td>\n",
       "      <td>None</td>\n",
       "      <td>The following columns are in the enabled_roles...</td>\n",
       "      <td>documentation</td>\n",
       "    </tr>\n",
       "    <tr>\n",
       "      <th>208</th>\n",
       "      <td>039b55f7-a0de-5a72-9262-37f995b65c9f-doc</td>\n",
       "      <td>None</td>\n",
       "      <td>The following columns are in the team_members ...</td>\n",
       "      <td>documentation</td>\n",
       "    </tr>\n",
       "    <tr>\n",
       "      <th>209</th>\n",
       "      <td>57c40bef-0fd1-5de2-a50f-12c85ca3887a-doc</td>\n",
       "      <td>None</td>\n",
       "      <td>The following columns are in the teams table i...</td>\n",
       "      <td>documentation</td>\n",
       "    </tr>\n",
       "  </tbody>\n",
       "</table>\n",
       "<p>210 rows × 4 columns</p>\n",
       "</div>"
      ],
      "text/plain": [
       "                                           id question  \\\n",
       "0    7458e153-9934-539e-a38e-abd7448607c9-doc     None   \n",
       "1    5939b086-28e7-591b-a300-ef5c130ced98-doc     None   \n",
       "2    802fdd13-31bc-56a0-a856-67aecc7390e2-doc     None   \n",
       "3    144df4b3-3295-588f-9b1a-06641a83b46b-doc     None   \n",
       "4    eb3d7405-6031-558c-ab12-83b536ed6f5e-doc     None   \n",
       "..                                        ...      ...   \n",
       "205  e93b3320-1224-56a2-8ad9-4f6f5e216f9f-doc     None   \n",
       "206  b8b56f68-f2b4-5429-9bb8-5a31818fda90-doc     None   \n",
       "207  c064f41b-6cd8-549a-b5de-c8f8ba89b7f7-doc     None   \n",
       "208  039b55f7-a0de-5a72-9262-37f995b65c9f-doc     None   \n",
       "209  57c40bef-0fd1-5de2-a50f-12c85ca3887a-doc     None   \n",
       "\n",
       "                                               content training_data_type  \n",
       "0    The following columns are in the pg_type table...      documentation  \n",
       "1    The following columns are in the pg_language t...      documentation  \n",
       "2    The following columns are in the pg_class tabl...      documentation  \n",
       "3    The following columns are in the pg_stat_sys_i...      documentation  \n",
       "4    The following columns are in the pg_stat_ssl t...      documentation  \n",
       "..                                                 ...                ...  \n",
       "205  The following columns are in the sql_parts tab...      documentation  \n",
       "206  The following columns are in the collations ta...      documentation  \n",
       "207  The following columns are in the enabled_roles...      documentation  \n",
       "208  The following columns are in the team_members ...      documentation  \n",
       "209  The following columns are in the teams table i...      documentation  \n",
       "\n",
       "[210 rows x 4 columns]"
      ]
     },
     "execution_count": 7,
     "metadata": {},
     "output_type": "execute_result"
    }
   ],
   "source": [
    "# At any time you can inspect what training data the package is able to reference\n",
    "training_data = vn.get_training_data()\n",
    "training_data"
   ]
  },
  {
   "cell_type": "code",
   "execution_count": 8,
   "metadata": {},
   "outputs": [
    {
     "name": "stdout",
     "output_type": "stream",
     "text": [
      "Adding documentation....\n"
     ]
    },
    {
     "data": {
      "text/plain": [
       "'674f636d-fd7a-5a99-9d6b-2cfe54843276-doc'"
      ]
     },
     "execution_count": 8,
     "metadata": {},
     "output_type": "execute_result"
    }
   ],
   "source": [
    "vn.train(documentation=\"Associate location as where. So for example, 'Where is Team 12?' should respond with 'Table 12'\")"
   ]
  },
  {
   "cell_type": "code",
   "execution_count": 9,
   "metadata": {},
   "outputs": [
    {
     "name": "stdout",
     "output_type": "stream",
     "text": [
      "Adding documentation....\n"
     ]
    },
    {
     "data": {
      "text/plain": [
       "'808468bd-5748-54a2-a9b7-6b4526c76830-doc'"
      ]
     },
     "execution_count": 9,
     "metadata": {},
     "output_type": "execute_result"
    }
   ],
   "source": [
    "vn.train(documentation=\"My database outlines each group within Boston University senior Electrical and Computer Engineering (ECE) design course. The ECE Senior Design capstone course serves as an opportunity \" \\\n",
    "\"for students to execute the education they have gained in the\" \\\n",
    "\"classroom throughout their undergraduate careers, in order to\" \\\n",
    "\"produce prototypes for real-world clients. Student teams serve\" \\\n",
    "\"volunteer customers drawn from industry, government, small\" \\\n",
    "\"businesses, non-profits, schools, artists, faculty, and staff. \")"
   ]
  },
  {
   "cell_type": "code",
   "execution_count": 10,
   "metadata": {},
   "outputs": [
    {
     "name": "stdout",
     "output_type": "stream",
     "text": [
      "Adding documentation....\n"
     ]
    },
    {
     "data": {
      "text/plain": [
       "'22426660-764f-520f-945c-6e1ca9441954-doc'"
      ]
     },
     "execution_count": 10,
     "metadata": {},
     "output_type": "execute_result"
    }
   ],
   "source": [
    "vn.train(documentation=\"Asking about one person's project would return all of the group members. So when I ask 'Who are Ivan Garcia's\" \\\n",
    "\"group mates, it should respond Rohan Kumar, Harlan Jones, Karl Naba'\")"
   ]
  },
  {
   "cell_type": "code",
   "execution_count": 11,
   "metadata": {},
   "outputs": [
    {
     "name": "stdout",
     "output_type": "stream",
     "text": [
      "Adding documentation....\n"
     ]
    },
    {
     "data": {
      "text/plain": [
       "'0abb6086-e669-5bf1-8291-073bbeb20801-doc'"
      ]
     },
     "execution_count": 11,
     "metadata": {},
     "output_type": "execute_result"
    }
   ],
   "source": [
    "vn.train(documentation=\"When I ask about someone's groupmates, make sure that you list the client as the client, so for team 15, the client would be Emily Lam\")"
   ]
  },
  {
   "cell_type": "code",
   "execution_count": 6,
   "metadata": {},
   "outputs": [
    {
     "name": "stdout",
     "output_type": "stream",
     "text": [
      "Adding documentation....\n"
     ]
    },
    {
     "data": {
      "text/plain": [
       "'50a15d98-006f-59cc-b913-cc214247e5e6-doc'"
      ]
     },
     "execution_count": 6,
     "metadata": {},
     "output_type": "execute_result"
    }
   ],
   "source": [
    "vn.train(documentation=\"Associate each person with their project. It is possessive. So when I ask what is John Smith's project, you should parse through the abstract summary and give me their\" \\\n",
    "\"associated project.\")"
   ]
  },
  {
   "cell_type": "code",
   "execution_count": null,
   "metadata": {},
   "outputs": [],
   "source": [
    "# You can remove training data if there's obsolete/incorrect information.\n",
    "vn.remove_training_data(id='66230b0b-b604-5bad-96fe-99bc906f0502-doc')\n",
    "training_data"
   ]
  },
  {
   "cell_type": "code",
   "execution_count": null,
   "metadata": {},
   "outputs": [],
   "source": [
    "# %%capture captured_output\n",
    "my_question = \"How many student thesis projects are there? Can you give me an example about one of them?\"\n",
    "response = vn.ask(question=my_question, allow_llm_to_see_data=True)"
   ]
  },
  {
   "cell_type": "code",
   "execution_count": null,
   "metadata": {},
   "outputs": [],
   "source": [
    "capt_vanna_ans= captured_output.stdout\n",
    "if \"ERROR\" not in capt_vanna_ans:\n",
    "    lines = capt_vanna_ans.splitlines()\n",
    "\n",
    "    SQL_query_commands = [\"SELECT\", \"AND\", \"WHERE\", \"FROM\", \";\", \"gpt\", \"SQL\", \"LLM\", \"`\"]\n",
    "    filtered_lines = [line for line in lines if not any(substring in line for substring in SQL_query_commands)]\n",
    "    vanna_ans_tables = \"\\n\".join(filtered_lines)\n",
    "\n",
    "    print(vanna_ans_tables)\n",
    "else:\n",
    "    print(\"Bruh happened\")"
   ]
  },
  {
   "cell_type": "code",
   "execution_count": null,
   "metadata": {},
   "outputs": [],
   "source": [
    "client = OpenAI()\n",
    "client.api_key = api_key\n",
    "\n",
    "completion = client.chat.completions.create(\n",
    "  model=\"gpt-3.5-turbo\",\n",
    "  messages=[\n",
    "    {\"role\": \"developer\", \"content\": \"You are a helpful assistant in interpreting data tables into complete sentences and an intelligible response.\"},\n",
    "    {\"role\": \"user\", \"content\": f\"Answer the question of: {my_question}, given this data table of{vanna_ans_tables}\"}\n",
    "  ]\n",
    ")\n",
    "\n",
    "print(completion.choices[0].message.content)\n"
   ]
  },
  {
   "cell_type": "code",
   "execution_count": null,
   "metadata": {},
   "outputs": [],
   "source": [
    "class MyVanna(ChromaDB_VectorStore, OpenAI_Chat):\n",
    "    def __init__(self, config=None):\n",
    "        ChromaDB_VectorStore.__init__(self, config=config)\n",
    "        OpenAI_Chat.__init__(self, config=config)\n",
    "\n",
    "def answer_course_question_new(question: str):\n",
    "    vn = MyVanna(config={'api_key': api_key, 'model': 'gpt-3.5-turbo'})\n",
    "    vn.connect_to_postgres(host='34.134.126.254', dbname='tutorialDB', user='postgres', password='butlar', port='5432')\n",
    "    # training_data = vn.get_training_data()\n",
    "    # print(training_data)\n",
    "\n",
    "    dummy_output = io.StringIO()\n",
    "    dummy_error = io.StringIO()\n",
    "    with redirect_stdout(dummy_output), redirect_stderr(dummy_error):\n",
    "        response = vn.ask(question=question, allow_llm_to_see_data=True, print_results=False)\n",
    "    \n",
    "    if response[1]:\n",
    "        print(f\"The response is {response[1]}\")\n",
    "    return response[1]\n",
    "\n",
    "newple = answer_course_question_new(\"What courses does Tali Moreshet teach?\")"
   ]
  },
  {
   "cell_type": "code",
   "execution_count": null,
   "metadata": {},
   "outputs": [],
   "source": [
    "print(newple[1])"
   ]
  },
  {
   "cell_type": "code",
   "execution_count": null,
   "metadata": {},
   "outputs": [],
   "source": [
    "from vanna.flask import VannaFlaskApp\n",
    "app = VannaFlaskApp(vn)\n",
    "app.run()"
   ]
  }
 ],
 "metadata": {
  "kernelspec": {
   "display_name": ".venv",
   "language": "python",
   "name": "python3"
  },
  "language_info": {
   "codemirror_mode": {
    "name": "ipython",
    "version": 3
   },
   "file_extension": ".py",
   "mimetype": "text/x-python",
   "name": "python",
   "nbconvert_exporter": "python",
   "pygments_lexer": "ipython3",
   "version": "3.12.0"
  }
 },
 "nbformat": 4,
 "nbformat_minor": 2
}
