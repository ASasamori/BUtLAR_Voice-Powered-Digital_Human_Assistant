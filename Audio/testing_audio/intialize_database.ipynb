{
 "cells": [
  {
   "cell_type": "code",
   "execution_count": null,
   "metadata": {},
   "outputs": [],
   "source": [
    "%pip install 'vanna[chromadb,openai,postgres]'"
   ]
  },
  {
   "cell_type": "code",
   "execution_count": null,
   "metadata": {},
   "outputs": [],
   "source": [
    "from vanna.openai import OpenAI_Chat\n",
    "from vanna.chromadb import ChromaDB_VectorStore\n",
    "from openai import OpenAI\n",
    "import os\n",
    "from dotenv import load_dotenv\n",
    "\n",
    "from contextlib import redirect_stdout, redirect_stderr\n",
    "import io"
   ]
  },
  {
   "cell_type": "markdown",
   "metadata": {},
   "source": [
    "## You will need to have the OpenAI key in the .env file, along with having it set to NEW_OPENAI_API_KEY=sk-...."
   ]
  },
  {
   "cell_type": "code",
   "execution_count": 2,
   "metadata": {},
   "outputs": [],
   "source": [
    "# Load the .env file\n",
    "load_dotenv()\n",
    "\n",
    "# Retrieve the values using os.environ\n",
    "api_key = os.getenv('NEW_OPENAI_API_KEY')"
   ]
  },
  {
   "cell_type": "code",
   "execution_count": null,
   "metadata": {},
   "outputs": [],
   "source": [
    "print(f\"The value of the api_key is the {api_key}\")"
   ]
  },
  {
   "cell_type": "markdown",
   "metadata": {},
   "source": [
    "## Running this code will generate a chroma.sqlite3 file, which is likely the ChromaDB?"
   ]
  },
  {
   "cell_type": "markdown",
   "metadata": {},
   "source": [
    "The code below creates a chroma.sqlite3 file"
   ]
  },
  {
   "cell_type": "code",
   "execution_count": 3,
   "metadata": {},
   "outputs": [],
   "source": [
    "class MyVanna(ChromaDB_VectorStore, OpenAI_Chat):\n",
    "    def __init__(self, config=None):\n",
    "        ChromaDB_VectorStore.__init__(self, config=config)\n",
    "        OpenAI_Chat.__init__(self, config=config)\n",
    "\n",
    "# Running this code creates the chroma.sqlite3 file\n",
    "vn = MyVanna(config={'api_key': api_key, 'model': 'gpt-3.5-turbo'})"
   ]
  },
  {
   "cell_type": "code",
   "execution_count": null,
   "metadata": {},
   "outputs": [],
   "source": [
    "import requests\n",
    "ip = requests.get('https://api.ipify.org').text\n",
    "print(f\"Your Colab runtime IP is: {ip}\")"
   ]
  },
  {
   "cell_type": "markdown",
   "metadata": {},
   "source": [
    "## Remember the host number might change! Change that whenever the VM stops running"
   ]
  },
  {
   "cell_type": "markdown",
   "metadata": {},
   "source": [
    "A sample of what the database looks like is in the csv of this code or in /Vanna/courses.csv"
   ]
  },
  {
   "cell_type": "code",
   "execution_count": 4,
   "metadata": {},
   "outputs": [],
   "source": [
    "vn.connect_to_postgres(host='35.226.19.55', dbname='ece_day_db', user='postgres', password='butlar', port='5432')"
   ]
  },
  {
   "cell_type": "markdown",
   "metadata": {},
   "source": [
    "## Running this code will create the information schema (Directories full of training data and embeddings?)"
   ]
  },
  {
   "cell_type": "code",
   "execution_count": null,
   "metadata": {},
   "outputs": [],
   "source": [
    "# The information schema query may need some tweaking depending on your database. This is a good starting point.\n",
    "\n",
    "# This SQL code retrieves all the information across all the tables in all tables within a database.\n",
    "df_information_schema = vn.run_sql(\"SELECT * FROM INFORMATION_SCHEMA.COLUMNS\")\n",
    "\n",
    "\n",
    "# This will break up the information schema into bite-sized chunks that can be referenced by the LLM\n",
    "plan = vn.get_training_plan_generic(df_information_schema)"
   ]
  },
  {
   "cell_type": "code",
   "execution_count": null,
   "metadata": {},
   "outputs": [],
   "source": [
    "vn.train(plan=plan)"
   ]
  },
  {
   "cell_type": "code",
   "execution_count": null,
   "metadata": {},
   "outputs": [],
   "source": [
    "# At any time you can inspect what training data the package is able to reference\n",
    "training_data = vn.get_training_data()\n",
    "training_data"
   ]
  },
  {
   "cell_type": "code",
   "execution_count": null,
   "metadata": {},
   "outputs": [],
   "source": [
    "vn.train(documentation=\"Student thesis lie in the team_name section of the datatable. So for example, Wiktor's project is a student thesis.\")"
   ]
  },
  {
   "cell_type": "code",
   "execution_count": null,
   "metadata": {},
   "outputs": [],
   "source": [
    "vn.train(documentation=\"My database outlines each group within Boston University senior Electrical and Computer Engineering (ECE) design course. The ECE Senior Design capstone course serves as an opportunity \" \\\n",
    "\"for students to execute the education they have gained in the\" \\\n",
    "\"classroom throughout their undergraduate careers, in order to\" \\\n",
    "\"produce prototypes for real-world clients. Student teams serve\" \\\n",
    "\"volunteer customers drawn from industry, government, small\" \\\n",
    "\"businesses, non-profits, schools, artists, faculty, and staff. \")"
   ]
  },
  {
   "cell_type": "code",
   "execution_count": 5,
   "metadata": {},
   "outputs": [
    {
     "name": "stdout",
     "output_type": "stream",
     "text": [
      "Adding documentation....\n"
     ]
    },
    {
     "data": {
      "text/plain": [
       "'a4c3c0c9-f124-581b-84b4-50a9d93ef491-doc'"
      ]
     },
     "execution_count": 5,
     "metadata": {},
     "output_type": "execute_result"
    }
   ],
   "source": [
    "vn.train(documentation=\"For the team members, if I ask about a specific person, you should be able to prompt me with all of the other members. The team members are all part of the same project.\" \\\n",
    "\"The members of one project are all shared. The only individuals that have their own project are the student thesis students.\")"
   ]
  },
  {
   "cell_type": "code",
   "execution_count": 7,
   "metadata": {},
   "outputs": [
    {
     "name": "stdout",
     "output_type": "stream",
     "text": [
      "Adding documentation....\n"
     ]
    },
    {
     "data": {
      "text/plain": [
       "'d9ac4434-2ce1-5aa7-a0a0-2d3a18ba21c2-doc'"
      ]
     },
     "execution_count": 7,
     "metadata": {},
     "output_type": "execute_result"
    }
   ],
   "source": [
    "vn.train(documentation=\"When I ask about a specific location, such as 'where is the location of John Smith's group?' you should give me the team location associated with it\")"
   ]
  },
  {
   "cell_type": "code",
   "execution_count": 6,
   "metadata": {},
   "outputs": [
    {
     "name": "stdout",
     "output_type": "stream",
     "text": [
      "Adding documentation....\n"
     ]
    },
    {
     "data": {
      "text/plain": [
       "'50a15d98-006f-59cc-b913-cc214247e5e6-doc'"
      ]
     },
     "execution_count": 6,
     "metadata": {},
     "output_type": "execute_result"
    }
   ],
   "source": [
    "vn.train(documentation=\"Associate each person with their project. It is possessive. So when I ask what is John Smith's project, you should parse through the abstract summary and give me their\" \\\n",
    "\"associated project.\")"
   ]
  },
  {
   "cell_type": "code",
   "execution_count": null,
   "metadata": {},
   "outputs": [],
   "source": [
    "# You can remove training data if there's obsolete/incorrect information.\n",
    "vn.remove_training_data(id='66230b0b-b604-5bad-96fe-99bc906f0502-doc')\n",
    "training_data"
   ]
  },
  {
   "cell_type": "code",
   "execution_count": null,
   "metadata": {},
   "outputs": [],
   "source": [
    "# %%capture captured_output\n",
    "my_question = \"How many student thesis projects are there? Can you give me an example about one of them?\"\n",
    "response = vn.ask(question=my_question, allow_llm_to_see_data=True)"
   ]
  },
  {
   "cell_type": "code",
   "execution_count": null,
   "metadata": {},
   "outputs": [],
   "source": [
    "capt_vanna_ans= captured_output.stdout\n",
    "if \"ERROR\" not in capt_vanna_ans:\n",
    "    lines = capt_vanna_ans.splitlines()\n",
    "\n",
    "    SQL_query_commands = [\"SELECT\", \"AND\", \"WHERE\", \"FROM\", \";\", \"gpt\", \"SQL\", \"LLM\", \"`\"]\n",
    "    filtered_lines = [line for line in lines if not any(substring in line for substring in SQL_query_commands)]\n",
    "    vanna_ans_tables = \"\\n\".join(filtered_lines)\n",
    "\n",
    "    print(vanna_ans_tables)\n",
    "else:\n",
    "    print(\"Bruh happened\")"
   ]
  },
  {
   "cell_type": "code",
   "execution_count": null,
   "metadata": {},
   "outputs": [],
   "source": [
    "client = OpenAI()\n",
    "client.api_key = api_key\n",
    "\n",
    "completion = client.chat.completions.create(\n",
    "  model=\"gpt-3.5-turbo\",\n",
    "  messages=[\n",
    "    {\"role\": \"developer\", \"content\": \"You are a helpful assistant in interpreting data tables into complete sentences and an intelligible response.\"},\n",
    "    {\"role\": \"user\", \"content\": f\"Answer the question of: {my_question}, given this data table of{vanna_ans_tables}\"}\n",
    "  ]\n",
    ")\n",
    "\n",
    "print(completion.choices[0].message.content)\n"
   ]
  },
  {
   "cell_type": "code",
   "execution_count": null,
   "metadata": {},
   "outputs": [],
   "source": [
    "class MyVanna(ChromaDB_VectorStore, OpenAI_Chat):\n",
    "    def __init__(self, config=None):\n",
    "        ChromaDB_VectorStore.__init__(self, config=config)\n",
    "        OpenAI_Chat.__init__(self, config=config)\n",
    "\n",
    "def answer_course_question_new(question: str):\n",
    "    vn = MyVanna(config={'api_key': api_key, 'model': 'gpt-3.5-turbo'})\n",
    "    vn.connect_to_postgres(host='34.134.126.254', dbname='tutorialDB', user='postgres', password='butlar', port='5432')\n",
    "    # training_data = vn.get_training_data()\n",
    "    # print(training_data)\n",
    "\n",
    "    dummy_output = io.StringIO()\n",
    "    dummy_error = io.StringIO()\n",
    "    with redirect_stdout(dummy_output), redirect_stderr(dummy_error):\n",
    "        response = vn.ask(question=question, allow_llm_to_see_data=True, print_results=False)\n",
    "    \n",
    "    if response[1]:\n",
    "        print(f\"The response is {response[1]}\")\n",
    "    return response[1]\n",
    "\n",
    "newple = answer_course_question_new(\"What courses does Tali Moreshet teach?\")"
   ]
  },
  {
   "cell_type": "code",
   "execution_count": null,
   "metadata": {},
   "outputs": [],
   "source": [
    "print(newple[1])"
   ]
  },
  {
   "cell_type": "code",
   "execution_count": null,
   "metadata": {},
   "outputs": [],
   "source": [
    "from vanna.flask import VannaFlaskApp\n",
    "app = VannaFlaskApp(vn)\n",
    "app.run()"
   ]
  }
 ],
 "metadata": {
  "kernelspec": {
   "display_name": ".venv",
   "language": "python",
   "name": "python3"
  },
  "language_info": {
   "codemirror_mode": {
    "name": "ipython",
    "version": 3
   },
   "file_extension": ".py",
   "mimetype": "text/x-python",
   "name": "python",
   "nbconvert_exporter": "python",
   "pygments_lexer": "ipython3",
   "version": "3.12.0"
  }
 },
 "nbformat": 4,
 "nbformat_minor": 2
}
